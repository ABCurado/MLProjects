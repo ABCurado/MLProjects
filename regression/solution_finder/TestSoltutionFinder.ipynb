{
 "cells": [
  {
   "cell_type": "code",
   "execution_count": 1,
   "metadata": {},
   "outputs": [
    {
     "name": "stdout",
     "output_type": "stream",
     "text": [
      "Using TensorFlow backend.\n",
      "7\n",
      "Number of cpu cores: 8\n",
      "\n",
      "Seed,Algorithm,time,mean_s_error,explained_variance,final_tree_size\n",
      "multiprocessing.pool.RemoteTraceback: \n",
      "\"\"\"\n",
      "Traceback (most recent call last):\n",
      "  File \"/opt/conda/lib/python3.7/multiprocessing/pool.py\", line 121, in worker\n",
      "    result = (True, func(*args, **kwds))\n",
      "  File \"/opt/conda/lib/python3.7/multiprocessing/pool.py\", line 47, in starmapstar\n",
      "    return list(itertools.starmap(args[0], args[1]))\n",
      "  File \"solution_finder_operators.py\", line 87, in algo_run\n",
      "    model_eval.fit(X_train, y_train)\n",
      "  File \"/home/jovyan/work/2_Semester/Machine Learning/MLProjects/regression/solution_finder/gplearn_MLAA/genetic.py\", line 1108, in fit\n",
      "    for i in range(n_jobs))\n",
      "  File \"/opt/conda/lib/python3.7/site-packages/joblib/parallel.py\", line 921, in __call__\n",
      "    if self.dispatch_one_batch(iterator):\n",
      "  File \"/opt/conda/lib/python3.7/site-packages/joblib/parallel.py\", line 754, in dispatch_one_batch\n",
      "    self._pickle_cache)\n",
      "  File \"/opt/conda/lib/python3.7/site-packages/joblib/parallel.py\", line 210, in __init__\n",
      "    self.items = list(iterator_slice)\n",
      "  File \"/home/jovyan/work/2_Semester/Machine Learning/MLProjects/regression/solution_finder/gplearn_MLAA/genetic.py\", line 1108, in <genexpr>\n",
      "    for i in range(n_jobs))\n",
      "NameError: free variable 'term_probs' referenced before assignment in enclosing scope\n",
      "\"\"\"\n",
      "\n",
      "The above exception was the direct cause of the following exception:\n",
      "\n",
      "Traceback (most recent call last):\n",
      "  File \"solution_finder_operators.py\", line 141, in <module>\n",
      "    results = pool.starmap(algo_run, possible_values)\n",
      "  File \"/opt/conda/lib/python3.7/multiprocessing/pool.py\", line 298, in starmap\n",
      "    return self._map_async(func, iterable, starmapstar, chunksize).get()\n",
      "  File \"/opt/conda/lib/python3.7/multiprocessing/pool.py\", line 683, in get\n",
      "    raise self._value\n",
      "NameError: free variable 'term_probs' referenced before assignment in enclosing scope\n"
     ]
    }
   ],
   "source": [
    "!python3 solution_finder_operators.py"
   ]
  }
 ],
 "metadata": {
  "kernelspec": {
   "display_name": "Python 3",
   "language": "python",
   "name": "python3"
  },
  "language_info": {
   "codemirror_mode": {
    "name": "ipython",
    "version": 3
   },
   "file_extension": ".py",
   "mimetype": "text/x-python",
   "name": "python",
   "nbconvert_exporter": "python",
   "pygments_lexer": "ipython3",
   "version": "3.7.1"
  }
 },
 "nbformat": 4,
 "nbformat_minor": 2
}
