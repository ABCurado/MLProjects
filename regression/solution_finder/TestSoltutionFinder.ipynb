{
 "cells": [
  {
   "cell_type": "code",
   "execution_count": 40,
   "metadata": {},
   "outputs": [
    {
     "name": "stdout",
     "output_type": "stream",
     "text": [
      "/opt/conda/lib/python3.6/site-packages/h5py/__init__.py:36: FutureWarning: Conversion of the second argument of issubdtype from `float` to `np.floating` is deprecated. In future, it will be treated as `np.float64 == np.dtype(float).type`.\n",
      "  from ._conv import register_converters as _register_converters\n",
      "Using TensorFlow backend.\n",
      "5\n",
      "Number of cpu cores: 4\n",
      "\n",
      "Seed,Algorithm,Parameters,Preprocessing Pipeline,Scaling,Sampling,time,mean_s_error,explained_variance\n",
      "GS_GP: 6.641212742651116\n",
      "mul(first_male, Young-age dependency ratio)\n",
      "GS_GP: 3.7990259740259735\n",
      "CDS-PP\n",
      "GS_GP: 3.2835401885124202\n",
      "add(add(div(Current revenue, Manufacturing), add(div(Current revenue, Manufacturing), div(Current revenue, Manufacturing))), mul(x, third_male))\n",
      "GS_GP: 2.7233344363720544\n",
      "div(mul(Understudies and apprentices, Young-age dependency ratio), add(div(mul(mul(Understudies and apprentices, Young-age dependency ratio), Young-age dependency ratio), add(unemp_35 - 44, 1st cycle)), 1st cycle))\n",
      "GS_GP: 4.479492540450173\n",
      "mul(first_job_female, overall_65 or more)\n"
     ]
    }
   ],
   "source": [
    "!python3 solution_finder.py"
   ]
  }
 ],
 "metadata": {
  "kernelspec": {
   "display_name": "Python 3",
   "language": "python",
   "name": "python3"
  },
  "language_info": {
   "codemirror_mode": {
    "name": "ipython",
    "version": 3
   },
   "file_extension": ".py",
   "mimetype": "text/x-python",
   "name": "python",
   "nbconvert_exporter": "python",
   "pygments_lexer": "ipython3",
   "version": "3.6.3"
  }
 },
 "nbformat": 4,
 "nbformat_minor": 2
}
