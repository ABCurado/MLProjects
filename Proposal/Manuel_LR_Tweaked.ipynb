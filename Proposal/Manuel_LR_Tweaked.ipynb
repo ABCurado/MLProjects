{
 "cells": [
  {
   "cell_type": "markdown",
   "metadata": {},
   "source": [
    "## Linear Regression with threshold optimization\n",
    "Need to add crossvalidation"
   ]
  },
  {
   "cell_type": "code",
   "execution_count": 58,
   "metadata": {
    "scrolled": true
   },
   "outputs": [],
   "source": [
    "#Import all the files to be shared among all notebooks \n",
    "import utils\n",
    "import preprocessing\n",
    "import data_visualization\n",
    "import feature_engineering\n",
    "#from ML_algorithms import *\n",
    "import pandas as pd\n",
    "from seaborn import countplot"
   ]
  },
  {
   "cell_type": "code",
   "execution_count": 41,
   "metadata": {},
   "outputs": [
    {
     "name": "stdout",
     "output_type": "stream",
     "text": [
      "Collecting keras\n",
      "\u001b[33m  Retrying (Retry(total=4, connect=None, read=None, redirect=None, status=None)) after connection broken by 'NewConnectionError('<pip._vendor.urllib3.connection.VerifiedHTTPSConnection object at 0x7f5bae48b710>: Failed to establish a new connection: [Errno -3] Temporary failure in name resolution')': /simple/keras/\u001b[0m\n",
      "\u001b[33m  Retrying (Retry(total=3, connect=None, read=None, redirect=None, status=None)) after connection broken by 'NewConnectionError('<pip._vendor.urllib3.connection.VerifiedHTTPSConnection object at 0x7f5bae48b5f8>: Failed to establish a new connection: [Errno -3] Temporary failure in name resolution')': /simple/keras/\u001b[0m\n",
      "\u001b[33m  Retrying (Retry(total=2, connect=None, read=None, redirect=None, status=None)) after connection broken by 'NewConnectionError('<pip._vendor.urllib3.connection.VerifiedHTTPSConnection object at 0x7f5bae48b6a0>: Failed to establish a new connection: [Errno -3] Temporary failure in name resolution')': /simple/keras/\u001b[0m\n",
      "\u001b[33m  Retrying (Retry(total=1, connect=None, read=None, redirect=None, status=None)) after connection broken by 'NewConnectionError('<pip._vendor.urllib3.connection.VerifiedHTTPSConnection object at 0x7f5bae48b668>: Failed to establish a new connection: [Errno -3] Temporary failure in name resolution')': /simple/keras/\u001b[0m\n",
      "\u001b[33m  Retrying (Retry(total=0, connect=None, read=None, redirect=None, status=None)) after connection broken by 'NewConnectionError('<pip._vendor.urllib3.connection.VerifiedHTTPSConnection object at 0x7f5bae48b4a8>: Failed to establish a new connection: [Errno -3] Temporary failure in name resolution')': /simple/keras/\u001b[0m\n",
      "\u001b[31m  Could not find a version that satisfies the requirement keras (from versions: )\u001b[0m\n",
      "\u001b[31mNo matching distribution found for keras\u001b[0m\n"
     ]
    }
   ],
   "source": [
    "!pip install keras"
   ]
  },
  {
   "cell_type": "code",
   "execution_count": 59,
   "metadata": {},
   "outputs": [],
   "source": [
    "df = utils.get_dataset()"
   ]
  },
  {
   "cell_type": "code",
   "execution_count": 60,
   "metadata": {},
   "outputs": [],
   "source": [
    "df = preprocessing.encode_education(df)\n",
    "df = preprocessing.one_hot_encoding(df,columns = [\"Marital_Status\"])\n",
    "df = preprocessing.encode_days_as_costumer(df)\n",
    "df = feature_engineering.drop_useless_columns(df)"
   ]
  },
  {
   "cell_type": "code",
   "execution_count": 61,
   "metadata": {},
   "outputs": [],
   "source": [
    "df = preprocessing.impute_income_KNN(df)"
   ]
  },
  {
   "cell_type": "code",
   "execution_count": 62,
   "metadata": {},
   "outputs": [],
   "source": [
    "# get a list of all columns\n",
    "columns = df.columns.tolist()"
   ]
  },
  {
   "cell_type": "code",
   "execution_count": 63,
   "metadata": {},
   "outputs": [],
   "source": [
    "# remove target feature Response from the list\n",
    "columns.remove(\"Response\")"
   ]
  },
  {
   "cell_type": "code",
   "execution_count": 64,
   "metadata": {},
   "outputs": [
    {
     "data": {
      "text/plain": [
       "<matplotlib.axes._subplots.AxesSubplot at 0x7efc87d0ec88>"
      ]
     },
     "execution_count": 64,
     "metadata": {},
     "output_type": "execute_result"
    },
    {
     "data": {
      "image/png": "[encoded data removed]",
      "text/plain": [
       "<Figure size 432x288 with 1 Axes>"
      ]
     },
     "metadata": {
      "needs_background": "light"
     },
     "output_type": "display_data"
    }
   ],
   "source": [
    "# very imbalanced dataset\n",
    "countplot(x=\"Response\", data=df)"
   ]
  },
  {
   "cell_type": "code",
   "execution_count": 65,
   "metadata": {},
   "outputs": [],
   "source": [
    "seed = 0 "
   ]
  },
  {
   "cell_type": "code",
   "execution_count": 66,
   "metadata": {},
   "outputs": [],
   "source": [
    "# perform the train, test split\n",
    "X_train, X_test, y_train, y_test = utils.data_split(df, test_size=0.2, random_state=seed)"
   ]
  },
  {
   "cell_type": "raw",
   "metadata": {},
   "source": [
    "# Feature Scaling\n",
    "from sklearn.preprocessing import MinMaxScaler\n",
    "scaler = MinMaxScaler()\n",
    "X_train = scaler.fit_transform(X_train)\n",
    "X_test = scaler.transform(X_test)"
   ]
  },
  {
   "cell_type": "code",
   "execution_count": 67,
   "metadata": {},
   "outputs": [
    {
     "data": {
      "text/html": [
       "<div>\n",
       "<style scoped>\n",
       "    .dataframe tbody tr th:only-of-type {\n",
       "        vertical-align: middle;\n",
       "    }\n",
       "\n",
       "    .dataframe tbody tr th {\n",
       "        vertical-align: top;\n",
       "    }\n",
       "\n",
       "    .dataframe thead th {\n",
       "        text-align: right;\n",
       "    }\n",
       "</style>\n",
       "<table border=\"1\" class=\"dataframe\">\n",
       "  <thead>\n",
       "    <tr style=\"text-align: right;\">\n",
       "      <th></th>\n",
       "      <th>Year_Birth</th>\n",
       "      <th>Education</th>\n",
       "      <th>Income</th>\n",
       "      <th>Kidhome</th>\n",
       "      <th>Teenhome</th>\n",
       "      <th>Dt_Customer</th>\n",
       "      <th>Recency</th>\n",
       "      <th>MntWines</th>\n",
       "      <th>MntFruits</th>\n",
       "      <th>MntMeatProducts</th>\n",
       "      <th>...</th>\n",
       "      <th>AcceptedCmp2</th>\n",
       "      <th>Complain</th>\n",
       "      <th>Marital_Status_Absurd</th>\n",
       "      <th>Marital_Status_Alone</th>\n",
       "      <th>Marital_Status_Divorced</th>\n",
       "      <th>Marital_Status_Married</th>\n",
       "      <th>Marital_Status_Single</th>\n",
       "      <th>Marital_Status_Together</th>\n",
       "      <th>Marital_Status_Widow</th>\n",
       "      <th>Marital_Status_YOLO</th>\n",
       "    </tr>\n",
       "  </thead>\n",
       "  <tbody>\n",
       "    <tr>\n",
       "      <th>818</th>\n",
       "      <td>1972</td>\n",
       "      <td>2</td>\n",
       "      <td>65685.0</td>\n",
       "      <td>0</td>\n",
       "      <td>1</td>\n",
       "      <td>92</td>\n",
       "      <td>54</td>\n",
       "      <td>642</td>\n",
       "      <td>14</td>\n",
       "      <td>49</td>\n",
       "      <td>...</td>\n",
       "      <td>0</td>\n",
       "      <td>0</td>\n",
       "      <td>0</td>\n",
       "      <td>0</td>\n",
       "      <td>0</td>\n",
       "      <td>1</td>\n",
       "      <td>0</td>\n",
       "      <td>0</td>\n",
       "      <td>0</td>\n",
       "      <td>0</td>\n",
       "    </tr>\n",
       "    <tr>\n",
       "      <th>1281</th>\n",
       "      <td>1971</td>\n",
       "      <td>1</td>\n",
       "      <td>49118.0</td>\n",
       "      <td>0</td>\n",
       "      <td>0</td>\n",
       "      <td>680</td>\n",
       "      <td>90</td>\n",
       "      <td>620</td>\n",
       "      <td>54</td>\n",
       "      <td>239</td>\n",
       "      <td>...</td>\n",
       "      <td>1</td>\n",
       "      <td>0</td>\n",
       "      <td>0</td>\n",
       "      <td>0</td>\n",
       "      <td>1</td>\n",
       "      <td>0</td>\n",
       "      <td>0</td>\n",
       "      <td>0</td>\n",
       "      <td>0</td>\n",
       "      <td>0</td>\n",
       "    </tr>\n",
       "    <tr>\n",
       "      <th>1766</th>\n",
       "      <td>1980</td>\n",
       "      <td>4</td>\n",
       "      <td>36802.0</td>\n",
       "      <td>1</td>\n",
       "      <td>0</td>\n",
       "      <td>13</td>\n",
       "      <td>23</td>\n",
       "      <td>16</td>\n",
       "      <td>1</td>\n",
       "      <td>2</td>\n",
       "      <td>...</td>\n",
       "      <td>0</td>\n",
       "      <td>0</td>\n",
       "      <td>0</td>\n",
       "      <td>0</td>\n",
       "      <td>0</td>\n",
       "      <td>0</td>\n",
       "      <td>1</td>\n",
       "      <td>0</td>\n",
       "      <td>0</td>\n",
       "      <td>0</td>\n",
       "    </tr>\n",
       "    <tr>\n",
       "      <th>1577</th>\n",
       "      <td>1947</td>\n",
       "      <td>4</td>\n",
       "      <td>81574.0</td>\n",
       "      <td>0</td>\n",
       "      <td>0</td>\n",
       "      <td>62</td>\n",
       "      <td>89</td>\n",
       "      <td>1252</td>\n",
       "      <td>0</td>\n",
       "      <td>465</td>\n",
       "      <td>...</td>\n",
       "      <td>0</td>\n",
       "      <td>0</td>\n",
       "      <td>0</td>\n",
       "      <td>0</td>\n",
       "      <td>0</td>\n",
       "      <td>0</td>\n",
       "      <td>0</td>\n",
       "      <td>1</td>\n",
       "      <td>0</td>\n",
       "      <td>0</td>\n",
       "    </tr>\n",
       "    <tr>\n",
       "      <th>924</th>\n",
       "      <td>1986</td>\n",
       "      <td>2</td>\n",
       "      <td>83033.0</td>\n",
       "      <td>1</td>\n",
       "      <td>0</td>\n",
       "      <td>42</td>\n",
       "      <td>82</td>\n",
       "      <td>812</td>\n",
       "      <td>99</td>\n",
       "      <td>431</td>\n",
       "      <td>...</td>\n",
       "      <td>0</td>\n",
       "      <td>0</td>\n",
       "      <td>0</td>\n",
       "      <td>0</td>\n",
       "      <td>0</td>\n",
       "      <td>0</td>\n",
       "      <td>0</td>\n",
       "      <td>1</td>\n",
       "      <td>0</td>\n",
       "      <td>0</td>\n",
       "    </tr>\n",
       "  </tbody>\n",
       "</table>\n",
       "<p>5 rows × 32 columns</p>\n",
       "</div>"
      ],
      "text/plain": [
       "      Year_Birth  Education   Income  Kidhome  Teenhome  Dt_Customer  Recency  \\\n",
       "818         1972          2  65685.0        0         1           92       54   \n",
       "1281        1971          1  49118.0        0         0          680       90   \n",
       "1766        1980          4  36802.0        1         0           13       23   \n",
       "1577        1947          4  81574.0        0         0           62       89   \n",
       "924         1986          2  83033.0        1         0           42       82   \n",
       "\n",
       "      MntWines  MntFruits  MntMeatProducts  ...  AcceptedCmp2  Complain  \\\n",
       "818        642         14               49  ...             0         0   \n",
       "1281       620         54              239  ...             1         0   \n",
       "1766        16          1                2  ...             0         0   \n",
       "1577      1252          0              465  ...             0         0   \n",
       "924        812         99              431  ...             0         0   \n",
       "\n",
       "      Marital_Status_Absurd  Marital_Status_Alone  Marital_Status_Divorced  \\\n",
       "818                       0                     0                        0   \n",
       "1281                      0                     0                        1   \n",
       "1766                      0                     0                        0   \n",
       "1577                      0                     0                        0   \n",
       "924                       0                     0                        0   \n",
       "\n",
       "      Marital_Status_Married  Marital_Status_Single  Marital_Status_Together  \\\n",
       "818                        1                      0                        0   \n",
       "1281                       0                      0                        0   \n",
       "1766                       0                      1                        0   \n",
       "1577                       0                      0                        1   \n",
       "924                        0                      0                        1   \n",
       "\n",
       "      Marital_Status_Widow  Marital_Status_YOLO  \n",
       "818                      0                    0  \n",
       "1281                     0                    0  \n",
       "1766                     0                    0  \n",
       "1577                     0                    0  \n",
       "924                      0                    0  \n",
       "\n",
       "[5 rows x 32 columns]"
      ]
     },
     "execution_count": 67,
     "metadata": {},
     "output_type": "execute_result"
    }
   ],
   "source": [
    "X_train.head()"
   ]
  },
  {
   "cell_type": "code",
   "execution_count": 68,
   "metadata": {},
   "outputs": [],
   "source": [
    "yX_train = pd.concat([y_train, X_train], axis=1)"
   ]
  },
  {
   "cell_type": "code",
   "execution_count": 69,
   "metadata": {},
   "outputs": [],
   "source": [
    "corr = yX_train.corr()"
   ]
  },
  {
   "cell_type": "code",
   "execution_count": 70,
   "metadata": {},
   "outputs": [
    {
     "data": {
      "text/plain": [
       "Response                   1.000000\n",
       "Year_Birth                 0.021046\n",
       "Education                  0.087922\n",
       "Income                     0.103218\n",
       "Kidhome                   -0.066943\n",
       "Teenhome                  -0.154374\n",
       "Dt_Customer                0.181197\n",
       "Recency                   -0.186514\n",
       "MntWines                   0.232859\n",
       "MntFruits                  0.098639\n",
       "MntMeatProducts            0.198219\n",
       "MntFishProducts            0.089865\n",
       "MntSweetProducts           0.097654\n",
       "MntGoldProds               0.115828\n",
       "NumDealsPurchases          0.013933\n",
       "NumWebPurchases            0.136597\n",
       "NumCatalogPurchases        0.199357\n",
       "NumStorePurchases          0.020680\n",
       "NumWebVisitsMonth          0.020256\n",
       "AcceptedCmp3               0.253009\n",
       "AcceptedCmp4               0.187348\n",
       "AcceptedCmp5               0.313937\n",
       "AcceptedCmp1               0.298361\n",
       "AcceptedCmp2               0.178153\n",
       "Complain                  -0.002215\n",
       "Marital_Status_Absurd      0.034334\n",
       "Marital_Status_Alone       0.022495\n",
       "Marital_Status_Divorced    0.033391\n",
       "Marital_Status_Married    -0.066304\n",
       "Marital_Status_Single      0.116632\n",
       "Marital_Status_Together   -0.079968\n",
       "Marital_Status_Widow       0.042492\n",
       "Marital_Status_YOLO       -0.009603\n",
       "Name: Response, dtype: float64"
      ]
     },
     "execution_count": 70,
     "metadata": {},
     "output_type": "execute_result"
    }
   ],
   "source": [
    "#Checking independent variables for linear relationship to outcome variable\n",
    "#To remove variables with weak correlation\n",
    "corr[\"Response\"]"
   ]
  },
  {
   "cell_type": "code",
   "execution_count": 71,
   "metadata": {},
   "outputs": [],
   "source": [
    "#Dropping variables with corr below modulus(0.05)\n",
    "yX_train1 = yX_train.drop([\"Year_Birth\", \"NumDealsPurchases\", \"NumStorePurchases\", \"NumWebVisitsMonth\", \"Complain\", \"Marital_Status_Absurd\", \"Marital_Status_Alone\", \"Marital_Status_Divorced\", \"Marital_Status_Widow\", \"Marital_Status_YOLO\"], axis=1)"
   ]
  },
  {
   "cell_type": "code",
   "execution_count": 72,
   "metadata": {},
   "outputs": [
    {
     "data": {
      "text/plain": [
       "Response                   1.000000\n",
       "Education                  0.087922\n",
       "Income                     0.103218\n",
       "Kidhome                   -0.066943\n",
       "Teenhome                  -0.154374\n",
       "Dt_Customer                0.181197\n",
       "Recency                   -0.186514\n",
       "MntWines                   0.232859\n",
       "MntFruits                  0.098639\n",
       "MntMeatProducts            0.198219\n",
       "MntFishProducts            0.089865\n",
       "MntSweetProducts           0.097654\n",
       "MntGoldProds               0.115828\n",
       "NumWebPurchases            0.136597\n",
       "NumCatalogPurchases        0.199357\n",
       "AcceptedCmp3               0.253009\n",
       "AcceptedCmp4               0.187348\n",
       "AcceptedCmp5               0.313937\n",
       "AcceptedCmp1               0.298361\n",
       "AcceptedCmp2               0.178153\n",
       "Marital_Status_Married    -0.066304\n",
       "Marital_Status_Single      0.116632\n",
       "Marital_Status_Together   -0.079968\n",
       "Name: Response, dtype: float64"
      ]
     },
     "execution_count": 72,
     "metadata": {},
     "output_type": "execute_result"
    }
   ],
   "source": [
    "corr1 = yX_train1.corr()\n",
    "corr1[\"Response\"]"
   ]
  },
  {
   "cell_type": "code",
   "execution_count": 73,
   "metadata": {},
   "outputs": [],
   "source": [
    "#Dropping variables with corr below modulus(0.1)\n",
    "yX_train2 = yX_train1.drop([\"Education\", \"Kidhome\", \"Marital_Status_Together\", \"Marital_Status_Married\", \"MntFruits\", \"MntFishProducts\", \"MntSweetProducts\"], axis=1)"
   ]
  },
  {
   "cell_type": "code",
   "execution_count": 74,
   "metadata": {},
   "outputs": [
    {
     "data": {
      "text/plain": [
       "Response                 1.000000\n",
       "Income                   0.103218\n",
       "Teenhome                -0.154374\n",
       "Dt_Customer              0.181197\n",
       "Recency                 -0.186514\n",
       "MntWines                 0.232859\n",
       "MntMeatProducts          0.198219\n",
       "MntGoldProds             0.115828\n",
       "NumWebPurchases          0.136597\n",
       "NumCatalogPurchases      0.199357\n",
       "AcceptedCmp3             0.253009\n",
       "AcceptedCmp4             0.187348\n",
       "AcceptedCmp5             0.313937\n",
       "AcceptedCmp1             0.298361\n",
       "AcceptedCmp2             0.178153\n",
       "Marital_Status_Single    0.116632\n",
       "Name: Response, dtype: float64"
      ]
     },
     "execution_count": 74,
     "metadata": {},
     "output_type": "execute_result"
    }
   ],
   "source": [
    "corr2 = yX_train2.corr()\n",
    "corr2[\"Response\"]"
   ]
  },
  {
   "cell_type": "code",
   "execution_count": 75,
   "metadata": {},
   "outputs": [],
   "source": [
    "corr2\n",
    "#possibly drop NumCatalogPurchases as it introduces multicollinearity\n",
    "yX_train3 = yX_train2.drop([\"NumCatalogPurchases\"], axis=1)"
   ]
  },
  {
   "cell_type": "code",
   "execution_count": 76,
   "metadata": {},
   "outputs": [
    {
     "data": {
      "text/html": [
       "<div>\n",
       "<style scoped>\n",
       "    .dataframe tbody tr th:only-of-type {\n",
       "        vertical-align: middle;\n",
       "    }\n",
       "\n",
       "    .dataframe tbody tr th {\n",
       "        vertical-align: top;\n",
       "    }\n",
       "\n",
       "    .dataframe thead th {\n",
       "        text-align: right;\n",
       "    }\n",
       "</style>\n",
       "<table border=\"1\" class=\"dataframe\">\n",
       "  <thead>\n",
       "    <tr style=\"text-align: right;\">\n",
       "      <th></th>\n",
       "      <th>Response</th>\n",
       "      <th>Income</th>\n",
       "      <th>Teenhome</th>\n",
       "      <th>Dt_Customer</th>\n",
       "      <th>Recency</th>\n",
       "      <th>MntWines</th>\n",
       "      <th>MntMeatProducts</th>\n",
       "      <th>MntGoldProds</th>\n",
       "      <th>NumWebPurchases</th>\n",
       "      <th>AcceptedCmp3</th>\n",
       "      <th>AcceptedCmp4</th>\n",
       "      <th>AcceptedCmp5</th>\n",
       "      <th>AcceptedCmp1</th>\n",
       "      <th>AcceptedCmp2</th>\n",
       "      <th>Marital_Status_Single</th>\n",
       "    </tr>\n",
       "  </thead>\n",
       "  <tbody>\n",
       "    <tr>\n",
       "      <th>818</th>\n",
       "      <td>0</td>\n",
       "      <td>65685.0</td>\n",
       "      <td>1</td>\n",
       "      <td>92</td>\n",
       "      <td>54</td>\n",
       "      <td>642</td>\n",
       "      <td>49</td>\n",
       "      <td>57</td>\n",
       "      <td>9</td>\n",
       "      <td>0</td>\n",
       "      <td>0</td>\n",
       "      <td>0</td>\n",
       "      <td>0</td>\n",
       "      <td>0</td>\n",
       "      <td>0</td>\n",
       "    </tr>\n",
       "    <tr>\n",
       "      <th>1281</th>\n",
       "      <td>1</td>\n",
       "      <td>49118.0</td>\n",
       "      <td>0</td>\n",
       "      <td>680</td>\n",
       "      <td>90</td>\n",
       "      <td>620</td>\n",
       "      <td>239</td>\n",
       "      <td>119</td>\n",
       "      <td>9</td>\n",
       "      <td>0</td>\n",
       "      <td>1</td>\n",
       "      <td>0</td>\n",
       "      <td>0</td>\n",
       "      <td>1</td>\n",
       "      <td>0</td>\n",
       "    </tr>\n",
       "    <tr>\n",
       "      <th>1766</th>\n",
       "      <td>0</td>\n",
       "      <td>36802.0</td>\n",
       "      <td>0</td>\n",
       "      <td>13</td>\n",
       "      <td>23</td>\n",
       "      <td>16</td>\n",
       "      <td>2</td>\n",
       "      <td>1</td>\n",
       "      <td>1</td>\n",
       "      <td>0</td>\n",
       "      <td>0</td>\n",
       "      <td>0</td>\n",
       "      <td>0</td>\n",
       "      <td>0</td>\n",
       "      <td>1</td>\n",
       "    </tr>\n",
       "    <tr>\n",
       "      <th>1577</th>\n",
       "      <td>0</td>\n",
       "      <td>81574.0</td>\n",
       "      <td>0</td>\n",
       "      <td>62</td>\n",
       "      <td>89</td>\n",
       "      <td>1252</td>\n",
       "      <td>465</td>\n",
       "      <td>0</td>\n",
       "      <td>4</td>\n",
       "      <td>0</td>\n",
       "      <td>1</td>\n",
       "      <td>1</td>\n",
       "      <td>0</td>\n",
       "      <td>0</td>\n",
       "      <td>0</td>\n",
       "    </tr>\n",
       "    <tr>\n",
       "      <th>924</th>\n",
       "      <td>0</td>\n",
       "      <td>83033.0</td>\n",
       "      <td>0</td>\n",
       "      <td>42</td>\n",
       "      <td>82</td>\n",
       "      <td>812</td>\n",
       "      <td>431</td>\n",
       "      <td>33</td>\n",
       "      <td>11</td>\n",
       "      <td>0</td>\n",
       "      <td>0</td>\n",
       "      <td>0</td>\n",
       "      <td>1</td>\n",
       "      <td>0</td>\n",
       "      <td>0</td>\n",
       "    </tr>\n",
       "  </tbody>\n",
       "</table>\n",
       "</div>"
      ],
      "text/plain": [
       "      Response   Income  Teenhome  Dt_Customer  Recency  MntWines  \\\n",
       "818          0  65685.0         1           92       54       642   \n",
       "1281         1  49118.0         0          680       90       620   \n",
       "1766         0  36802.0         0           13       23        16   \n",
       "1577         0  81574.0         0           62       89      1252   \n",
       "924          0  83033.0         0           42       82       812   \n",
       "\n",
       "      MntMeatProducts  MntGoldProds  NumWebPurchases  AcceptedCmp3  \\\n",
       "818                49            57                9             0   \n",
       "1281              239           119                9             0   \n",
       "1766                2             1                1             0   \n",
       "1577              465             0                4             0   \n",
       "924               431            33               11             0   \n",
       "\n",
       "      AcceptedCmp4  AcceptedCmp5  AcceptedCmp1  AcceptedCmp2  \\\n",
       "818              0             0             0             0   \n",
       "1281             1             0             0             1   \n",
       "1766             0             0             0             0   \n",
       "1577             1             1             0             0   \n",
       "924              0             0             1             0   \n",
       "\n",
       "      Marital_Status_Single  \n",
       "818                       0  \n",
       "1281                      0  \n",
       "1766                      1  \n",
       "1577                      0  \n",
       "924                       0  "
      ]
     },
     "execution_count": 76,
     "metadata": {},
     "output_type": "execute_result"
    }
   ],
   "source": [
    "yX_train3.head()"
   ]
  },
  {
   "cell_type": "code",
   "execution_count": 87,
   "metadata": {},
   "outputs": [
    {
     "name": "stdout",
     "output_type": "stream",
     "text": [
      "                            OLS Regression Results                            \n",
      "==============================================================================\n",
      "Dep. Variable:               Response   R-squared:                       0.289\n",
      "Model:                            OLS   Adj. R-squared:                  0.283\n",
      "Method:                 Least Squares   F-statistic:                     51.61\n",
      "Date:                Fri, 26 Apr 2019   Prob (F-statistic):          9.23e-121\n",
      "Time:                        21:22:08   Log-Likelihood:                -349.52\n",
      "No. Observations:                1792   AIC:                             729.0\n",
      "Df Residuals:                    1777   BIC:                             811.4\n",
      "Df Model:                          14                                         \n",
      "Covariance Type:            nonrobust                                         \n",
      "=========================================================================================\n",
      "                            coef    std err          t      P>|t|      [0.025      0.975]\n",
      "-----------------------------------------------------------------------------------------\n",
      "Intercept                 0.0665      0.026      2.576      0.010       0.016       0.117\n",
      "Income                -4.832e-07   3.55e-07     -1.361      0.174   -1.18e-06    2.13e-07\n",
      "Teenhome                 -0.0486      0.014     -3.404      0.001      -0.077      -0.021\n",
      "Dt_Customer               0.0003   3.64e-05      8.950      0.000       0.000       0.000\n",
      "Recency                  -0.0022      0.000     -9.069      0.000      -0.003      -0.002\n",
      "MntWines              -4.838e-05   3.47e-05     -1.392      0.164      -0.000    1.98e-05\n",
      "MntMeatProducts           0.0001   4.37e-05      2.372      0.018    1.79e-05       0.000\n",
      "MntGoldProds             -0.0001      0.000     -0.770      0.441      -0.000       0.000\n",
      "NumWebPurchases           0.0086      0.003      2.659      0.008       0.002       0.015\n",
      "AcceptedCmp3              0.2922      0.028     10.353      0.000       0.237       0.348\n",
      "AcceptedCmp4              0.1194      0.030      3.929      0.000       0.060       0.179\n",
      "AcceptedCmp5              0.2529      0.033      7.615      0.000       0.188       0.318\n",
      "AcceptedCmp1              0.2265      0.032      6.984      0.000       0.163       0.290\n",
      "AcceptedCmp2              0.2156      0.063      3.447      0.001       0.093       0.338\n",
      "Marital_Status_Single     0.0930      0.017      5.436      0.000       0.059       0.127\n",
      "==============================================================================\n",
      "Omnibus:                      461.154   Durbin-Watson:                   2.060\n",
      "Prob(Omnibus):                  0.000   Jarque-Bera (JB):             1014.275\n",
      "Skew:                           1.452   Prob(JB):                    5.66e-221\n",
      "Kurtosis:                       5.268   Cond. No.                     5.29e+05\n",
      "==============================================================================\n",
      "\n",
      "Warnings:\n",
      "[1] Standard Errors assume that the covariance matrix of the errors is correctly specified.\n",
      "[2] The condition number is large, 5.29e+05. This might indicate that there are\n",
      "strong multicollinearity or other numerical problems.\n",
      "                            OLS Regression Results                            \n",
      "==============================================================================\n",
      "Dep. Variable:               Response   R-squared:                       0.289\n",
      "Model:                            OLS   Adj. R-squared:                  0.284\n",
      "Method:                 Least Squares   F-statistic:                     55.55\n",
      "Date:                Fri, 26 Apr 2019   Prob (F-statistic):          1.62e-121\n",
      "Time:                        21:22:08   Log-Likelihood:                -349.82\n",
      "No. Observations:                1792   AIC:                             727.6\n",
      "Df Residuals:                    1778   BIC:                             804.5\n",
      "Df Model:                          13                                         \n",
      "Covariance Type:            nonrobust                                         \n",
      "=========================================================================================\n",
      "                            coef    std err          t      P>|t|      [0.025      0.975]\n",
      "-----------------------------------------------------------------------------------------\n",
      "Intercept                 0.0671      0.026      2.602      0.009       0.017       0.118\n",
      "Income                    -5e-07   3.54e-07     -1.411      0.158   -1.19e-06    1.95e-07\n",
      "Teenhome                 -0.0485      0.014     -3.401      0.001      -0.077      -0.021\n",
      "Dt_Customer               0.0003   3.62e-05      8.918      0.000       0.000       0.000\n",
      "Recency                  -0.0022      0.000     -9.100      0.000      -0.003      -0.002\n",
      "MntWines              -5.087e-05   3.46e-05     -1.471      0.142      -0.000     1.7e-05\n",
      "MntMeatProducts        9.904e-05   4.33e-05      2.289      0.022    1.42e-05       0.000\n",
      "NumWebPurchases           0.0080      0.003      2.549      0.011       0.002       0.014\n",
      "AcceptedCmp3              0.2897      0.028     10.334      0.000       0.235       0.345\n",
      "AcceptedCmp4              0.1220      0.030      4.042      0.000       0.063       0.181\n",
      "AcceptedCmp5              0.2531      0.033      7.622      0.000       0.188       0.318\n",
      "AcceptedCmp1              0.2256      0.032      6.962      0.000       0.162       0.289\n",
      "AcceptedCmp2              0.2149      0.063      3.437      0.001       0.092       0.338\n",
      "Marital_Status_Single     0.0932      0.017      5.445      0.000       0.060       0.127\n",
      "==============================================================================\n",
      "Omnibus:                      461.589   Durbin-Watson:                   2.058\n",
      "Prob(Omnibus):                  0.000   Jarque-Bera (JB):             1015.061\n",
      "Skew:                           1.454   Prob(JB):                    3.82e-221\n",
      "Kurtosis:                       5.267   Cond. No.                     5.29e+05\n",
      "==============================================================================\n",
      "\n",
      "Warnings:\n",
      "[1] Standard Errors assume that the covariance matrix of the errors is correctly specified.\n",
      "[2] The condition number is large, 5.29e+05. This might indicate that there are\n",
      "strong multicollinearity or other numerical problems.\n",
      "                            OLS Regression Results                            \n",
      "==============================================================================\n",
      "Dep. Variable:               Response   R-squared:                       0.288\n",
      "Model:                            OLS   Adj. R-squared:                  0.283\n",
      "Method:                 Least Squares   F-statistic:                     59.98\n",
      "Date:                Fri, 26 Apr 2019   Prob (F-statistic):          5.46e-122\n",
      "Time:                        21:22:08   Log-Likelihood:                -350.82\n",
      "No. Observations:                1792   AIC:                             727.6\n",
      "Df Residuals:                    1779   BIC:                             799.0\n",
      "Df Model:                          12                                         \n",
      "Covariance Type:            nonrobust                                         \n",
      "=========================================================================================\n",
      "                            coef    std err          t      P>|t|      [0.025      0.975]\n",
      "-----------------------------------------------------------------------------------------\n",
      "Intercept                 0.0474      0.022      2.185      0.029       0.005       0.090\n",
      "Teenhome                 -0.0509      0.014     -3.594      0.000      -0.079      -0.023\n",
      "Dt_Customer               0.0003   3.57e-05      9.295      0.000       0.000       0.000\n",
      "Recency                  -0.0022      0.000     -9.072      0.000      -0.003      -0.002\n",
      "MntWines              -6.241e-05   3.36e-05     -1.856      0.064      -0.000    3.53e-06\n",
      "MntMeatProducts        7.799e-05   4.06e-05      1.920      0.055   -1.69e-06       0.000\n",
      "NumWebPurchases           0.0075      0.003      2.422      0.016       0.001       0.014\n",
      "AcceptedCmp3              0.2917      0.028     10.419      0.000       0.237       0.347\n",
      "AcceptedCmp4              0.1227      0.030      4.064      0.000       0.063       0.182\n",
      "AcceptedCmp5              0.2508      0.033      7.560      0.000       0.186       0.316\n",
      "AcceptedCmp1              0.2242      0.032      6.920      0.000       0.161       0.288\n",
      "AcceptedCmp2              0.2153      0.063      3.442      0.001       0.093       0.338\n",
      "Marital_Status_Single     0.0937      0.017      5.474      0.000       0.060       0.127\n",
      "==============================================================================\n",
      "Omnibus:                      464.323   Durbin-Watson:                   2.059\n",
      "Prob(Omnibus):                  0.000   Jarque-Bera (JB):             1024.860\n",
      "Skew:                           1.461   Prob(JB):                    2.85e-223\n",
      "Kurtosis:                       5.278   Cond. No.                     5.40e+03\n",
      "==============================================================================\n",
      "\n",
      "Warnings:\n",
      "[1] Standard Errors assume that the covariance matrix of the errors is correctly specified.\n",
      "[2] The condition number is large, 5.4e+03. This might indicate that there are\n",
      "strong multicollinearity or other numerical problems.\n",
      "                            OLS Regression Results                            \n",
      "==============================================================================\n",
      "Dep. Variable:               Response   R-squared:                       0.287\n",
      "Model:                            OLS   Adj. R-squared:                  0.282\n",
      "Method:                 Least Squares   F-statistic:                     65.03\n",
      "Date:                Fri, 26 Apr 2019   Prob (F-statistic):          3.61e-122\n",
      "Time:                        21:22:08   Log-Likelihood:                -352.56\n",
      "No. Observations:                1792   AIC:                             729.1\n",
      "Df Residuals:                    1780   BIC:                             795.0\n",
      "Df Model:                          11                                         \n",
      "Covariance Type:            nonrobust                                         \n",
      "=========================================================================================\n",
      "                            coef    std err          t      P>|t|      [0.025      0.975]\n",
      "-----------------------------------------------------------------------------------------\n",
      "Intercept                 0.0516      0.022      2.390      0.017       0.009       0.094\n",
      "Teenhome                 -0.0545      0.014     -3.874      0.000      -0.082      -0.027\n",
      "Dt_Customer               0.0003   3.56e-05      9.153      0.000       0.000       0.000\n",
      "Recency                  -0.0022      0.000     -9.074      0.000      -0.003      -0.002\n",
      "MntMeatProducts        4.487e-05   3.65e-05      1.229      0.219   -2.68e-05       0.000\n",
      "NumWebPurchases           0.0050      0.003      1.778      0.076      -0.001       0.010\n",
      "AcceptedCmp3              0.2896      0.028     10.346      0.000       0.235       0.345\n",
      "AcceptedCmp4              0.1061      0.029      3.677      0.000       0.050       0.163\n",
      "AcceptedCmp5              0.2339      0.032      7.327      0.000       0.171       0.296\n",
      "AcceptedCmp1              0.2190      0.032      6.781      0.000       0.156       0.282\n",
      "AcceptedCmp2              0.2019      0.062      3.247      0.001       0.080       0.324\n",
      "Marital_Status_Single     0.0945      0.017      5.523      0.000       0.061       0.128\n",
      "==============================================================================\n",
      "Omnibus:                      462.762   Durbin-Watson:                   2.056\n",
      "Prob(Omnibus):                  0.000   Jarque-Bera (JB):             1017.917\n",
      "Skew:                           1.458   Prob(JB):                    9.17e-222\n",
      "Kurtosis:                       5.265   Cond. No.                     4.05e+03\n",
      "==============================================================================\n",
      "\n",
      "Warnings:\n",
      "[1] Standard Errors assume that the covariance matrix of the errors is correctly specified.\n",
      "[2] The condition number is large, 4.05e+03. This might indicate that there are\n",
      "strong multicollinearity or other numerical problems.\n",
      "                            OLS Regression Results                            \n",
      "==============================================================================\n",
      "Dep. Variable:               Response   R-squared:                       0.286\n",
      "Model:                            OLS   Adj. R-squared:                  0.282\n",
      "Method:                 Least Squares   F-statistic:                     71.36\n",
      "Date:                Fri, 26 Apr 2019   Prob (F-statistic):          8.76e-123\n",
      "Time:                        21:22:08   Log-Likelihood:                -353.32\n",
      "No. Observations:                1792   AIC:                             728.6\n",
      "Df Residuals:                    1781   BIC:                             789.0\n",
      "Df Model:                          10                                         \n",
      "Covariance Type:            nonrobust                                         \n",
      "=========================================================================================\n",
      "                            coef    std err          t      P>|t|      [0.025      0.975]\n",
      "-----------------------------------------------------------------------------------------\n",
      "Intercept                 0.0547      0.021      2.551      0.011       0.013       0.097\n",
      "Teenhome                 -0.0590      0.014     -4.352      0.000      -0.086      -0.032\n",
      "Dt_Customer               0.0003   3.55e-05      9.249      0.000       0.000       0.000\n",
      "Recency                  -0.0022      0.000     -9.024      0.000      -0.003      -0.002\n",
      "NumWebPurchases           0.0060      0.003      2.242      0.025       0.001       0.011\n",
      "AcceptedCmp3              0.2881      0.028     10.299      0.000       0.233       0.343\n",
      "AcceptedCmp4              0.1040      0.029      3.610      0.000       0.047       0.161\n",
      "AcceptedCmp5              0.2432      0.031      7.844      0.000       0.182       0.304\n",
      "AcceptedCmp1              0.2257      0.032      7.087      0.000       0.163       0.288\n",
      "AcceptedCmp2              0.1987      0.062      3.199      0.001       0.077       0.321\n",
      "Marital_Status_Single     0.0953      0.017      5.573      0.000       0.062       0.129\n",
      "==============================================================================\n",
      "Omnibus:                      466.327   Durbin-Watson:                   2.055\n",
      "Prob(Omnibus):                  0.000   Jarque-Bera (JB):             1031.248\n",
      "Skew:                           1.466   Prob(JB):                    1.17e-224\n",
      "Kurtosis:                       5.283   Cond. No.                     3.69e+03\n",
      "==============================================================================\n",
      "\n",
      "Warnings:\n",
      "[1] Standard Errors assume that the covariance matrix of the errors is correctly specified.\n",
      "[2] The condition number is large, 3.69e+03. This might indicate that there are\n",
      "strong multicollinearity or other numerical problems.\n"
     ]
    }
   ],
   "source": [
    "import statsmodels.api as sm\n",
    "from patsy import dmatrices\n",
    "\n",
    "y1, X1 = dmatrices('Response ~ Income + Teenhome + Dt_Customer + Recency + MntWines + MntMeatProducts + MntGoldProds + NumWebPurchases + AcceptedCmp3 + AcceptedCmp4 + AcceptedCmp5 + AcceptedCmp1 + AcceptedCmp2 + Marital_Status_Single', data = yX_train3, return_type='dataframe')\n",
    "\n",
    "lm1 = sm.OLS(y1, X1).fit()\n",
    "print(lm1.summary())\n",
    "\n",
    "y2, X2 = dmatrices('Response ~ Income + Teenhome + Dt_Customer + Recency + MntWines + MntMeatProducts + NumWebPurchases + AcceptedCmp3 + AcceptedCmp4 + AcceptedCmp5 + AcceptedCmp1 + AcceptedCmp2 + Marital_Status_Single', data = yX_train3, return_type='dataframe')\n",
    "\n",
    "lm2 = sm.OLS(y2, X2).fit()\n",
    "print(lm2.summary())\n",
    "\n",
    "y3, X3 = dmatrices('Response ~ Teenhome + Dt_Customer + Recency + MntWines + MntMeatProducts + NumWebPurchases + AcceptedCmp3 + AcceptedCmp4 + AcceptedCmp5 + AcceptedCmp1 + AcceptedCmp2 + Marital_Status_Single', data = yX_train3, return_type='dataframe')\n",
    "\n",
    "lm3 = sm.OLS(y3, X3).fit()\n",
    "print(lm3.summary())\n",
    "\n",
    "y4, X4 = dmatrices('Response ~ Teenhome + Dt_Customer + Recency + MntMeatProducts + NumWebPurchases + AcceptedCmp3 + AcceptedCmp4 + AcceptedCmp5 + AcceptedCmp1 + AcceptedCmp2 + Marital_Status_Single', data = yX_train3, return_type='dataframe')\n",
    "\n",
    "lm4 = sm.OLS(y4, X4).fit()\n",
    "print(lm4.summary())\n",
    "\n",
    "y5, X5 = dmatrices('Response ~ Teenhome + Dt_Customer + Recency + NumWebPurchases + AcceptedCmp3 + AcceptedCmp4 + AcceptedCmp5 + AcceptedCmp1 + AcceptedCmp2 + Marital_Status_Single', data = yX_train3, return_type='dataframe')\n",
    "\n",
    "lm5 = sm.OLS(y5, X5).fit()\n",
    "print(lm5.summary())"
   ]
  },
  {
   "cell_type": "code",
   "execution_count": 78,
   "metadata": {},
   "outputs": [],
   "source": [
    "X_train1 = yX_train[[\"Teenhome\", \"Dt_Customer\", \"Recency\", \"NumWebPurchases\", \"AcceptedCmp1\", \"AcceptedCmp2\", \"AcceptedCmp3\", \"AcceptedCmp4\", \"AcceptedCmp5\", \"Marital_Status_Single\"]]\n",
    "y_train1 = yX_train[[\"Response\"]]"
   ]
  },
  {
   "cell_type": "code",
   "execution_count": 79,
   "metadata": {},
   "outputs": [
    {
     "data": {
      "text/plain": [
       "(1792, 10)"
      ]
     },
     "execution_count": 79,
     "metadata": {},
     "output_type": "execute_result"
    }
   ],
   "source": [
    "X_train1.shape"
   ]
  },
  {
   "cell_type": "code",
   "execution_count": 80,
   "metadata": {},
   "outputs": [],
   "source": [
    "X_test = X_test[[\"Teenhome\", \"Dt_Customer\", \"Recency\", \"NumWebPurchases\", \"AcceptedCmp1\", \"AcceptedCmp2\", \"AcceptedCmp3\", \"AcceptedCmp4\", \"AcceptedCmp5\", \"Marital_Status_Single\"]]"
   ]
  },
  {
   "cell_type": "code",
   "execution_count": 81,
   "metadata": {},
   "outputs": [
    {
     "data": {
      "text/plain": [
       "(448, 10)"
      ]
     },
     "execution_count": 81,
     "metadata": {},
     "output_type": "execute_result"
    }
   ],
   "source": [
    "X_test.shape"
   ]
  },
  {
   "cell_type": "code",
   "execution_count": 82,
   "metadata": {},
   "outputs": [],
   "source": [
    "from sklearn.linear_model import LinearRegression\n",
    "model = LinearRegression()"
   ]
  },
  {
   "cell_type": "code",
   "execution_count": 83,
   "metadata": {
    "scrolled": true
   },
   "outputs": [],
   "source": [
    "model.fit(X_train1, y_train1)\n",
    "y_predicted = model.predict(X_test)"
   ]
  },
  {
   "cell_type": "code",
   "execution_count": 84,
   "metadata": {},
   "outputs": [
    {
     "data": {
      "image/png": "[encoded data removed]",
      "text/plain": [
       "<Figure size 432x288 with 1 Axes>"
      ]
     },
     "metadata": {
      "needs_background": "light"
     },
     "output_type": "display_data"
    }
   ],
   "source": [
    "threshold = utils.max_threshold(y_predicted, y_test, threshold_range = (0.1, 0.6),iterations=1000, visualization=True)"
   ]
  },
  {
   "cell_type": "code",
   "execution_count": 85,
   "metadata": {},
   "outputs": [
    {
     "name": "stdout",
     "output_type": "stream",
     "text": [
      "Profit: 0.446\n"
     ]
    }
   ],
   "source": [
    "y_pred = utils.predict_with_threshold(y_predicted,threshold)\n",
    "print(\"Profit:\", utils.profit_share(y_pred, y_test))"
   ]
  }
 ],
 "metadata": {
  "kernelspec": {
   "display_name": "Python 3",
   "language": "python",
   "name": "python3"
  },
  "language_info": {
   "codemirror_mode": {
    "name": "ipython",
    "version": 3
   },
   "file_extension": ".py",
   "mimetype": "text/x-python",
   "name": "python",
   "nbconvert_exporter": "python",
   "pygments_lexer": "ipython3",
   "version": "3.7.3"
  }
 },
 "nbformat": 4,
 "nbformat_minor": 2
}
