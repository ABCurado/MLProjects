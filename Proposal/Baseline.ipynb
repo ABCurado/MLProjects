{
 "cells": [
  {
   "cell_type": "markdown",
   "metadata": {},
   "source": [
    "## Baseline for futher experiments\n",
    "\n",
    "Accuracy: 0.85  \n",
    "Area under the curve: 0.68  \n",
    "Precision: 0.48   \n",
    "Recall: 0.45  \n",
    "\n",
    "More metrics should be added to the baseline to better compare it to other approaches"
   ]
  },
  {
   "cell_type": "code",
   "execution_count": 1,
   "metadata": {},
   "outputs": [],
   "source": [
    "#Import all the files to be shared among all notebooks \n",
    "import utils\n",
    "import scalers_and_feature_transformation\n",
    "import data_visualization\n",
    "import feature_engineering\n",
    "import ML_algorithms"
   ]
  },
  {
   "cell_type": "code",
   "execution_count": 2,
   "metadata": {},
   "outputs": [],
   "source": [
    "df = utils.get_dataset()"
   ]
  },
  {
   "cell_type": "markdown",
   "metadata": {},
   "source": [
    "Remove non-numerical columns, this is just a baseline. Other approaches should probably not do this."
   ]
  },
  {
   "cell_type": "code",
   "execution_count": 3,
   "metadata": {},
   "outputs": [],
   "source": [
    "df = feature_engineering.remove_non_numerical(df)\n",
    "df = df.dropna()"
   ]
  },
  {
   "cell_type": "markdown",
   "metadata": {},
   "source": [
    "Split the data"
   ]
  },
  {
   "cell_type": "code",
   "execution_count": 4,
   "metadata": {},
   "outputs": [],
   "source": [
    "X_train, X_test, y_train, y_test = utils.data_split(df, 0.2)"
   ]
  },
  {
   "cell_type": "markdown",
   "metadata": {},
   "source": [
    "Apply a not optimized decision tree"
   ]
  },
  {
   "cell_type": "code",
   "execution_count": 5,
   "metadata": {},
   "outputs": [],
   "source": [
    "model = ML_algorithms.decision_tree(X_train, y_train)\n",
    "y_pred = model.predict(X_test)"
   ]
  },
  {
   "cell_type": "markdown",
   "metadata": {},
   "source": [
    "Access the quality of the baseline"
   ]
  },
  {
   "cell_type": "code",
   "execution_count": 9,
   "metadata": {},
   "outputs": [
    {
     "name": "stdout",
     "output_type": "stream",
     "text": [
      "Accuracy 0.85\n",
      "Area under the curve 0.68\n",
      "Precision 0.48\n",
      "Recall 0.45\n"
     ]
    }
   ],
   "source": [
    "print(\"Accuracy {:1.2f}\".format(utils.calculate_accuracy(y_pred, y_test)))\n",
    "print(\"Area under the curve {:1.2f}\".format(utils.calculate_auc(y_pred, y_test)))\n",
    "print(\"Precision {:1.2f}\".format(utils.calculate_precision_score(y_pred, y_test)))\n",
    "print(\"Recall {:1.2f}\".format(utils.calculate_recall_score(y_pred, y_test)))"
   ]
  },
  {
   "cell_type": "code",
   "execution_count": 7,
   "metadata": {},
   "outputs": [
    {
     "data": {
      "image/png": "[encoded data removed]",
      "text/plain": [
       "<Figure size 360x360 with 1 Axes>"
      ]
     },
     "metadata": {},
     "output_type": "display_data"
    }
   ],
   "source": [
    "precision = utils.calculate_precision_score(y_pred, y_test)\n",
    "recall = utils.calculate_recall_score(y_pred, y_test)\n",
    "auc = utils.calculate_auc(y_pred, y_test)\n",
    "data_visualization.plot_precision_recall_curve(precision, recall, auc)"
   ]
  }
 ],
 "metadata": {
  "kernelspec": {
   "display_name": "Python 3",
   "language": "python",
   "name": "python3"
  },
  "language_info": {
   "codemirror_mode": {
    "name": "ipython",
    "version": 3
   },
   "file_extension": ".py",
   "mimetype": "text/x-python",
   "name": "python",
   "nbconvert_exporter": "python",
   "pygments_lexer": "ipython3",
   "version": "3.6.3"
  }
 },
 "nbformat": 4,
 "nbformat_minor": 2
}
