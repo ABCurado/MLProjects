{
 "cells": [
  {
   "cell_type": "code",
   "execution_count": 1,
   "metadata": {},
   "outputs": [],
   "source": [
    "#Import all the files to be shared among all notebooks \n",
    "import utils\n",
    "import preprocessing\n",
    "import data_visualization\n",
    "import feature_engineering\n",
    "from ML_algorithms import *\n",
    "import pandas as pd\n",
    "from seaborn import countplot"
   ]
  },
  {
   "cell_type": "code",
   "execution_count": 2,
   "metadata": {},
   "outputs": [],
   "source": [
    "df = utils.get_dataset()"
   ]
  },
  {
   "cell_type": "code",
   "execution_count": 3,
   "metadata": {},
   "outputs": [],
   "source": [
    "df = preprocessing.encode_education(df)\n",
    "df = preprocessing.one_hot_encoding(df,columns = [\"Marital_Status\"])\n",
    "df = preprocessing.encode_days_as_costumer(df)\n",
    "df = feature_engineering.drop_useless_columns(df)"
   ]
  },
  {
   "cell_type": "code",
   "execution_count": 5,
   "metadata": {},
   "outputs": [],
   "source": [
    "df = preprocessing.impute_income_KNN(df)"
   ]
  },
  {
   "cell_type": "code",
   "execution_count": 6,
   "metadata": {},
   "outputs": [],
   "source": [
    "# get a list of all columns\n",
    "columns = df.columns.tolist()"
   ]
  },
  {
   "cell_type": "code",
   "execution_count": 7,
   "metadata": {},
   "outputs": [],
   "source": [
    "# remove target feature Response from the list\n",
    "columns.remove(\"Response\")"
   ]
  },
  {
   "cell_type": "code",
   "execution_count": 8,
   "metadata": {},
   "outputs": [
    {
     "data": {
      "text/plain": [
       "<matplotlib.axes._subplots.AxesSubplot at 0x7fb691ad60b8>"
      ]
     },
     "execution_count": 8,
     "metadata": {},
     "output_type": "execute_result"
    },
    {
     "data": {
      "image/png": "[encoded data removed]",
      "text/plain": [
       "<Figure size 432x288 with 1 Axes>"
      ]
     },
     "metadata": {
      "needs_background": "light"
     },
     "output_type": "display_data"
    }
   ],
   "source": [
    "# very imbalanced dataset\n",
    "countplot(x=\"Response\", data=df)"
   ]
  },
  {
   "cell_type": "code",
   "execution_count": 13,
   "metadata": {},
   "outputs": [],
   "source": [
    "seed = 0 "
   ]
  },
  {
   "cell_type": "code",
   "execution_count": 14,
   "metadata": {},
   "outputs": [],
   "source": [
    "%%capture\n",
    "# transform the df to X_f using the exact ratio of 0 and 1: 17%\n",
    "X_f = preprocessing.centroid_undersampling(X=df, f=0.17)"
   ]
  },
  {
   "cell_type": "code",
   "execution_count": 15,
   "metadata": {},
   "outputs": [
    {
     "data": {
      "text/plain": [
       "<matplotlib.axes._subplots.AxesSubplot at 0x7fb69203f5f8>"
      ]
     },
     "execution_count": 15,
     "metadata": {},
     "output_type": "execute_result"
    },
    {
     "data": {
      "image/png": "[encoded data removed]",
      "text/plain": [
       "<Figure size 432x288 with 1 Axes>"
      ]
     },
     "metadata": {
      "needs_background": "light"
     },
     "output_type": "display_data"
    }
   ],
   "source": [
    "# now the dataset is balanced\n",
    "countplot(x=\"Response\", data=X_f)"
   ]
  },
  {
   "cell_type": "code",
   "execution_count": 16,
   "metadata": {},
   "outputs": [],
   "source": [
    "# perform the train, test split\n",
    "X_train, X_test, y_train, y_test = utils.data_split(X_f, test_size=0.2, random_state=seed)"
   ]
  },
  {
   "cell_type": "code",
   "execution_count": 19,
   "metadata": {},
   "outputs": [
    {
     "name": "stderr",
     "output_type": "stream",
     "text": [
      "/opt/conda/lib/python3.7/site-packages/sklearn/preprocessing/data.py:334: DataConversionWarning: Data with input dtype uint8, int64, float64 were all converted to float64 by MinMaxScaler.\n",
      "  return self.partial_fit(X, y)\n"
     ]
    }
   ],
   "source": [
    "# Feature Scaling\n",
    "from sklearn.preprocessing import MinMaxScaler\n",
    "scaler = MinMaxScaler()\n",
    "X_train = scaler.fit_transform(X_train)\n",
    "X_test = scaler.transform(X_test)"
   ]
  },
  {
   "cell_type": "code",
   "execution_count": 165,
   "metadata": {},
   "outputs": [],
   "source": [
    "from keras import models\n",
    "from keras import layers\n",
    "model = models.Sequential()\n",
    "model.add(layers.Dense(6, activation=\"relu\", input_dim=32))\n",
    "model.add(layers.Dense(6, activation=\"relu\"))\n",
    "model.add(layers.Dense(1, activation=\"sigmoid\"))\n",
    "model.compile(optimizer=\"rmsprop\", loss=\"binary_crossentropy\", metrics=[\"accuracy\"])\n"
   ]
  },
  {
   "cell_type": "code",
   "execution_count": 166,
   "metadata": {
    "scrolled": true
   },
   "outputs": [
    {
     "name": "stdout",
     "output_type": "stream",
     "text": [
      "Epoch 1/100\n",
      "526/526 [==============================] - 1s 2ms/step - loss: 0.6941 - acc: 0.4905\n",
      "Epoch 2/100\n",
      "526/526 [==============================] - 0s 39us/step - loss: 0.6909 - acc: 0.5361\n",
      "Epoch 3/100\n",
      "526/526 [==============================] - 0s 47us/step - loss: 0.6892 - acc: 0.5684\n",
      "Epoch 4/100\n",
      "526/526 [==============================] - 0s 47us/step - loss: 0.6881 - acc: 0.5837\n",
      "Epoch 5/100\n",
      "526/526 [==============================] - 0s 42us/step - loss: 0.6868 - acc: 0.5913\n",
      "Epoch 6/100\n",
      "526/526 [==============================] - 0s 36us/step - loss: 0.6856 - acc: 0.5989\n",
      "Epoch 7/100\n",
      "526/526 [==============================] - 0s 42us/step - loss: 0.6842 - acc: 0.6350\n",
      "Epoch 8/100\n",
      "526/526 [==============================] - 0s 45us/step - loss: 0.6823 - acc: 0.6464\n",
      "Epoch 9/100\n",
      "526/526 [==============================] - 0s 38us/step - loss: 0.6804 - acc: 0.6369\n",
      "Epoch 10/100\n",
      "526/526 [==============================] - 0s 38us/step - loss: 0.6778 - acc: 0.6407\n",
      "Epoch 11/100\n",
      "526/526 [==============================] - 0s 45us/step - loss: 0.6748 - acc: 0.6616\n",
      "Epoch 12/100\n",
      "526/526 [==============================] - 0s 36us/step - loss: 0.6717 - acc: 0.6730\n",
      "Epoch 13/100\n",
      "526/526 [==============================] - 0s 51us/step - loss: 0.6676 - acc: 0.6730\n",
      "Epoch 14/100\n",
      "526/526 [==============================] - 0s 40us/step - loss: 0.6636 - acc: 0.6749\n",
      "Epoch 15/100\n",
      "526/526 [==============================] - 0s 40us/step - loss: 0.6592 - acc: 0.6711\n",
      "Epoch 16/100\n",
      "526/526 [==============================] - 0s 42us/step - loss: 0.6547 - acc: 0.6920\n",
      "Epoch 17/100\n",
      "526/526 [==============================] - 0s 37us/step - loss: 0.6496 - acc: 0.6863\n",
      "Epoch 18/100\n",
      "526/526 [==============================] - 0s 39us/step - loss: 0.6437 - acc: 0.6844\n",
      "Epoch 19/100\n",
      "526/526 [==============================] - 0s 43us/step - loss: 0.6371 - acc: 0.6939\n",
      "Epoch 20/100\n",
      "526/526 [==============================] - 0s 38us/step - loss: 0.6300 - acc: 0.7053\n",
      "Epoch 21/100\n",
      "526/526 [==============================] - 0s 38us/step - loss: 0.6222 - acc: 0.7110\n",
      "Epoch 22/100\n",
      "526/526 [==============================] - 0s 36us/step - loss: 0.6141 - acc: 0.7053\n",
      "Epoch 23/100\n",
      "526/526 [==============================] - 0s 38us/step - loss: 0.6059 - acc: 0.7224\n",
      "Epoch 24/100\n",
      "526/526 [==============================] - 0s 38us/step - loss: 0.5972 - acc: 0.7338\n",
      "Epoch 25/100\n",
      "526/526 [==============================] - 0s 37us/step - loss: 0.5891 - acc: 0.7433\n",
      "Epoch 26/100\n",
      "526/526 [==============================] - 0s 38us/step - loss: 0.5803 - acc: 0.7548\n",
      "Epoch 27/100\n",
      "526/526 [==============================] - 0s 40us/step - loss: 0.5712 - acc: 0.7567\n",
      "Epoch 28/100\n",
      "526/526 [==============================] - 0s 39us/step - loss: 0.5631 - acc: 0.7510\n",
      "Epoch 29/100\n",
      "526/526 [==============================] - 0s 38us/step - loss: 0.5544 - acc: 0.7529\n",
      "Epoch 30/100\n",
      "526/526 [==============================] - 0s 38us/step - loss: 0.5460 - acc: 0.7605\n",
      "Epoch 31/100\n",
      "526/526 [==============================] - 0s 44us/step - loss: 0.5377 - acc: 0.7624\n",
      "Epoch 32/100\n",
      "526/526 [==============================] - 0s 40us/step - loss: 0.5291 - acc: 0.7643\n",
      "Epoch 33/100\n",
      "526/526 [==============================] - 0s 42us/step - loss: 0.5212 - acc: 0.7681\n",
      "Epoch 34/100\n",
      "526/526 [==============================] - 0s 42us/step - loss: 0.5130 - acc: 0.7700\n",
      "Epoch 35/100\n",
      "526/526 [==============================] - 0s 40us/step - loss: 0.5064 - acc: 0.7757\n",
      "Epoch 36/100\n",
      "526/526 [==============================] - 0s 43us/step - loss: 0.4990 - acc: 0.7776\n",
      "Epoch 37/100\n",
      "526/526 [==============================] - 0s 42us/step - loss: 0.4926 - acc: 0.7776\n",
      "Epoch 38/100\n",
      "526/526 [==============================] - 0s 40us/step - loss: 0.4864 - acc: 0.7795\n",
      "Epoch 39/100\n",
      "526/526 [==============================] - 0s 41us/step - loss: 0.4806 - acc: 0.7947\n",
      "Epoch 40/100\n",
      "526/526 [==============================] - 0s 42us/step - loss: 0.4737 - acc: 0.7966\n",
      "Epoch 41/100\n",
      "526/526 [==============================] - 0s 41us/step - loss: 0.4671 - acc: 0.7890\n",
      "Epoch 42/100\n",
      "526/526 [==============================] - 0s 45us/step - loss: 0.4616 - acc: 0.7985\n",
      "Epoch 43/100\n",
      "526/526 [==============================] - 0s 40us/step - loss: 0.4559 - acc: 0.7947\n",
      "Epoch 44/100\n",
      "526/526 [==============================] - 0s 40us/step - loss: 0.4506 - acc: 0.7928\n",
      "Epoch 45/100\n",
      "526/526 [==============================] - 0s 43us/step - loss: 0.4452 - acc: 0.7966\n",
      "Epoch 46/100\n",
      "526/526 [==============================] - 0s 40us/step - loss: 0.4406 - acc: 0.7909\n",
      "Epoch 47/100\n",
      "526/526 [==============================] - 0s 37us/step - loss: 0.4359 - acc: 0.7966\n",
      "Epoch 48/100\n",
      "526/526 [==============================] - 0s 39us/step - loss: 0.4318 - acc: 0.7947\n",
      "Epoch 49/100\n",
      "526/526 [==============================] - 0s 41us/step - loss: 0.4279 - acc: 0.7985\n",
      "Epoch 50/100\n",
      "526/526 [==============================] - 0s 42us/step - loss: 0.4242 - acc: 0.7966\n",
      "Epoch 51/100\n",
      "526/526 [==============================] - 0s 43us/step - loss: 0.4210 - acc: 0.8004\n",
      "Epoch 52/100\n",
      "526/526 [==============================] - 0s 42us/step - loss: 0.4168 - acc: 0.7966\n",
      "Epoch 53/100\n",
      "526/526 [==============================] - 0s 39us/step - loss: 0.4151 - acc: 0.7985\n",
      "Epoch 54/100\n",
      "526/526 [==============================] - 0s 44us/step - loss: 0.4123 - acc: 0.7985\n",
      "Epoch 55/100\n",
      "526/526 [==============================] - 0s 39us/step - loss: 0.4089 - acc: 0.7985\n",
      "Epoch 56/100\n",
      "526/526 [==============================] - 0s 39us/step - loss: 0.4062 - acc: 0.8061\n",
      "Epoch 57/100\n",
      "526/526 [==============================] - 0s 45us/step - loss: 0.4036 - acc: 0.8099\n",
      "Epoch 58/100\n",
      "526/526 [==============================] - 0s 41us/step - loss: 0.4009 - acc: 0.8004\n",
      "Epoch 59/100\n",
      "526/526 [==============================] - 0s 38us/step - loss: 0.3983 - acc: 0.8099\n",
      "Epoch 60/100\n",
      "526/526 [==============================] - 0s 43us/step - loss: 0.3959 - acc: 0.8080\n",
      "Epoch 61/100\n",
      "526/526 [==============================] - 0s 40us/step - loss: 0.3935 - acc: 0.8061\n",
      "Epoch 62/100\n",
      "526/526 [==============================] - 0s 39us/step - loss: 0.3908 - acc: 0.8042\n",
      "Epoch 63/100\n",
      "526/526 [==============================] - 0s 45us/step - loss: 0.3878 - acc: 0.8080\n",
      "Epoch 64/100\n",
      "526/526 [==============================] - 0s 40us/step - loss: 0.3863 - acc: 0.8080\n",
      "Epoch 65/100\n",
      "526/526 [==============================] - 0s 39us/step - loss: 0.3846 - acc: 0.8137\n",
      "Epoch 66/100\n",
      "526/526 [==============================] - 0s 42us/step - loss: 0.3829 - acc: 0.8137\n",
      "Epoch 67/100\n",
      "526/526 [==============================] - 0s 41us/step - loss: 0.3802 - acc: 0.8137\n",
      "Epoch 68/100\n",
      "526/526 [==============================] - 0s 44us/step - loss: 0.3793 - acc: 0.8137\n",
      "Epoch 69/100\n",
      "526/526 [==============================] - 0s 41us/step - loss: 0.3776 - acc: 0.8118\n",
      "Epoch 70/100\n",
      "526/526 [==============================] - 0s 39us/step - loss: 0.3758 - acc: 0.8156\n",
      "Epoch 71/100\n",
      "526/526 [==============================] - 0s 40us/step - loss: 0.3752 - acc: 0.8175\n",
      "Epoch 72/100\n",
      "526/526 [==============================] - 0s 41us/step - loss: 0.3727 - acc: 0.8118\n",
      "Epoch 73/100\n",
      "526/526 [==============================] - 0s 38us/step - loss: 0.3716 - acc: 0.8213\n",
      "Epoch 74/100\n",
      "526/526 [==============================] - 0s 35us/step - loss: 0.3700 - acc: 0.8175\n",
      "Epoch 75/100\n",
      "526/526 [==============================] - 0s 37us/step - loss: 0.3679 - acc: 0.8327\n",
      "Epoch 76/100\n",
      "526/526 [==============================] - 0s 39us/step - loss: 0.3678 - acc: 0.8213\n",
      "Epoch 77/100\n",
      "526/526 [==============================] - 0s 38us/step - loss: 0.3649 - acc: 0.8194\n",
      "Epoch 78/100\n",
      "526/526 [==============================] - 0s 35us/step - loss: 0.3646 - acc: 0.8270\n",
      "Epoch 79/100\n",
      "526/526 [==============================] - 0s 38us/step - loss: 0.3622 - acc: 0.8232\n",
      "Epoch 80/100\n",
      "526/526 [==============================] - 0s 41us/step - loss: 0.3613 - acc: 0.8308\n",
      "Epoch 81/100\n",
      "526/526 [==============================] - 0s 38us/step - loss: 0.3593 - acc: 0.8308\n",
      "Epoch 82/100\n",
      "526/526 [==============================] - 0s 35us/step - loss: 0.3584 - acc: 0.8270\n",
      "Epoch 83/100\n",
      "526/526 [==============================] - 0s 43us/step - loss: 0.3580 - acc: 0.8346\n",
      "Epoch 84/100\n"
     ]
    },
    {
     "name": "stdout",
     "output_type": "stream",
     "text": [
      "526/526 [==============================] - 0s 40us/step - loss: 0.3557 - acc: 0.8308\n",
      "Epoch 85/100\n",
      "526/526 [==============================] - 0s 40us/step - loss: 0.3550 - acc: 0.8441\n",
      "Epoch 86/100\n",
      "526/526 [==============================] - 0s 38us/step - loss: 0.3525 - acc: 0.8422\n",
      "Epoch 87/100\n",
      "526/526 [==============================] - 0s 39us/step - loss: 0.3532 - acc: 0.8384\n",
      "Epoch 88/100\n",
      "526/526 [==============================] - 0s 38us/step - loss: 0.3512 - acc: 0.8441\n",
      "Epoch 89/100\n",
      "526/526 [==============================] - 0s 36us/step - loss: 0.3494 - acc: 0.8441\n",
      "Epoch 90/100\n",
      "526/526 [==============================] - 0s 39us/step - loss: 0.3487 - acc: 0.8403\n",
      "Epoch 91/100\n",
      "526/526 [==============================] - 0s 39us/step - loss: 0.3496 - acc: 0.8403\n",
      "Epoch 92/100\n",
      "526/526 [==============================] - 0s 37us/step - loss: 0.3469 - acc: 0.8460\n",
      "Epoch 93/100\n",
      "526/526 [==============================] - 0s 37us/step - loss: 0.3461 - acc: 0.8441\n",
      "Epoch 94/100\n",
      "526/526 [==============================] - 0s 40us/step - loss: 0.3472 - acc: 0.8460\n",
      "Epoch 95/100\n",
      "526/526 [==============================] - 0s 38us/step - loss: 0.3441 - acc: 0.8441\n",
      "Epoch 96/100\n",
      "526/526 [==============================] - 0s 38us/step - loss: 0.3437 - acc: 0.8479\n",
      "Epoch 97/100\n",
      "526/526 [==============================] - 0s 42us/step - loss: 0.3430 - acc: 0.8479\n",
      "Epoch 98/100\n",
      "526/526 [==============================] - 0s 38us/step - loss: 0.3433 - acc: 0.8517\n",
      "Epoch 99/100\n",
      "526/526 [==============================] - 0s 34us/step - loss: 0.3397 - acc: 0.8574\n",
      "Epoch 100/100\n",
      "526/526 [==============================] - 0s 36us/step - loss: 0.3400 - acc: 0.8555\n"
     ]
    }
   ],
   "source": [
    "model.fit(X_train, y_train, epochs=100)\n",
    "y_predicted = model.predict(X_test)\n"
   ]
  },
  {
   "cell_type": "code",
   "execution_count": 167,
   "metadata": {},
   "outputs": [
    {
     "name": "stdout",
     "output_type": "stream",
     "text": [
      "132/132 [==============================] - 0s 2ms/step\n"
     ]
    },
    {
     "data": {
      "text/plain": [
       "[0.5205324815981316, 0.7651515151515151]"
      ]
     },
     "execution_count": 167,
     "metadata": {},
     "output_type": "execute_result"
    }
   ],
   "source": [
    "model.evaluate(X_test, y_test)"
   ]
  },
  {
   "cell_type": "code",
   "execution_count": 168,
   "metadata": {},
   "outputs": [],
   "source": [
    "y_pred = []\n",
    "for i in y_predicted:\n",
    "    if i < 0.5:\n",
    "        i=0\n",
    "        y_pred.append(i)\n",
    "    else:\n",
    "        i=1\n",
    "        y_pred.append(i)"
   ]
  },
  {
   "cell_type": "code",
   "execution_count": 169,
   "metadata": {},
   "outputs": [
    {
     "name": "stdout",
     "output_type": "stream",
     "text": [
      "Normalized confusion matrix\n",
      "[[0.77966102 0.22033898]\n",
      " [0.24657534 0.75342466]]\n"
     ]
    },
    {
     "data": {
      "image/png": "[encoded data removed]",
      "text/plain": [
       "<Figure size 432x288 with 2 Axes>"
      ]
     },
     "metadata": {
      "needs_background": "light"
     },
     "output_type": "display_data"
    }
   ],
   "source": [
    "conf_matrix = utils.confusion_matrix(y_test, y_pred)\n",
    "\n",
    "data_visualization.plot_confusion_matrix(conf_matrix, ['not bought', 'bought'], normalize=True)"
   ]
  },
  {
   "cell_type": "code",
   "execution_count": 161,
   "metadata": {},
   "outputs": [
    {
     "name": "stdout",
     "output_type": "stream",
     "text": [
      "Accuracy 0.78\n",
      "Area under the curve 0.78\n",
      "Precision 0.75\n",
      "Recall 0.83\n"
     ]
    }
   ],
   "source": [
    "print(\"Accuracy {:1.2f}\".format(utils.calculate_accuracy(y_pred, y_test)))\n",
    "print(\"Area under the curve {:1.2f}\".format(utils.calculate_auc(y_pred, y_test)))\n",
    "print(\"Precision {:1.2f}\".format(utils.calculate_precision_score(y_pred, y_test)))\n",
    "print(\"Recall {:1.2f}\".format(utils.calculate_recall_score(y_pred, y_test)))"
   ]
  }
 ],
 "metadata": {
  "kernelspec": {
   "display_name": "Python 3",
   "language": "python",
   "name": "python3"
  },
  "language_info": {
   "codemirror_mode": {
    "name": "ipython",
    "version": 3
   },
   "file_extension": ".py",
   "mimetype": "text/x-python",
   "name": "python",
   "nbconvert_exporter": "python",
   "pygments_lexer": "ipython3",
   "version": "3.7.1"
  }
 },
 "nbformat": 4,
 "nbformat_minor": 2
}
