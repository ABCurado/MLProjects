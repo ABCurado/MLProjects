{
 "cells": [
  {
   "cell_type": "markdown",
   "metadata": {},
   "source": [
    "## 3 Layer Neural Net with threshold optimization\n",
    "Need to add crossvalidation"
   ]
  },
  {
   "cell_type": "code",
   "execution_count": 1,
   "metadata": {},
   "outputs": [],
   "source": [
    "#Import all the files to be shared among all notebooks \n",
    "import utils\n",
    "import preprocessing\n",
    "import data_visualization\n",
    "import feature_engineering\n",
    "from ML_algorithms import *\n",
    "import pandas as pd\n",
    "from seaborn import countplot"
   ]
  },
  {
   "cell_type": "code",
   "execution_count": 2,
   "metadata": {},
   "outputs": [],
   "source": [
    "df = utils.get_dataset()"
   ]
  },
  {
   "cell_type": "code",
   "execution_count": 3,
   "metadata": {},
   "outputs": [],
   "source": [
    "df = preprocessing.encode_education(df)\n",
    "df = preprocessing.one_hot_encoding(df,columns = [\"Marital_Status\"])\n",
    "df = preprocessing.encode_days_as_costumer(df)\n",
    "df = feature_engineering.drop_useless_columns(df)"
   ]
  },
  {
   "cell_type": "code",
   "execution_count": 4,
   "metadata": {},
   "outputs": [],
   "source": [
    "df = preprocessing.impute_income_KNN(df)"
   ]
  },
  {
   "cell_type": "code",
   "execution_count": 5,
   "metadata": {},
   "outputs": [],
   "source": [
    "# get a list of all columns\n",
    "columns = df.columns.tolist()"
   ]
  },
  {
   "cell_type": "code",
   "execution_count": 6,
   "metadata": {},
   "outputs": [],
   "source": [
    "# remove target feature Response from the list\n",
    "columns.remove(\"Response\")"
   ]
  },
  {
   "cell_type": "code",
   "execution_count": 7,
   "metadata": {},
   "outputs": [
    {
     "data": {
      "text/plain": [
       "<matplotlib.axes._subplots.AxesSubplot at 0x7f28fe816c88>"
      ]
     },
     "execution_count": 7,
     "metadata": {},
     "output_type": "execute_result"
    },
    {
     "data": {
      "image/png": "[encoded data removed]",
      "text/plain": [
       "<Figure size 432x288 with 1 Axes>"
      ]
     },
     "metadata": {},
     "output_type": "display_data"
    }
   ],
   "source": [
    "# very imbalanced dataset\n",
    "countplot(x=\"Response\", data=df)"
   ]
  },
  {
   "cell_type": "code",
   "execution_count": 8,
   "metadata": {},
   "outputs": [],
   "source": [
    "seed = 0 "
   ]
  },
  {
   "cell_type": "code",
   "execution_count": 9,
   "metadata": {},
   "outputs": [],
   "source": [
    "# perform the train, test split\n",
    "X_train, X_test, y_train, y_test = utils.data_split(df, test_size=0.2, random_state=seed)"
   ]
  },
  {
   "cell_type": "code",
   "execution_count": 10,
   "metadata": {},
   "outputs": [
    {
     "name": "stderr",
     "output_type": "stream",
     "text": [
      "/opt/conda/lib/python3.6/site-packages/sklearn/preprocessing/data.py:334: DataConversionWarning: Data with input dtype uint8, int64, float64 were all converted to float64 by MinMaxScaler.\n",
      "  return self.partial_fit(X, y)\n"
     ]
    }
   ],
   "source": [
    "# Feature Scaling\n",
    "from sklearn.preprocessing import MinMaxScaler\n",
    "scaler = MinMaxScaler()\n",
    "X_train = scaler.fit_transform(X_train)\n",
    "X_test = scaler.transform(X_test)"
   ]
  },
  {
   "cell_type": "code",
   "execution_count": 11,
   "metadata": {},
   "outputs": [
    {
     "name": "stderr",
     "output_type": "stream",
     "text": [
      "/opt/conda/lib/python3.6/site-packages/h5py/__init__.py:36: FutureWarning: Conversion of the second argument of issubdtype from `float` to `np.floating` is deprecated. In future, it will be treated as `np.float64 == np.dtype(float).type`.\n",
      "  from ._conv import register_converters as _register_converters\n",
      "Using TensorFlow backend.\n"
     ]
    },
    {
     "name": "stdout",
     "output_type": "stream",
     "text": [
      "WARNING:tensorflow:From /opt/conda/lib/python3.6/site-packages/tensorflow/python/framework/op_def_library.py:263: colocate_with (from tensorflow.python.framework.ops) is deprecated and will be removed in a future version.\n",
      "Instructions for updating:\n",
      "Colocations handled automatically by placer.\n"
     ]
    }
   ],
   "source": [
    "from keras import models\n",
    "from keras import layers\n",
    "model = models.Sequential()\n",
    "model.add(layers.Dense(6, activation=\"relu\", input_dim=32))\n",
    "model.add(layers.Dense(6, activation=\"relu\"))\n",
    "model.add(layers.Dense(6, activation=\"relu\"))\n",
    "model.add(layers.Dense(1, activation=\"sigmoid\"))\n",
    "model.compile(optimizer=\"rmsprop\", loss=\"binary_crossentropy\", metrics=[\"accuracy\"])\n"
   ]
  },
  {
   "cell_type": "code",
   "execution_count": 12,
   "metadata": {
    "scrolled": true
   },
   "outputs": [
    {
     "name": "stdout",
     "output_type": "stream",
     "text": [
      "WARNING:tensorflow:From /opt/conda/lib/python3.6/site-packages/tensorflow/python/ops/math_ops.py:3066: to_int32 (from tensorflow.python.ops.math_ops) is deprecated and will be removed in a future version.\n",
      "Instructions for updating:\n",
      "Use tf.cast instead.\n",
      "Epoch 1/100\n",
      "1792/1792 [==============================] - 0s 176us/step - loss: 0.5178 - acc: 0.8583\n",
      "Epoch 2/100\n",
      "1792/1792 [==============================] - 0s 37us/step - loss: 0.4188 - acc: 0.8583\n",
      "Epoch 3/100\n",
      "1792/1792 [==============================] - 0s 35us/step - loss: 0.3921 - acc: 0.8583\n",
      "Epoch 4/100\n",
      "1792/1792 [==============================] - 0s 36us/step - loss: 0.3791 - acc: 0.8583\n",
      "Epoch 5/100\n",
      "1792/1792 [==============================] - 0s 35us/step - loss: 0.3670 - acc: 0.8583\n",
      "Epoch 6/100\n",
      "1792/1792 [==============================] - 0s 35us/step - loss: 0.3557 - acc: 0.8583\n",
      "Epoch 7/100\n",
      "1792/1792 [==============================] - 0s 32us/step - loss: 0.3460 - acc: 0.8583\n",
      "Epoch 8/100\n",
      "1792/1792 [==============================] - 0s 37us/step - loss: 0.3363 - acc: 0.8583\n",
      "Epoch 9/100\n",
      "1792/1792 [==============================] - 0s 35us/step - loss: 0.3279 - acc: 0.8583\n",
      "Epoch 10/100\n",
      "1792/1792 [==============================] - 0s 36us/step - loss: 0.3205 - acc: 0.8627\n",
      "Epoch 11/100\n",
      "1792/1792 [==============================] - 0s 33us/step - loss: 0.3136 - acc: 0.8689\n",
      "Epoch 12/100\n",
      "1792/1792 [==============================] - 0s 30us/step - loss: 0.3076 - acc: 0.8767\n",
      "Epoch 13/100\n",
      "1792/1792 [==============================] - 0s 32us/step - loss: 0.3019 - acc: 0.8839\n",
      "Epoch 14/100\n",
      "1792/1792 [==============================] - 0s 29us/step - loss: 0.2967 - acc: 0.8850\n",
      "Epoch 15/100\n",
      "1792/1792 [==============================] - 0s 31us/step - loss: 0.2917 - acc: 0.8828\n",
      "Epoch 16/100\n",
      "1792/1792 [==============================] - 0s 32us/step - loss: 0.2880 - acc: 0.8890\n",
      "Epoch 17/100\n",
      "1792/1792 [==============================] - 0s 30us/step - loss: 0.2843 - acc: 0.8878\n",
      "Epoch 18/100\n",
      "1792/1792 [==============================] - 0s 32us/step - loss: 0.2812 - acc: 0.8901\n",
      "Epoch 19/100\n",
      "1792/1792 [==============================] - 0s 29us/step - loss: 0.2782 - acc: 0.8940\n",
      "Epoch 20/100\n",
      "1792/1792 [==============================] - 0s 30us/step - loss: 0.2750 - acc: 0.8962\n",
      "Epoch 21/100\n",
      "1792/1792 [==============================] - 0s 33us/step - loss: 0.2724 - acc: 0.8945\n",
      "Epoch 22/100\n",
      "1792/1792 [==============================] - 0s 30us/step - loss: 0.2699 - acc: 0.8962\n",
      "Epoch 23/100\n",
      "1792/1792 [==============================] - 0s 29us/step - loss: 0.2678 - acc: 0.8956\n",
      "Epoch 24/100\n",
      "1792/1792 [==============================] - 0s 33us/step - loss: 0.2653 - acc: 0.8956\n",
      "Epoch 25/100\n",
      "1792/1792 [==============================] - 0s 29us/step - loss: 0.2634 - acc: 0.8951\n",
      "Epoch 26/100\n",
      "1792/1792 [==============================] - 0s 29us/step - loss: 0.2617 - acc: 0.8951\n",
      "Epoch 27/100\n",
      "1792/1792 [==============================] - 0s 35us/step - loss: 0.2591 - acc: 0.8956\n",
      "Epoch 28/100\n",
      "1792/1792 [==============================] - 0s 31us/step - loss: 0.2583 - acc: 0.8984\n",
      "Epoch 29/100\n",
      "1792/1792 [==============================] - 0s 33us/step - loss: 0.2569 - acc: 0.8984\n",
      "Epoch 30/100\n",
      "1792/1792 [==============================] - 0s 30us/step - loss: 0.2550 - acc: 0.8996\n",
      "Epoch 31/100\n",
      "1792/1792 [==============================] - 0s 33us/step - loss: 0.2544 - acc: 0.9001\n",
      "Epoch 32/100\n",
      "1792/1792 [==============================] - 0s 29us/step - loss: 0.2517 - acc: 0.9007\n",
      "Epoch 33/100\n",
      "1792/1792 [==============================] - 0s 30us/step - loss: 0.2516 - acc: 0.9023\n",
      "Epoch 34/100\n",
      "1792/1792 [==============================] - 0s 32us/step - loss: 0.2502 - acc: 0.9018\n",
      "Epoch 35/100\n",
      "1792/1792 [==============================] - 0s 30us/step - loss: 0.2488 - acc: 0.9007\n",
      "Epoch 36/100\n",
      "1792/1792 [==============================] - 0s 29us/step - loss: 0.2477 - acc: 0.9035\n",
      "Epoch 37/100\n",
      "1792/1792 [==============================] - 0s 29us/step - loss: 0.2472 - acc: 0.9029\n",
      "Epoch 38/100\n",
      "1792/1792 [==============================] - 0s 29us/step - loss: 0.2454 - acc: 0.9040\n",
      "Epoch 39/100\n",
      "1792/1792 [==============================] - 0s 30us/step - loss: 0.2460 - acc: 0.9051\n",
      "Epoch 40/100\n",
      "1792/1792 [==============================] - 0s 29us/step - loss: 0.2450 - acc: 0.9051\n",
      "Epoch 41/100\n",
      "1792/1792 [==============================] - 0s 29us/step - loss: 0.2436 - acc: 0.9057\n",
      "Epoch 42/100\n",
      "1792/1792 [==============================] - 0s 29us/step - loss: 0.2433 - acc: 0.9057\n",
      "Epoch 43/100\n",
      "1792/1792 [==============================] - 0s 29us/step - loss: 0.2428 - acc: 0.9051\n",
      "Epoch 44/100\n",
      "1792/1792 [==============================] - 0s 31us/step - loss: 0.2418 - acc: 0.9051\n",
      "Epoch 45/100\n",
      "1792/1792 [==============================] - 0s 29us/step - loss: 0.2411 - acc: 0.9051\n",
      "Epoch 46/100\n",
      "1792/1792 [==============================] - 0s 31us/step - loss: 0.2409 - acc: 0.9029\n",
      "Epoch 47/100\n",
      "1792/1792 [==============================] - 0s 29us/step - loss: 0.2397 - acc: 0.9085\n",
      "Epoch 48/100\n",
      "1792/1792 [==============================] - 0s 31us/step - loss: 0.2392 - acc: 0.9085\n",
      "Epoch 49/100\n",
      "1792/1792 [==============================] - 0s 31us/step - loss: 0.2387 - acc: 0.9057\n",
      "Epoch 50/100\n",
      "1792/1792 [==============================] - 0s 32us/step - loss: 0.2380 - acc: 0.9068\n",
      "Epoch 51/100\n",
      "1792/1792 [==============================] - 0s 31us/step - loss: 0.2371 - acc: 0.9068\n",
      "Epoch 52/100\n",
      "1792/1792 [==============================] - 0s 32us/step - loss: 0.2369 - acc: 0.9079\n",
      "Epoch 53/100\n",
      "1792/1792 [==============================] - 0s 30us/step - loss: 0.2362 - acc: 0.9074\n",
      "Epoch 54/100\n",
      "1792/1792 [==============================] - 0s 33us/step - loss: 0.2358 - acc: 0.9090\n",
      "Epoch 55/100\n",
      "1792/1792 [==============================] - 0s 29us/step - loss: 0.2354 - acc: 0.9096\n",
      "Epoch 56/100\n",
      "1792/1792 [==============================] - 0s 31us/step - loss: 0.2347 - acc: 0.9085\n",
      "Epoch 57/100\n",
      "1792/1792 [==============================] - 0s 33us/step - loss: 0.2341 - acc: 0.9068\n",
      "Epoch 58/100\n",
      "1792/1792 [==============================] - 0s 30us/step - loss: 0.2334 - acc: 0.9090\n",
      "Epoch 59/100\n",
      "1792/1792 [==============================] - 0s 29us/step - loss: 0.2327 - acc: 0.9062\n",
      "Epoch 60/100\n",
      "1792/1792 [==============================] - 0s 30us/step - loss: 0.2330 - acc: 0.9079\n",
      "Epoch 61/100\n",
      "1792/1792 [==============================] - 0s 29us/step - loss: 0.2327 - acc: 0.9079\n",
      "Epoch 62/100\n",
      "1792/1792 [==============================] - 0s 32us/step - loss: 0.2322 - acc: 0.9113\n",
      "Epoch 63/100\n",
      "1792/1792 [==============================] - 0s 32us/step - loss: 0.2316 - acc: 0.9085\n",
      "Epoch 64/100\n",
      "1792/1792 [==============================] - 0s 29us/step - loss: 0.2321 - acc: 0.9074\n",
      "Epoch 65/100\n",
      "1792/1792 [==============================] - 0s 35us/step - loss: 0.2310 - acc: 0.9090\n",
      "Epoch 66/100\n",
      "1792/1792 [==============================] - 0s 33us/step - loss: 0.2301 - acc: 0.9124\n",
      "Epoch 67/100\n",
      "1792/1792 [==============================] - 0s 34us/step - loss: 0.2303 - acc: 0.9113\n",
      "Epoch 68/100\n",
      "1792/1792 [==============================] - 0s 33us/step - loss: 0.2295 - acc: 0.9107\n",
      "Epoch 69/100\n",
      "1792/1792 [==============================] - 0s 30us/step - loss: 0.2288 - acc: 0.9107\n",
      "Epoch 70/100\n",
      "1792/1792 [==============================] - 0s 33us/step - loss: 0.2286 - acc: 0.9107\n",
      "Epoch 71/100\n",
      "1792/1792 [==============================] - 0s 31us/step - loss: 0.2281 - acc: 0.9129\n",
      "Epoch 72/100\n",
      "1792/1792 [==============================] - 0s 33us/step - loss: 0.2273 - acc: 0.9129\n",
      "Epoch 73/100\n",
      "1792/1792 [==============================] - 0s 30us/step - loss: 0.2266 - acc: 0.9118\n",
      "Epoch 74/100\n",
      "1792/1792 [==============================] - 0s 33us/step - loss: 0.2264 - acc: 0.9135\n",
      "Epoch 75/100\n",
      "1792/1792 [==============================] - 0s 29us/step - loss: 0.2261 - acc: 0.9102\n",
      "Epoch 76/100\n",
      "1792/1792 [==============================] - 0s 29us/step - loss: 0.2249 - acc: 0.9124\n",
      "Epoch 77/100\n",
      "1792/1792 [==============================] - 0s 30us/step - loss: 0.2247 - acc: 0.9163\n",
      "Epoch 78/100\n",
      "1792/1792 [==============================] - 0s 32us/step - loss: 0.2252 - acc: 0.9129\n",
      "Epoch 79/100\n",
      "1792/1792 [==============================] - 0s 32us/step - loss: 0.2246 - acc: 0.9118\n",
      "Epoch 80/100\n",
      "1792/1792 [==============================] - 0s 36us/step - loss: 0.2239 - acc: 0.9146\n",
      "Epoch 81/100\n",
      "1792/1792 [==============================] - 0s 33us/step - loss: 0.2234 - acc: 0.9152\n",
      "Epoch 82/100\n",
      "1792/1792 [==============================] - 0s 29us/step - loss: 0.2222 - acc: 0.9129\n",
      "Epoch 83/100\n",
      "1792/1792 [==============================] - 0s 29us/step - loss: 0.2226 - acc: 0.9129\n",
      "Epoch 84/100\n",
      "1792/1792 [==============================] - 0s 29us/step - loss: 0.2228 - acc: 0.9146\n",
      "Epoch 85/100\n",
      "1792/1792 [==============================] - 0s 32us/step - loss: 0.2218 - acc: 0.9141\n",
      "Epoch 86/100\n",
      "1792/1792 [==============================] - 0s 29us/step - loss: 0.2210 - acc: 0.9174\n",
      "Epoch 87/100\n",
      "1792/1792 [==============================] - 0s 29us/step - loss: 0.2215 - acc: 0.9129\n",
      "Epoch 88/100\n",
      "1792/1792 [==============================] - 0s 29us/step - loss: 0.2209 - acc: 0.9152\n",
      "Epoch 89/100\n",
      "1792/1792 [==============================] - 0s 31us/step - loss: 0.2199 - acc: 0.9141\n",
      "Epoch 90/100\n",
      "1792/1792 [==============================] - 0s 32us/step - loss: 0.2200 - acc: 0.9146\n",
      "Epoch 91/100\n",
      "1792/1792 [==============================] - 0s 29us/step - loss: 0.2201 - acc: 0.9174\n",
      "Epoch 92/100\n",
      "1792/1792 [==============================] - 0s 33us/step - loss: 0.2190 - acc: 0.9146\n",
      "Epoch 93/100\n",
      "1792/1792 [==============================] - 0s 29us/step - loss: 0.2190 - acc: 0.9174\n",
      "Epoch 94/100\n",
      "1792/1792 [==============================] - 0s 29us/step - loss: 0.2182 - acc: 0.9157\n",
      "Epoch 95/100\n",
      "1792/1792 [==============================] - 0s 29us/step - loss: 0.2181 - acc: 0.9191\n",
      "Epoch 96/100\n",
      "1792/1792 [==============================] - 0s 31us/step - loss: 0.2173 - acc: 0.9174\n",
      "Epoch 97/100\n",
      "1792/1792 [==============================] - 0s 29us/step - loss: 0.2174 - acc: 0.9157\n",
      "Epoch 98/100\n",
      "1792/1792 [==============================] - 0s 29us/step - loss: 0.2165 - acc: 0.9174\n",
      "Epoch 99/100\n",
      "1792/1792 [==============================] - 0s 30us/step - loss: 0.2163 - acc: 0.9157\n",
      "Epoch 100/100\n",
      "1792/1792 [==============================] - 0s 31us/step - loss: 0.2159 - acc: 0.9174\n"
     ]
    }
   ],
   "source": [
    "model.fit(X_train, y_train, epochs=100)\n",
    "y_predicted = model.predict(X_test)\n"
   ]
  },
  {
   "cell_type": "code",
   "execution_count": 13,
   "metadata": {},
   "outputs": [
    {
     "data": {
      "image/png": "[encoded data removed]",
      "text/plain": [
       "<Figure size 432x288 with 1 Axes>"
      ]
     },
     "metadata": {},
     "output_type": "display_data"
    }
   ],
   "source": [
    "threshold = utils.max_threshold(y_predicted, y_test, threshold_range = (0.1, 0.6),iterations=10000, visualization=True)"
   ]
  },
  {
   "cell_type": "code",
   "execution_count": 14,
   "metadata": {},
   "outputs": [
    {
     "name": "stdout",
     "output_type": "stream",
     "text": [
      "Profit: 0.62\n"
     ]
    }
   ],
   "source": [
    "y_pred = utils.predict_with_threshold(y_predicted,threshold)\n",
    "print(\"Profit:\", utils.profit_share(y_pred, y_test))"
   ]
  }
 ],
 "metadata": {
  "kernelspec": {
   "display_name": "Python 3",
   "language": "python",
   "name": "python3"
  },
  "language_info": {
   "codemirror_mode": {
    "name": "ipython",
    "version": 3
   },
   "file_extension": ".py",
   "mimetype": "text/x-python",
   "name": "python",
   "nbconvert_exporter": "python",
   "pygments_lexer": "ipython3",
   "version": "3.7.1"
  }
 },
 "nbformat": 4,
 "nbformat_minor": 2
}
