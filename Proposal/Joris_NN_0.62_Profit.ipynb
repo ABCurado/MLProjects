{
 "cells": [
  {
   "cell_type": "code",
   "execution_count": null,
   "metadata": {},
   "outputs": [],
   "source": []
  },
  {
   "cell_type": "code",
   "execution_count": null,
   "metadata": {},
   "outputs": [],
   "source": []
  },
  {
   "cell_type": "code",
   "execution_count": null,
   "metadata": {},
   "outputs": [],
   "source": []
  },
  {
   "cell_type": "code",
   "execution_count": null,
   "metadata": {},
   "outputs": [],
   "source": [
    "from numpy.random import seed\n",
    "seed(1)\n",
    "from tensorflow import set_random_seed\n",
    "set_random_seed(2)"
   ]
  },
  {
   "cell_type": "code",
   "execution_count": 1,
   "metadata": {},
   "outputs": [
    {
     "name": "stderr",
     "output_type": "stream",
     "text": [
      "Using TensorFlow backend.\n"
     ]
    }
   ],
   "source": [
    "#Import all the files to be shared among all notebooks \n",
    "import utils\n",
    "import preprocessing\n",
    "import data_visualization\n",
    "import feature_engineering\n",
    "from ML_algorithms import *\n",
    "import pandas as pd\n",
    "from seaborn import countplot\n",
    "import numpy as np"
   ]
  },
  {
   "cell_type": "code",
   "execution_count": 2,
   "metadata": {},
   "outputs": [],
   "source": [
    "df = utils.get_dataset()"
   ]
  },
  {
   "cell_type": "code",
   "execution_count": 3,
   "metadata": {},
   "outputs": [],
   "source": [
    "df = preprocessing.encode_education(df)\n",
    "df = preprocessing.one_hot_encoding(df,columns = [\"Marital_Status\"])\n",
    "df = preprocessing.encode_days_as_costumer(df)\n",
    "df = feature_engineering.drop_useless_columns(df)"
   ]
  },
  {
   "cell_type": "code",
   "execution_count": 4,
   "metadata": {},
   "outputs": [],
   "source": [
    "df = preprocessing.impute_income_KNN(df)"
   ]
  },
  {
   "cell_type": "code",
   "execution_count": 5,
   "metadata": {},
   "outputs": [],
   "source": [
    "df = df.drop([\"Kidhome\",\"Teenhome\", \"Education\",\"Year_Birth\",\"Dt_Customer\"], axis=1)"
   ]
  },
  {
   "cell_type": "code",
   "execution_count": 6,
   "metadata": {},
   "outputs": [
    {
     "data": {
      "text/plain": [
       "(2240, 28)"
      ]
     },
     "execution_count": 6,
     "metadata": {},
     "output_type": "execute_result"
    }
   ],
   "source": [
    "df.shape"
   ]
  },
  {
   "cell_type": "code",
   "execution_count": 7,
   "metadata": {},
   "outputs": [],
   "source": [
    "seed = 0"
   ]
  },
  {
   "cell_type": "code",
   "execution_count": 8,
   "metadata": {},
   "outputs": [],
   "source": [
    "# perform the train, test split\n",
    "X_train, X_test, y_train, y_test = utils.data_split(df, test_size=0.2, random_state=seed)"
   ]
  },
  {
   "cell_type": "code",
   "execution_count": 9,
   "metadata": {},
   "outputs": [
    {
     "name": "stderr",
     "output_type": "stream",
     "text": [
      "/opt/conda/lib/python3.7/site-packages/sklearn/preprocessing/data.py:334: DataConversionWarning: Data with input dtype uint8, int64, float64 were all converted to float64 by MinMaxScaler.\n",
      "  return self.partial_fit(X, y)\n"
     ]
    }
   ],
   "source": [
    "X_train, X_test = preprocessing.Min_Max_Train(X_train, X_test)"
   ]
  },
  {
   "cell_type": "markdown",
   "metadata": {},
   "source": [
    "#### a list of available initializations:\n",
    "    \n",
    "    * uniform\n",
    "    * lecun_uniform: Uniform initialization scaled by the square root of the number of inputs (LeCun 98).\n",
    "    normal\n",
    "    * identity: Use with square 2D layers (shape[0] == shape[1]).\n",
    "    * orthogonal: Use with square 2D layers (shape[0] == shape[1]).\n",
    "    * zero\n",
    "    * one\n",
    "    * glorot_normal: Gaussian initialization scaled by fan_in + fan_out (Glorot 2010)\n",
    "    * glorot_uniform\n",
    "    * he_normal: Gaussian initialization scaled by fan_in (He et al., 2014)\n",
    "    * he_uniform\n",
    "    \n",
    "####  a list of available optimizers:\n",
    "\n",
    "    * adam\n",
    "    * sgd\n",
    "    * adagrad\n",
    "    * adadelta\n",
    "    * nadam\n",
    "    * rmsprop\n",
    "    * adamax\n",
    "    \n",
    "#### a list of available loss functions:\n",
    "\n",
    "    * binary_crossentropy\n",
    "    * mean_squared_error\n",
    "    * categorical_hinge\n",
    "    * kld\n",
    "    \n",
    "    \n",
    "\n"
   ]
  },
  {
   "cell_type": "code",
   "execution_count": 50,
   "metadata": {
    "scrolled": true
   },
   "outputs": [
    {
     "name": "stderr",
     "output_type": "stream",
     "text": [
      "/home/jovyan/work/2_Semester/Machine Learning/MLProjects/Proposal/ML_algorithms.py:34: UserWarning: Update your `Dense` call to the Keras 2 API: `Dense(1, activation=\"sigmoid\", kernel_initializer=\"uniform\")`\n",
      "  model.add(layers.Dense(1, activation=\"sigmoid\", init=init))\n"
     ]
    },
    {
     "ename": "TypeError",
     "evalue": "Tensor objects are only iterable when eager execution is enabled. To iterate over this tensor use tf.map_fn.",
     "output_type": "error",
     "traceback": [
      "\u001b[0;31m---------------------------------------------------------------------------\u001b[0m",
      "\u001b[0;31mTypeError\u001b[0m                                 Traceback (most recent call last)",
      "\u001b[0;32m<ipython-input-50-f54c97bd6063>\u001b[0m in \u001b[0;36m<module>\u001b[0;34m\u001b[0m\n\u001b[0;32m----> 1\u001b[0;31m \u001b[0mmodel\u001b[0m \u001b[0;34m=\u001b[0m \u001b[0mKerasNN\u001b[0m\u001b[0;34m(\u001b[0m\u001b[0mX_train\u001b[0m\u001b[0;34m,\u001b[0m \u001b[0mX_test\u001b[0m\u001b[0;34m,\u001b[0m \u001b[0my_train\u001b[0m\u001b[0;34m,\u001b[0m \u001b[0my_test\u001b[0m\u001b[0;34m,\u001b[0m \u001b[0minput_dim\u001b[0m\u001b[0;34m=\u001b[0m\u001b[0;36m27\u001b[0m\u001b[0;34m,\u001b[0m\u001b[0minit\u001b[0m\u001b[0;34m=\u001b[0m\u001b[0;34m\"uniform\"\u001b[0m\u001b[0;34m,\u001b[0m \u001b[0mmetrics\u001b[0m\u001b[0;34m=\u001b[0m\u001b[0;34m[\u001b[0m\u001b[0;34m\"accuracy\"\u001b[0m\u001b[0;34m,\u001b[0m \u001b[0mprofit_share_function\u001b[0m\u001b[0;34m]\u001b[0m\u001b[0;34m)\u001b[0m\u001b[0;34m\u001b[0m\u001b[0;34m\u001b[0m\u001b[0m\n\u001b[0m",
      "\u001b[0;32m~/work/2_Semester/Machine Learning/MLProjects/Proposal/ML_algorithms.py\u001b[0m in \u001b[0;36mKerasNN\u001b[0;34m(X_train, X_test, y_train, y_test, input_dim, n_layers, optimizer, loss, init, metrics, random_state)\u001b[0m\n\u001b[1;32m     33\u001b[0m         \u001b[0mmodel\u001b[0m\u001b[0;34m.\u001b[0m\u001b[0madd\u001b[0m\u001b[0;34m(\u001b[0m\u001b[0mlayers\u001b[0m\u001b[0;34m.\u001b[0m\u001b[0mDense\u001b[0m\u001b[0;34m(\u001b[0m\u001b[0;36m6\u001b[0m\u001b[0;34m,\u001b[0m \u001b[0mactivation\u001b[0m\u001b[0;34m=\u001b[0m\u001b[0;34m\"relu\"\u001b[0m\u001b[0;34m)\u001b[0m\u001b[0;34m)\u001b[0m\u001b[0;34m\u001b[0m\u001b[0;34m\u001b[0m\u001b[0m\n\u001b[1;32m     34\u001b[0m     \u001b[0mmodel\u001b[0m\u001b[0;34m.\u001b[0m\u001b[0madd\u001b[0m\u001b[0;34m(\u001b[0m\u001b[0mlayers\u001b[0m\u001b[0;34m.\u001b[0m\u001b[0mDense\u001b[0m\u001b[0;34m(\u001b[0m\u001b[0;36m1\u001b[0m\u001b[0;34m,\u001b[0m \u001b[0mactivation\u001b[0m\u001b[0;34m=\u001b[0m\u001b[0;34m\"sigmoid\"\u001b[0m\u001b[0;34m,\u001b[0m \u001b[0minit\u001b[0m\u001b[0;34m=\u001b[0m\u001b[0minit\u001b[0m\u001b[0;34m)\u001b[0m\u001b[0;34m)\u001b[0m\u001b[0;34m\u001b[0m\u001b[0;34m\u001b[0m\u001b[0m\n\u001b[0;32m---> 35\u001b[0;31m     \u001b[0mmodel\u001b[0m\u001b[0;34m.\u001b[0m\u001b[0mcompile\u001b[0m\u001b[0;34m(\u001b[0m\u001b[0moptimizer\u001b[0m\u001b[0;34m,\u001b[0m \u001b[0mloss\u001b[0m\u001b[0;34m,\u001b[0m \u001b[0mmetrics\u001b[0m\u001b[0;34m=\u001b[0m\u001b[0mmetrics\u001b[0m\u001b[0;34m)\u001b[0m\u001b[0;34m\u001b[0m\u001b[0;34m\u001b[0m\u001b[0m\n\u001b[0m\u001b[1;32m     36\u001b[0m \u001b[0;34m\u001b[0m\u001b[0m\n\u001b[1;32m     37\u001b[0m     \u001b[0minitial_weights\u001b[0m \u001b[0;34m=\u001b[0m \u001b[0mmodel\u001b[0m\u001b[0;34m.\u001b[0m\u001b[0mget_weights\u001b[0m\u001b[0;34m(\u001b[0m\u001b[0;34m)\u001b[0m\u001b[0;34m\u001b[0m\u001b[0;34m\u001b[0m\u001b[0m\n",
      "\u001b[0;32m/opt/conda/lib/python3.7/site-packages/keras/engine/training.py\u001b[0m in \u001b[0;36mcompile\u001b[0;34m(self, optimizer, loss, metrics, loss_weights, sample_weight_mode, weighted_metrics, target_tensors, **kwargs)\u001b[0m\n\u001b[1;32m    449\u001b[0m                 \u001b[0moutput_metrics\u001b[0m \u001b[0;34m=\u001b[0m \u001b[0mnested_metrics\u001b[0m\u001b[0;34m[\u001b[0m\u001b[0mi\u001b[0m\u001b[0;34m]\u001b[0m\u001b[0;34m\u001b[0m\u001b[0;34m\u001b[0m\u001b[0m\n\u001b[1;32m    450\u001b[0m                 \u001b[0moutput_weighted_metrics\u001b[0m \u001b[0;34m=\u001b[0m \u001b[0mnested_weighted_metrics\u001b[0m\u001b[0;34m[\u001b[0m\u001b[0mi\u001b[0m\u001b[0;34m]\u001b[0m\u001b[0;34m\u001b[0m\u001b[0;34m\u001b[0m\u001b[0m\n\u001b[0;32m--> 451\u001b[0;31m                 \u001b[0mhandle_metrics\u001b[0m\u001b[0;34m(\u001b[0m\u001b[0moutput_metrics\u001b[0m\u001b[0;34m)\u001b[0m\u001b[0;34m\u001b[0m\u001b[0;34m\u001b[0m\u001b[0m\n\u001b[0m\u001b[1;32m    452\u001b[0m                 \u001b[0mhandle_metrics\u001b[0m\u001b[0;34m(\u001b[0m\u001b[0moutput_weighted_metrics\u001b[0m\u001b[0;34m,\u001b[0m \u001b[0mweights\u001b[0m\u001b[0;34m=\u001b[0m\u001b[0mweights\u001b[0m\u001b[0;34m)\u001b[0m\u001b[0;34m\u001b[0m\u001b[0;34m\u001b[0m\u001b[0m\n\u001b[1;32m    453\u001b[0m \u001b[0;34m\u001b[0m\u001b[0m\n",
      "\u001b[0;32m/opt/conda/lib/python3.7/site-packages/keras/engine/training.py\u001b[0m in \u001b[0;36mhandle_metrics\u001b[0;34m(metrics, weights)\u001b[0m\n\u001b[1;32m    418\u001b[0m                     metric_result = weighted_metric_fn(y_true, y_pred,\n\u001b[1;32m    419\u001b[0m                                                        \u001b[0mweights\u001b[0m\u001b[0;34m=\u001b[0m\u001b[0mweights\u001b[0m\u001b[0;34m,\u001b[0m\u001b[0;34m\u001b[0m\u001b[0;34m\u001b[0m\u001b[0m\n\u001b[0;32m--> 420\u001b[0;31m                                                        mask=masks[i])\n\u001b[0m\u001b[1;32m    421\u001b[0m \u001b[0;34m\u001b[0m\u001b[0m\n\u001b[1;32m    422\u001b[0m                 \u001b[0;31m# Append to self.metrics_names, self.metric_tensors,\u001b[0m\u001b[0;34m\u001b[0m\u001b[0;34m\u001b[0m\u001b[0;34m\u001b[0m\u001b[0m\n",
      "\u001b[0;32m/opt/conda/lib/python3.7/site-packages/keras/engine/training_utils.py\u001b[0m in \u001b[0;36mweighted\u001b[0;34m(y_true, y_pred, weights, mask)\u001b[0m\n\u001b[1;32m    402\u001b[0m         \"\"\"\n\u001b[1;32m    403\u001b[0m         \u001b[0;31m# score_array has ndim >= 2\u001b[0m\u001b[0;34m\u001b[0m\u001b[0;34m\u001b[0m\u001b[0;34m\u001b[0m\u001b[0m\n\u001b[0;32m--> 404\u001b[0;31m         \u001b[0mscore_array\u001b[0m \u001b[0;34m=\u001b[0m \u001b[0mfn\u001b[0m\u001b[0;34m(\u001b[0m\u001b[0my_true\u001b[0m\u001b[0;34m,\u001b[0m \u001b[0my_pred\u001b[0m\u001b[0;34m)\u001b[0m\u001b[0;34m\u001b[0m\u001b[0;34m\u001b[0m\u001b[0m\n\u001b[0m\u001b[1;32m    405\u001b[0m         \u001b[0;32mif\u001b[0m \u001b[0mmask\u001b[0m \u001b[0;32mis\u001b[0m \u001b[0;32mnot\u001b[0m \u001b[0;32mNone\u001b[0m\u001b[0;34m:\u001b[0m\u001b[0;34m\u001b[0m\u001b[0;34m\u001b[0m\u001b[0m\n\u001b[1;32m    406\u001b[0m             \u001b[0;31m# Cast the mask to floatX to avoid float64 upcasting in Theano\u001b[0m\u001b[0;34m\u001b[0m\u001b[0;34m\u001b[0m\u001b[0;34m\u001b[0m\u001b[0m\n",
      "\u001b[0;32m<ipython-input-49-ba726fc587df>\u001b[0m in \u001b[0;36mprofit_share_function\u001b[0;34m(y_true, y_pred)\u001b[0m\n\u001b[1;32m      1\u001b[0m \u001b[0;32mdef\u001b[0m \u001b[0mprofit_share_function\u001b[0m\u001b[0;34m(\u001b[0m\u001b[0my_true\u001b[0m\u001b[0;34m,\u001b[0m \u001b[0my_pred\u001b[0m\u001b[0;34m)\u001b[0m\u001b[0;34m:\u001b[0m\u001b[0;34m\u001b[0m\u001b[0;34m\u001b[0m\u001b[0m\n\u001b[1;32m      2\u001b[0m     \u001b[0mscore\u001b[0m \u001b[0;34m=\u001b[0m \u001b[0mK\u001b[0m\u001b[0;34m.\u001b[0m\u001b[0msum\u001b[0m\u001b[0;34m(\u001b[0m\u001b[0;36m0\u001b[0m\u001b[0;34m)\u001b[0m\u001b[0;34m\u001b[0m\u001b[0;34m\u001b[0m\u001b[0m\n\u001b[0;32m----> 3\u001b[0;31m     \u001b[0;32mfor\u001b[0m \u001b[0mi\u001b[0m \u001b[0;32min\u001b[0m \u001b[0mK\u001b[0m\u001b[0;34m.\u001b[0m\u001b[0msum\u001b[0m\u001b[0;34m(\u001b[0m\u001b[0my_true\u001b[0m \u001b[0;34m-\u001b[0m \u001b[0;34m(\u001b[0m\u001b[0my_pred\u001b[0m \u001b[0;34m*\u001b[0m \u001b[0;36m2\u001b[0m\u001b[0;34m)\u001b[0m\u001b[0;34m)\u001b[0m\u001b[0;34m:\u001b[0m\u001b[0;34m\u001b[0m\u001b[0;34m\u001b[0m\u001b[0m\n\u001b[0m\u001b[1;32m      4\u001b[0m         \u001b[0;32mif\u001b[0m \u001b[0mi\u001b[0m \u001b[0;34m==\u001b[0m \u001b[0mK\u001b[0m\u001b[0;34m.\u001b[0m\u001b[0msum\u001b[0m\u001b[0;34m(\u001b[0m\u001b[0;34m-\u001b[0m\u001b[0;36m1\u001b[0m\u001b[0;34m)\u001b[0m\u001b[0;34m:\u001b[0m\u001b[0;34m\u001b[0m\u001b[0;34m\u001b[0m\u001b[0m\n\u001b[1;32m      5\u001b[0m             \u001b[0mscore\u001b[0m \u001b[0;34m+=\u001b[0m \u001b[0mK\u001b[0m\u001b[0;34m.\u001b[0m\u001b[0msum\u001b[0m\u001b[0;34m(\u001b[0m\u001b[0;36m8\u001b[0m\u001b[0;34m)\u001b[0m\u001b[0;34m\u001b[0m\u001b[0;34m\u001b[0m\u001b[0m\n",
      "\u001b[0;32m/opt/conda/lib/python3.7/site-packages/tensorflow/python/framework/ops.py\u001b[0m in \u001b[0;36m__iter__\u001b[0;34m(self)\u001b[0m\n\u001b[1;32m    440\u001b[0m     \u001b[0;32mif\u001b[0m \u001b[0;32mnot\u001b[0m \u001b[0mcontext\u001b[0m\u001b[0;34m.\u001b[0m\u001b[0mexecuting_eagerly\u001b[0m\u001b[0;34m(\u001b[0m\u001b[0;34m)\u001b[0m\u001b[0;34m:\u001b[0m\u001b[0;34m\u001b[0m\u001b[0;34m\u001b[0m\u001b[0m\n\u001b[1;32m    441\u001b[0m       raise TypeError(\n\u001b[0;32m--> 442\u001b[0;31m           \u001b[0;34m\"Tensor objects are only iterable when eager execution is \"\u001b[0m\u001b[0;34m\u001b[0m\u001b[0;34m\u001b[0m\u001b[0m\n\u001b[0m\u001b[1;32m    443\u001b[0m           \"enabled. To iterate over this tensor use tf.map_fn.\")\n\u001b[1;32m    444\u001b[0m     \u001b[0mshape\u001b[0m \u001b[0;34m=\u001b[0m \u001b[0mself\u001b[0m\u001b[0;34m.\u001b[0m\u001b[0m_shape_tuple\u001b[0m\u001b[0;34m(\u001b[0m\u001b[0;34m)\u001b[0m\u001b[0;34m\u001b[0m\u001b[0;34m\u001b[0m\u001b[0m\n",
      "\u001b[0;31mTypeError\u001b[0m: Tensor objects are only iterable when eager execution is enabled. To iterate over this tensor use tf.map_fn."
     ]
    }
   ],
   "source": [
    "model = KerasNN(X_train, X_test, y_train, y_test, input_dim=27,init=\"uniform\", metrics=[\"accuracy\", profit_share_function])"
   ]
  },
  {
   "cell_type": "code",
   "execution_count": 36,
   "metadata": {},
   "outputs": [
    {
     "name": "stdout",
     "output_type": "stream",
     "text": [
      "Object `tf.map_fn` not found.\n"
     ]
    }
   ],
   "source": []
  },
  {
   "cell_type": "code",
   "execution_count": 51,
   "metadata": {
    "scrolled": true
   },
   "outputs": [
    {
     "name": "stderr",
     "output_type": "stream",
     "text": [
      "/home/jovyan/work/2_Semester/Machine Learning/MLProjects/Proposal/ML_algorithms.py:34: UserWarning: Update your `Dense` call to the Keras 2 API: `Dense(1, activation=\"sigmoid\", kernel_initializer=\"uniform\")`\n",
      "  model.add(layers.Dense(1, activation=\"sigmoid\", init=init))\n"
     ]
    },
    {
     "name": "stdout",
     "output_type": "stream",
     "text": [
      "The initialization used is: uniform\n",
      "The optimizer used is: adam\n",
      "The loss used is: binary_crossentropy\n",
      "Seed: 0\n",
      "-----------------------------------------------------\n",
      "Accuracy 0.89\n",
      "Area under the curve 0.81\n",
      "Precision 0.66\n",
      "Recall 0.69\n",
      "Profit Share 0.56\n"
     ]
    },
    {
     "name": "stderr",
     "output_type": "stream",
     "text": [
      "/home/jovyan/work/2_Semester/Machine Learning/MLProjects/Proposal/ML_algorithms.py:34: UserWarning: Update your `Dense` call to the Keras 2 API: `Dense(1, activation=\"sigmoid\", kernel_initializer=\"uniform\")`\n",
      "  model.add(layers.Dense(1, activation=\"sigmoid\", init=init))\n"
     ]
    },
    {
     "name": "stdout",
     "output_type": "stream",
     "text": [
      "The initialization used is: uniform\n",
      "The optimizer used is: adam\n",
      "The loss used is: binary_crossentropy\n",
      "Seed: 1\n",
      "-----------------------------------------------------\n",
      "Accuracy 0.88\n",
      "Area under the curve 0.81\n",
      "Precision 0.56\n",
      "Recall 0.70\n",
      "Profit Share 0.50\n"
     ]
    },
    {
     "name": "stderr",
     "output_type": "stream",
     "text": [
      "/home/jovyan/work/2_Semester/Machine Learning/MLProjects/Proposal/ML_algorithms.py:34: UserWarning: Update your `Dense` call to the Keras 2 API: `Dense(1, activation=\"sigmoid\", kernel_initializer=\"uniform\")`\n",
      "  model.add(layers.Dense(1, activation=\"sigmoid\", init=init))\n"
     ]
    },
    {
     "name": "stdout",
     "output_type": "stream",
     "text": [
      "The initialization used is: uniform\n",
      "The optimizer used is: adam\n",
      "The loss used is: binary_crossentropy\n",
      "Seed: 2\n",
      "-----------------------------------------------------\n",
      "Accuracy 0.84\n",
      "Area under the curve 0.74\n",
      "Precision 0.78\n",
      "Recall 0.53\n",
      "Profit Share 0.48\n"
     ]
    },
    {
     "name": "stderr",
     "output_type": "stream",
     "text": [
      "/home/jovyan/work/2_Semester/Machine Learning/MLProjects/Proposal/ML_algorithms.py:34: UserWarning: Update your `Dense` call to the Keras 2 API: `Dense(1, activation=\"sigmoid\", kernel_initializer=\"uniform\")`\n",
      "  model.add(layers.Dense(1, activation=\"sigmoid\", init=init))\n"
     ]
    },
    {
     "name": "stdout",
     "output_type": "stream",
     "text": [
      "The initialization used is: uniform\n",
      "The optimizer used is: adam\n",
      "The loss used is: binary_crossentropy\n",
      "Seed: 3\n",
      "-----------------------------------------------------\n",
      "Accuracy 0.88\n",
      "Area under the curve 0.79\n",
      "Precision 0.69\n",
      "Recall 0.64\n",
      "Profit Share 0.53\n"
     ]
    },
    {
     "name": "stderr",
     "output_type": "stream",
     "text": [
      "/home/jovyan/work/2_Semester/Machine Learning/MLProjects/Proposal/ML_algorithms.py:34: UserWarning: Update your `Dense` call to the Keras 2 API: `Dense(1, activation=\"sigmoid\", kernel_initializer=\"uniform\")`\n",
      "  model.add(layers.Dense(1, activation=\"sigmoid\", init=init))\n"
     ]
    },
    {
     "name": "stdout",
     "output_type": "stream",
     "text": [
      "The initialization used is: uniform\n",
      "The optimizer used is: adam\n",
      "The loss used is: binary_crossentropy\n",
      "Seed: 4\n",
      "-----------------------------------------------------\n",
      "Accuracy 0.88\n",
      "Area under the curve 0.80\n",
      "Precision 0.64\n",
      "Recall 0.67\n",
      "Profit Share 0.53\n"
     ]
    },
    {
     "name": "stderr",
     "output_type": "stream",
     "text": [
      "/home/jovyan/work/2_Semester/Machine Learning/MLProjects/Proposal/ML_algorithms.py:34: UserWarning: Update your `Dense` call to the Keras 2 API: `Dense(1, activation=\"sigmoid\", kernel_initializer=\"uniform\")`\n",
      "  model.add(layers.Dense(1, activation=\"sigmoid\", init=init))\n"
     ]
    },
    {
     "name": "stdout",
     "output_type": "stream",
     "text": [
      "The initialization used is: uniform\n",
      "The optimizer used is: adam\n",
      "The loss used is: mean_squared_error\n",
      "Seed: 0\n",
      "-----------------------------------------------------\n",
      "Accuracy 0.88\n",
      "Area under the curve 0.80\n",
      "Precision 0.66\n",
      "Recall 0.68\n",
      "Profit Share 0.55\n"
     ]
    },
    {
     "name": "stderr",
     "output_type": "stream",
     "text": [
      "/home/jovyan/work/2_Semester/Machine Learning/MLProjects/Proposal/ML_algorithms.py:34: UserWarning: Update your `Dense` call to the Keras 2 API: `Dense(1, activation=\"sigmoid\", kernel_initializer=\"uniform\")`\n",
      "  model.add(layers.Dense(1, activation=\"sigmoid\", init=init))\n"
     ]
    },
    {
     "name": "stdout",
     "output_type": "stream",
     "text": [
      "The initialization used is: uniform\n",
      "The optimizer used is: adam\n",
      "The loss used is: mean_squared_error\n",
      "Seed: 1\n",
      "-----------------------------------------------------\n",
      "Accuracy 0.84\n",
      "Area under the curve 0.74\n",
      "Precision 0.74\n",
      "Recall 0.54\n",
      "Profit Share 0.47\n"
     ]
    },
    {
     "name": "stderr",
     "output_type": "stream",
     "text": [
      "/home/jovyan/work/2_Semester/Machine Learning/MLProjects/Proposal/ML_algorithms.py:34: UserWarning: Update your `Dense` call to the Keras 2 API: `Dense(1, activation=\"sigmoid\", kernel_initializer=\"uniform\")`\n",
      "  model.add(layers.Dense(1, activation=\"sigmoid\", init=init))\n"
     ]
    },
    {
     "name": "stdout",
     "output_type": "stream",
     "text": [
      "The initialization used is: uniform\n",
      "The optimizer used is: adam\n",
      "The loss used is: mean_squared_error\n",
      "Seed: 2\n",
      "-----------------------------------------------------\n",
      "Accuracy 0.88\n",
      "Area under the curve 0.80\n",
      "Precision 0.57\n",
      "Recall 0.69\n",
      "Profit Share 0.50\n"
     ]
    },
    {
     "name": "stderr",
     "output_type": "stream",
     "text": [
      "/home/jovyan/work/2_Semester/Machine Learning/MLProjects/Proposal/ML_algorithms.py:34: UserWarning: Update your `Dense` call to the Keras 2 API: `Dense(1, activation=\"sigmoid\", kernel_initializer=\"uniform\")`\n",
      "  model.add(layers.Dense(1, activation=\"sigmoid\", init=init))\n"
     ]
    },
    {
     "name": "stdout",
     "output_type": "stream",
     "text": [
      "The initialization used is: uniform\n",
      "The optimizer used is: adam\n",
      "The loss used is: mean_squared_error\n",
      "Seed: 3\n",
      "-----------------------------------------------------\n",
      "Accuracy 0.87\n",
      "Area under the curve 0.78\n",
      "Precision 0.62\n",
      "Recall 0.64\n",
      "Profit Share 0.50\n"
     ]
    },
    {
     "name": "stderr",
     "output_type": "stream",
     "text": [
      "/home/jovyan/work/2_Semester/Machine Learning/MLProjects/Proposal/ML_algorithms.py:34: UserWarning: Update your `Dense` call to the Keras 2 API: `Dense(1, activation=\"sigmoid\", kernel_initializer=\"uniform\")`\n",
      "  model.add(layers.Dense(1, activation=\"sigmoid\", init=init))\n"
     ]
    },
    {
     "name": "stdout",
     "output_type": "stream",
     "text": [
      "The initialization used is: uniform\n",
      "The optimizer used is: adam\n",
      "The loss used is: mean_squared_error\n",
      "Seed: 4\n",
      "-----------------------------------------------------\n",
      "Accuracy 0.89\n",
      "Area under the curve 0.82\n",
      "Precision 0.59\n",
      "Recall 0.73\n",
      "Profit Share 0.54\n"
     ]
    },
    {
     "name": "stderr",
     "output_type": "stream",
     "text": [
      "/home/jovyan/work/2_Semester/Machine Learning/MLProjects/Proposal/ML_algorithms.py:34: UserWarning: Update your `Dense` call to the Keras 2 API: `Dense(1, activation=\"sigmoid\", kernel_initializer=\"uniform\")`\n",
      "  model.add(layers.Dense(1, activation=\"sigmoid\", init=init))\n"
     ]
    },
    {
     "name": "stdout",
     "output_type": "stream",
     "text": [
      "The initialization used is: uniform\n",
      "The optimizer used is: rmsprop\n",
      "The loss used is: binary_crossentropy\n",
      "Seed: 0\n",
      "-----------------------------------------------------\n",
      "Accuracy 0.88\n",
      "Area under the curve 0.80\n",
      "Precision 0.72\n",
      "Recall 0.65\n",
      "Profit Share 0.56\n"
     ]
    },
    {
     "name": "stderr",
     "output_type": "stream",
     "text": [
      "/home/jovyan/work/2_Semester/Machine Learning/MLProjects/Proposal/ML_algorithms.py:34: UserWarning: Update your `Dense` call to the Keras 2 API: `Dense(1, activation=\"sigmoid\", kernel_initializer=\"uniform\")`\n",
      "  model.add(layers.Dense(1, activation=\"sigmoid\", init=init))\n"
     ]
    },
    {
     "name": "stdout",
     "output_type": "stream",
     "text": [
      "The initialization used is: uniform\n",
      "The optimizer used is: rmsprop\n",
      "The loss used is: binary_crossentropy\n",
      "Seed: 1\n",
      "-----------------------------------------------------\n",
      "Accuracy 0.86\n",
      "Area under the curve 0.77\n",
      "Precision 0.75\n",
      "Recall 0.59\n",
      "Profit Share 0.52\n"
     ]
    },
    {
     "name": "stderr",
     "output_type": "stream",
     "text": [
      "/home/jovyan/work/2_Semester/Machine Learning/MLProjects/Proposal/ML_algorithms.py:34: UserWarning: Update your `Dense` call to the Keras 2 API: `Dense(1, activation=\"sigmoid\", kernel_initializer=\"uniform\")`\n",
      "  model.add(layers.Dense(1, activation=\"sigmoid\", init=init))\n"
     ]
    },
    {
     "name": "stdout",
     "output_type": "stream",
     "text": [
      "The initialization used is: uniform\n",
      "The optimizer used is: rmsprop\n",
      "The loss used is: binary_crossentropy\n",
      "Seed: 2\n",
      "-----------------------------------------------------\n",
      "Accuracy 0.88\n",
      "Area under the curve 0.80\n",
      "Precision 0.60\n",
      "Recall 0.68\n",
      "Profit Share 0.51\n"
     ]
    },
    {
     "name": "stderr",
     "output_type": "stream",
     "text": [
      "/home/jovyan/work/2_Semester/Machine Learning/MLProjects/Proposal/ML_algorithms.py:34: UserWarning: Update your `Dense` call to the Keras 2 API: `Dense(1, activation=\"sigmoid\", kernel_initializer=\"uniform\")`\n",
      "  model.add(layers.Dense(1, activation=\"sigmoid\", init=init))\n"
     ]
    },
    {
     "name": "stdout",
     "output_type": "stream",
     "text": [
      "The initialization used is: uniform\n",
      "The optimizer used is: rmsprop\n",
      "The loss used is: binary_crossentropy\n",
      "Seed: 3\n",
      "-----------------------------------------------------\n",
      "Accuracy 0.88\n",
      "Area under the curve 0.80\n",
      "Precision 0.65\n",
      "Recall 0.68\n",
      "Profit Share 0.54\n"
     ]
    },
    {
     "name": "stderr",
     "output_type": "stream",
     "text": [
      "/home/jovyan/work/2_Semester/Machine Learning/MLProjects/Proposal/ML_algorithms.py:34: UserWarning: Update your `Dense` call to the Keras 2 API: `Dense(1, activation=\"sigmoid\", kernel_initializer=\"uniform\")`\n",
      "  model.add(layers.Dense(1, activation=\"sigmoid\", init=init))\n"
     ]
    },
    {
     "name": "stdout",
     "output_type": "stream",
     "text": [
      "The initialization used is: uniform\n",
      "The optimizer used is: rmsprop\n",
      "The loss used is: binary_crossentropy\n",
      "Seed: 4\n",
      "-----------------------------------------------------\n",
      "Accuracy 0.88\n",
      "Area under the curve 0.79\n",
      "Precision 0.66\n",
      "Recall 0.65\n",
      "Profit Share 0.53\n"
     ]
    },
    {
     "name": "stderr",
     "output_type": "stream",
     "text": [
      "/home/jovyan/work/2_Semester/Machine Learning/MLProjects/Proposal/ML_algorithms.py:34: UserWarning: Update your `Dense` call to the Keras 2 API: `Dense(1, activation=\"sigmoid\", kernel_initializer=\"uniform\")`\n",
      "  model.add(layers.Dense(1, activation=\"sigmoid\", init=init))\n"
     ]
    },
    {
     "name": "stdout",
     "output_type": "stream",
     "text": [
      "The initialization used is: uniform\n",
      "The optimizer used is: rmsprop\n",
      "The loss used is: mean_squared_error\n",
      "Seed: 0\n",
      "-----------------------------------------------------\n",
      "Accuracy 0.88\n",
      "Area under the curve 0.79\n",
      "Precision 0.76\n",
      "Recall 0.63\n",
      "Profit Share 0.56\n"
     ]
    },
    {
     "name": "stderr",
     "output_type": "stream",
     "text": [
      "/home/jovyan/work/2_Semester/Machine Learning/MLProjects/Proposal/ML_algorithms.py:34: UserWarning: Update your `Dense` call to the Keras 2 API: `Dense(1, activation=\"sigmoid\", kernel_initializer=\"uniform\")`\n",
      "  model.add(layers.Dense(1, activation=\"sigmoid\", init=init))\n"
     ]
    },
    {
     "name": "stdout",
     "output_type": "stream",
     "text": [
      "The initialization used is: uniform\n",
      "The optimizer used is: rmsprop\n",
      "The loss used is: mean_squared_error\n",
      "Seed: 1\n",
      "-----------------------------------------------------\n",
      "Accuracy 0.87\n",
      "Area under the curve 0.79\n",
      "Precision 0.55\n",
      "Recall 0.68\n",
      "Profit Share 0.47\n"
     ]
    },
    {
     "name": "stderr",
     "output_type": "stream",
     "text": [
      "/home/jovyan/work/2_Semester/Machine Learning/MLProjects/Proposal/ML_algorithms.py:34: UserWarning: Update your `Dense` call to the Keras 2 API: `Dense(1, activation=\"sigmoid\", kernel_initializer=\"uniform\")`\n",
      "  model.add(layers.Dense(1, activation=\"sigmoid\", init=init))\n"
     ]
    },
    {
     "name": "stdout",
     "output_type": "stream",
     "text": [
      "The initialization used is: uniform\n",
      "The optimizer used is: rmsprop\n",
      "The loss used is: mean_squared_error\n",
      "Seed: 2\n",
      "-----------------------------------------------------\n",
      "Accuracy 0.87\n",
      "Area under the curve 0.78\n",
      "Precision 0.61\n",
      "Recall 0.64\n",
      "Profit Share 0.49\n"
     ]
    },
    {
     "name": "stderr",
     "output_type": "stream",
     "text": [
      "/home/jovyan/work/2_Semester/Machine Learning/MLProjects/Proposal/ML_algorithms.py:34: UserWarning: Update your `Dense` call to the Keras 2 API: `Dense(1, activation=\"sigmoid\", kernel_initializer=\"uniform\")`\n",
      "  model.add(layers.Dense(1, activation=\"sigmoid\", init=init))\n"
     ]
    },
    {
     "name": "stdout",
     "output_type": "stream",
     "text": [
      "The initialization used is: uniform\n",
      "The optimizer used is: rmsprop\n",
      "The loss used is: mean_squared_error\n",
      "Seed: 3\n",
      "-----------------------------------------------------\n",
      "Accuracy 0.86\n",
      "Area under the curve 0.76\n",
      "Precision 0.71\n",
      "Recall 0.59\n",
      "Profit Share 0.50\n"
     ]
    },
    {
     "name": "stderr",
     "output_type": "stream",
     "text": [
      "/home/jovyan/work/2_Semester/Machine Learning/MLProjects/Proposal/ML_algorithms.py:34: UserWarning: Update your `Dense` call to the Keras 2 API: `Dense(1, activation=\"sigmoid\", kernel_initializer=\"uniform\")`\n",
      "  model.add(layers.Dense(1, activation=\"sigmoid\", init=init))\n"
     ]
    },
    {
     "name": "stdout",
     "output_type": "stream",
     "text": [
      "The initialization used is: uniform\n",
      "The optimizer used is: rmsprop\n",
      "The loss used is: mean_squared_error\n",
      "Seed: 4\n",
      "-----------------------------------------------------\n",
      "Accuracy 0.88\n",
      "Area under the curve 0.81\n",
      "Precision 0.59\n",
      "Recall 0.70\n",
      "Profit Share 0.52\n"
     ]
    },
    {
     "name": "stderr",
     "output_type": "stream",
     "text": [
      "/home/jovyan/work/2_Semester/Machine Learning/MLProjects/Proposal/ML_algorithms.py:34: UserWarning: Update your `Dense` call to the Keras 2 API: `Dense(1, activation=\"sigmoid\", kernel_initializer=\"lecun_uniform\")`\n",
      "  model.add(layers.Dense(1, activation=\"sigmoid\", init=init))\n"
     ]
    },
    {
     "name": "stdout",
     "output_type": "stream",
     "text": [
      "The initialization used is: lecun_uniform\n",
      "The optimizer used is: adam\n",
      "The loss used is: binary_crossentropy\n",
      "Seed: 0\n",
      "-----------------------------------------------------\n",
      "Accuracy 0.88\n",
      "Area under the curve 0.80\n",
      "Precision 0.71\n",
      "Recall 0.66\n",
      "Profit Share 0.56\n"
     ]
    },
    {
     "name": "stderr",
     "output_type": "stream",
     "text": [
      "/home/jovyan/work/2_Semester/Machine Learning/MLProjects/Proposal/ML_algorithms.py:34: UserWarning: Update your `Dense` call to the Keras 2 API: `Dense(1, activation=\"sigmoid\", kernel_initializer=\"lecun_uniform\")`\n",
      "  model.add(layers.Dense(1, activation=\"sigmoid\", init=init))\n"
     ]
    },
    {
     "name": "stdout",
     "output_type": "stream",
     "text": [
      "The initialization used is: lecun_uniform\n",
      "The optimizer used is: adam\n",
      "The loss used is: binary_crossentropy\n",
      "Seed: 1\n",
      "-----------------------------------------------------\n",
      "Accuracy 0.86\n",
      "Area under the curve 0.76\n",
      "Precision 0.69\n",
      "Recall 0.60\n",
      "Profit Share 0.50\n"
     ]
    },
    {
     "name": "stderr",
     "output_type": "stream",
     "text": [
      "/home/jovyan/work/2_Semester/Machine Learning/MLProjects/Proposal/ML_algorithms.py:34: UserWarning: Update your `Dense` call to the Keras 2 API: `Dense(1, activation=\"sigmoid\", kernel_initializer=\"lecun_uniform\")`\n",
      "  model.add(layers.Dense(1, activation=\"sigmoid\", init=init))\n"
     ]
    },
    {
     "name": "stdout",
     "output_type": "stream",
     "text": [
      "The initialization used is: lecun_uniform\n",
      "The optimizer used is: adam\n",
      "The loss used is: binary_crossentropy\n",
      "Seed: 2\n",
      "-----------------------------------------------------\n",
      "Accuracy 0.88\n",
      "Area under the curve 0.80\n",
      "Precision 0.55\n",
      "Recall 0.69\n",
      "Profit Share 0.48\n"
     ]
    },
    {
     "name": "stderr",
     "output_type": "stream",
     "text": [
      "/home/jovyan/work/2_Semester/Machine Learning/MLProjects/Proposal/ML_algorithms.py:34: UserWarning: Update your `Dense` call to the Keras 2 API: `Dense(1, activation=\"sigmoid\", kernel_initializer=\"lecun_uniform\")`\n",
      "  model.add(layers.Dense(1, activation=\"sigmoid\", init=init))\n"
     ]
    },
    {
     "name": "stdout",
     "output_type": "stream",
     "text": [
      "The initialization used is: lecun_uniform\n",
      "The optimizer used is: adam\n",
      "The loss used is: binary_crossentropy\n",
      "Seed: 3\n",
      "-----------------------------------------------------\n",
      "Accuracy 0.88\n",
      "Area under the curve 0.79\n",
      "Precision 0.68\n",
      "Recall 0.64\n",
      "Profit Share 0.53\n"
     ]
    },
    {
     "name": "stderr",
     "output_type": "stream",
     "text": [
      "/home/jovyan/work/2_Semester/Machine Learning/MLProjects/Proposal/ML_algorithms.py:34: UserWarning: Update your `Dense` call to the Keras 2 API: `Dense(1, activation=\"sigmoid\", kernel_initializer=\"lecun_uniform\")`\n",
      "  model.add(layers.Dense(1, activation=\"sigmoid\", init=init))\n"
     ]
    },
    {
     "name": "stdout",
     "output_type": "stream",
     "text": [
      "The initialization used is: lecun_uniform\n",
      "The optimizer used is: adam\n",
      "The loss used is: binary_crossentropy\n",
      "Seed: 4\n",
      "-----------------------------------------------------\n",
      "Accuracy 0.89\n",
      "Area under the curve 0.80\n",
      "Precision 0.70\n",
      "Recall 0.67\n",
      "Profit Share 0.57\n"
     ]
    },
    {
     "name": "stderr",
     "output_type": "stream",
     "text": [
      "/home/jovyan/work/2_Semester/Machine Learning/MLProjects/Proposal/ML_algorithms.py:34: UserWarning: Update your `Dense` call to the Keras 2 API: `Dense(1, activation=\"sigmoid\", kernel_initializer=\"lecun_uniform\")`\n",
      "  model.add(layers.Dense(1, activation=\"sigmoid\", init=init))\n"
     ]
    },
    {
     "name": "stdout",
     "output_type": "stream",
     "text": [
      "The initialization used is: lecun_uniform\n",
      "The optimizer used is: adam\n",
      "The loss used is: mean_squared_error\n",
      "Seed: 0\n",
      "-----------------------------------------------------\n",
      "Accuracy 0.88\n",
      "Area under the curve 0.79\n",
      "Precision 0.70\n",
      "Recall 0.65\n",
      "Profit Share 0.55\n"
     ]
    },
    {
     "name": "stderr",
     "output_type": "stream",
     "text": [
      "/home/jovyan/work/2_Semester/Machine Learning/MLProjects/Proposal/ML_algorithms.py:34: UserWarning: Update your `Dense` call to the Keras 2 API: `Dense(1, activation=\"sigmoid\", kernel_initializer=\"lecun_uniform\")`\n",
      "  model.add(layers.Dense(1, activation=\"sigmoid\", init=init))\n"
     ]
    },
    {
     "name": "stdout",
     "output_type": "stream",
     "text": [
      "The initialization used is: lecun_uniform\n",
      "The optimizer used is: adam\n",
      "The loss used is: mean_squared_error\n",
      "Seed: 1\n",
      "-----------------------------------------------------\n",
      "Accuracy 0.87\n",
      "Area under the curve 0.77\n",
      "Precision 0.61\n",
      "Recall 0.63\n",
      "Profit Share 0.48\n"
     ]
    },
    {
     "name": "stderr",
     "output_type": "stream",
     "text": [
      "/home/jovyan/work/2_Semester/Machine Learning/MLProjects/Proposal/ML_algorithms.py:34: UserWarning: Update your `Dense` call to the Keras 2 API: `Dense(1, activation=\"sigmoid\", kernel_initializer=\"lecun_uniform\")`\n",
      "  model.add(layers.Dense(1, activation=\"sigmoid\", init=init))\n"
     ]
    },
    {
     "name": "stdout",
     "output_type": "stream",
     "text": [
      "The initialization used is: lecun_uniform\n",
      "The optimizer used is: adam\n",
      "The loss used is: mean_squared_error\n",
      "Seed: 2\n",
      "-----------------------------------------------------\n",
      "Accuracy 0.86\n",
      "Area under the curve 0.76\n",
      "Precision 0.69\n",
      "Recall 0.60\n",
      "Profit Share 0.50\n"
     ]
    },
    {
     "name": "stderr",
     "output_type": "stream",
     "text": [
      "/home/jovyan/work/2_Semester/Machine Learning/MLProjects/Proposal/ML_algorithms.py:34: UserWarning: Update your `Dense` call to the Keras 2 API: `Dense(1, activation=\"sigmoid\", kernel_initializer=\"lecun_uniform\")`\n",
      "  model.add(layers.Dense(1, activation=\"sigmoid\", init=init))\n"
     ]
    },
    {
     "name": "stdout",
     "output_type": "stream",
     "text": [
      "The initialization used is: lecun_uniform\n",
      "The optimizer used is: adam\n",
      "The loss used is: mean_squared_error\n",
      "Seed: 3\n",
      "-----------------------------------------------------\n",
      "Accuracy 0.86\n",
      "Area under the curve 0.76\n",
      "Precision 0.69\n",
      "Recall 0.60\n",
      "Profit Share 0.50\n"
     ]
    },
    {
     "name": "stderr",
     "output_type": "stream",
     "text": [
      "/home/jovyan/work/2_Semester/Machine Learning/MLProjects/Proposal/ML_algorithms.py:34: UserWarning: Update your `Dense` call to the Keras 2 API: `Dense(1, activation=\"sigmoid\", kernel_initializer=\"lecun_uniform\")`\n",
      "  model.add(layers.Dense(1, activation=\"sigmoid\", init=init))\n"
     ]
    },
    {
     "name": "stdout",
     "output_type": "stream",
     "text": [
      "The initialization used is: lecun_uniform\n",
      "The optimizer used is: adam\n",
      "The loss used is: mean_squared_error\n",
      "Seed: 4\n",
      "-----------------------------------------------------\n",
      "Accuracy 0.87\n",
      "Area under the curve 0.78\n",
      "Precision 0.75\n",
      "Recall 0.61\n",
      "Profit Share 0.54\n"
     ]
    },
    {
     "name": "stderr",
     "output_type": "stream",
     "text": [
      "/home/jovyan/work/2_Semester/Machine Learning/MLProjects/Proposal/ML_algorithms.py:34: UserWarning: Update your `Dense` call to the Keras 2 API: `Dense(1, activation=\"sigmoid\", kernel_initializer=\"lecun_uniform\")`\n",
      "  model.add(layers.Dense(1, activation=\"sigmoid\", init=init))\n"
     ]
    },
    {
     "name": "stdout",
     "output_type": "stream",
     "text": [
      "The initialization used is: lecun_uniform\n",
      "The optimizer used is: rmsprop\n",
      "The loss used is: binary_crossentropy\n",
      "Seed: 0\n",
      "-----------------------------------------------------\n",
      "Accuracy 0.89\n",
      "Area under the curve 0.81\n",
      "Precision 0.66\n",
      "Recall 0.69\n",
      "Profit Share 0.56\n"
     ]
    },
    {
     "name": "stderr",
     "output_type": "stream",
     "text": [
      "/home/jovyan/work/2_Semester/Machine Learning/MLProjects/Proposal/ML_algorithms.py:34: UserWarning: Update your `Dense` call to the Keras 2 API: `Dense(1, activation=\"sigmoid\", kernel_initializer=\"lecun_uniform\")`\n",
      "  model.add(layers.Dense(1, activation=\"sigmoid\", init=init))\n"
     ]
    },
    {
     "name": "stdout",
     "output_type": "stream",
     "text": [
      "The initialization used is: lecun_uniform\n",
      "The optimizer used is: rmsprop\n",
      "The loss used is: binary_crossentropy\n",
      "Seed: 1\n",
      "-----------------------------------------------------\n",
      "Accuracy 0.88\n",
      "Area under the curve 0.80\n",
      "Precision 0.64\n",
      "Recall 0.67\n",
      "Profit Share 0.53\n"
     ]
    },
    {
     "name": "stderr",
     "output_type": "stream",
     "text": [
      "/home/jovyan/work/2_Semester/Machine Learning/MLProjects/Proposal/ML_algorithms.py:34: UserWarning: Update your `Dense` call to the Keras 2 API: `Dense(1, activation=\"sigmoid\", kernel_initializer=\"lecun_uniform\")`\n",
      "  model.add(layers.Dense(1, activation=\"sigmoid\", init=init))\n"
     ]
    },
    {
     "name": "stdout",
     "output_type": "stream",
     "text": [
      "The initialization used is: lecun_uniform\n",
      "The optimizer used is: rmsprop\n",
      "The loss used is: binary_crossentropy\n",
      "Seed: 2\n",
      "-----------------------------------------------------\n",
      "Accuracy 0.86\n",
      "Area under the curve 0.76\n",
      "Precision 0.70\n",
      "Recall 0.58\n",
      "Profit Share 0.49\n"
     ]
    },
    {
     "name": "stderr",
     "output_type": "stream",
     "text": [
      "/home/jovyan/work/2_Semester/Machine Learning/MLProjects/Proposal/ML_algorithms.py:34: UserWarning: Update your `Dense` call to the Keras 2 API: `Dense(1, activation=\"sigmoid\", kernel_initializer=\"lecun_uniform\")`\n",
      "  model.add(layers.Dense(1, activation=\"sigmoid\", init=init))\n"
     ]
    },
    {
     "name": "stdout",
     "output_type": "stream",
     "text": [
      "The initialization used is: lecun_uniform\n",
      "The optimizer used is: rmsprop\n",
      "The loss used is: binary_crossentropy\n",
      "Seed: 3\n",
      "-----------------------------------------------------\n",
      "Accuracy 0.88\n",
      "Area under the curve 0.79\n",
      "Precision 0.65\n",
      "Recall 0.66\n",
      "Profit Share 0.53\n"
     ]
    },
    {
     "name": "stderr",
     "output_type": "stream",
     "text": [
      "/home/jovyan/work/2_Semester/Machine Learning/MLProjects/Proposal/ML_algorithms.py:34: UserWarning: Update your `Dense` call to the Keras 2 API: `Dense(1, activation=\"sigmoid\", kernel_initializer=\"lecun_uniform\")`\n",
      "  model.add(layers.Dense(1, activation=\"sigmoid\", init=init))\n"
     ]
    },
    {
     "name": "stdout",
     "output_type": "stream",
     "text": [
      "The initialization used is: lecun_uniform\n",
      "The optimizer used is: rmsprop\n",
      "The loss used is: binary_crossentropy\n",
      "Seed: 4\n",
      "-----------------------------------------------------\n",
      "Accuracy 0.88\n",
      "Area under the curve 0.79\n",
      "Precision 0.66\n",
      "Recall 0.66\n",
      "Profit Share 0.54\n"
     ]
    },
    {
     "name": "stderr",
     "output_type": "stream",
     "text": [
      "/home/jovyan/work/2_Semester/Machine Learning/MLProjects/Proposal/ML_algorithms.py:34: UserWarning: Update your `Dense` call to the Keras 2 API: `Dense(1, activation=\"sigmoid\", kernel_initializer=\"lecun_uniform\")`\n",
      "  model.add(layers.Dense(1, activation=\"sigmoid\", init=init))\n"
     ]
    },
    {
     "name": "stdout",
     "output_type": "stream",
     "text": [
      "The initialization used is: lecun_uniform\n",
      "The optimizer used is: rmsprop\n",
      "The loss used is: mean_squared_error\n",
      "Seed: 0\n",
      "-----------------------------------------------------\n",
      "Accuracy 0.88\n",
      "Area under the curve 0.79\n",
      "Precision 0.70\n",
      "Recall 0.65\n",
      "Profit Share 0.55\n"
     ]
    },
    {
     "name": "stderr",
     "output_type": "stream",
     "text": [
      "/home/jovyan/work/2_Semester/Machine Learning/MLProjects/Proposal/ML_algorithms.py:34: UserWarning: Update your `Dense` call to the Keras 2 API: `Dense(1, activation=\"sigmoid\", kernel_initializer=\"lecun_uniform\")`\n",
      "  model.add(layers.Dense(1, activation=\"sigmoid\", init=init))\n"
     ]
    },
    {
     "name": "stdout",
     "output_type": "stream",
     "text": [
      "The initialization used is: lecun_uniform\n",
      "The optimizer used is: rmsprop\n",
      "The loss used is: mean_squared_error\n",
      "Seed: 1\n",
      "-----------------------------------------------------\n",
      "Accuracy 0.86\n",
      "Area under the curve 0.76\n",
      "Precision 0.65\n",
      "Recall 0.59\n",
      "Profit Share 0.47\n"
     ]
    },
    {
     "name": "stderr",
     "output_type": "stream",
     "text": [
      "/home/jovyan/work/2_Semester/Machine Learning/MLProjects/Proposal/ML_algorithms.py:34: UserWarning: Update your `Dense` call to the Keras 2 API: `Dense(1, activation=\"sigmoid\", kernel_initializer=\"lecun_uniform\")`\n",
      "  model.add(layers.Dense(1, activation=\"sigmoid\", init=init))\n"
     ]
    },
    {
     "name": "stdout",
     "output_type": "stream",
     "text": [
      "The initialization used is: lecun_uniform\n",
      "The optimizer used is: rmsprop\n",
      "The loss used is: mean_squared_error\n",
      "Seed: 2\n",
      "-----------------------------------------------------\n",
      "Accuracy 0.88\n",
      "Area under the curve 0.80\n",
      "Precision 0.61\n",
      "Recall 0.69\n",
      "Profit Share 0.53\n"
     ]
    },
    {
     "name": "stderr",
     "output_type": "stream",
     "text": [
      "/home/jovyan/work/2_Semester/Machine Learning/MLProjects/Proposal/ML_algorithms.py:34: UserWarning: Update your `Dense` call to the Keras 2 API: `Dense(1, activation=\"sigmoid\", kernel_initializer=\"lecun_uniform\")`\n",
      "  model.add(layers.Dense(1, activation=\"sigmoid\", init=init))\n"
     ]
    },
    {
     "name": "stdout",
     "output_type": "stream",
     "text": [
      "The initialization used is: lecun_uniform\n",
      "The optimizer used is: rmsprop\n",
      "The loss used is: mean_squared_error\n",
      "Seed: 3\n",
      "-----------------------------------------------------\n",
      "Accuracy 0.88\n",
      "Area under the curve 0.80\n",
      "Precision 0.59\n",
      "Recall 0.68\n",
      "Profit Share 0.50\n"
     ]
    },
    {
     "name": "stderr",
     "output_type": "stream",
     "text": [
      "/home/jovyan/work/2_Semester/Machine Learning/MLProjects/Proposal/ML_algorithms.py:34: UserWarning: Update your `Dense` call to the Keras 2 API: `Dense(1, activation=\"sigmoid\", kernel_initializer=\"lecun_uniform\")`\n",
      "  model.add(layers.Dense(1, activation=\"sigmoid\", init=init))\n"
     ]
    },
    {
     "name": "stdout",
     "output_type": "stream",
     "text": [
      "The initialization used is: lecun_uniform\n",
      "The optimizer used is: rmsprop\n",
      "The loss used is: mean_squared_error\n",
      "Seed: 4\n",
      "-----------------------------------------------------\n",
      "Accuracy 0.85\n",
      "Area under the curve 0.76\n",
      "Precision 0.78\n",
      "Recall 0.57\n",
      "Profit Share 0.51\n"
     ]
    },
    {
     "name": "stderr",
     "output_type": "stream",
     "text": [
      "/home/jovyan/work/2_Semester/Machine Learning/MLProjects/Proposal/ML_algorithms.py:34: UserWarning: Update your `Dense` call to the Keras 2 API: `Dense(1, activation=\"sigmoid\", kernel_initializer=\"zero\")`\n",
      "  model.add(layers.Dense(1, activation=\"sigmoid\", init=init))\n"
     ]
    },
    {
     "name": "stdout",
     "output_type": "stream",
     "text": [
      "The initialization used is: zero\n",
      "The optimizer used is: adam\n",
      "The loss used is: binary_crossentropy\n",
      "Seed: 0\n",
      "-----------------------------------------------------\n",
      "Accuracy 0.88\n",
      "Area under the curve 0.79\n",
      "Precision 0.70\n",
      "Recall 0.65\n",
      "Profit Share 0.55\n"
     ]
    },
    {
     "name": "stderr",
     "output_type": "stream",
     "text": [
      "/home/jovyan/work/2_Semester/Machine Learning/MLProjects/Proposal/ML_algorithms.py:34: UserWarning: Update your `Dense` call to the Keras 2 API: `Dense(1, activation=\"sigmoid\", kernel_initializer=\"zero\")`\n",
      "  model.add(layers.Dense(1, activation=\"sigmoid\", init=init))\n"
     ]
    },
    {
     "name": "stdout",
     "output_type": "stream",
     "text": [
      "The initialization used is: zero\n",
      "The optimizer used is: adam\n",
      "The loss used is: binary_crossentropy\n",
      "Seed: 1\n",
      "-----------------------------------------------------\n",
      "Accuracy 0.88\n",
      "Area under the curve 0.80\n",
      "Precision 0.65\n",
      "Recall 0.68\n",
      "Profit Share 0.54\n"
     ]
    },
    {
     "name": "stderr",
     "output_type": "stream",
     "text": [
      "/home/jovyan/work/2_Semester/Machine Learning/MLProjects/Proposal/ML_algorithms.py:34: UserWarning: Update your `Dense` call to the Keras 2 API: `Dense(1, activation=\"sigmoid\", kernel_initializer=\"zero\")`\n",
      "  model.add(layers.Dense(1, activation=\"sigmoid\", init=init))\n"
     ]
    },
    {
     "name": "stdout",
     "output_type": "stream",
     "text": [
      "The initialization used is: zero\n",
      "The optimizer used is: adam\n",
      "The loss used is: binary_crossentropy\n",
      "Seed: 2\n",
      "-----------------------------------------------------\n",
      "Accuracy 0.88\n",
      "Area under the curve 0.79\n",
      "Precision 0.60\n",
      "Recall 0.67\n",
      "Profit Share 0.50\n"
     ]
    },
    {
     "name": "stderr",
     "output_type": "stream",
     "text": [
      "/home/jovyan/work/2_Semester/Machine Learning/MLProjects/Proposal/ML_algorithms.py:34: UserWarning: Update your `Dense` call to the Keras 2 API: `Dense(1, activation=\"sigmoid\", kernel_initializer=\"zero\")`\n",
      "  model.add(layers.Dense(1, activation=\"sigmoid\", init=init))\n"
     ]
    },
    {
     "name": "stdout",
     "output_type": "stream",
     "text": [
      "The initialization used is: zero\n",
      "The optimizer used is: adam\n",
      "The loss used is: binary_crossentropy\n",
      "Seed: 3\n",
      "-----------------------------------------------------\n",
      "Accuracy 0.87\n",
      "Area under the curve 0.78\n",
      "Precision 0.68\n",
      "Recall 0.64\n",
      "Profit Share 0.52\n"
     ]
    },
    {
     "name": "stderr",
     "output_type": "stream",
     "text": [
      "/home/jovyan/work/2_Semester/Machine Learning/MLProjects/Proposal/ML_algorithms.py:34: UserWarning: Update your `Dense` call to the Keras 2 API: `Dense(1, activation=\"sigmoid\", kernel_initializer=\"zero\")`\n",
      "  model.add(layers.Dense(1, activation=\"sigmoid\", init=init))\n"
     ]
    },
    {
     "name": "stdout",
     "output_type": "stream",
     "text": [
      "The initialization used is: zero\n",
      "The optimizer used is: adam\n",
      "The loss used is: binary_crossentropy\n",
      "Seed: 4\n",
      "-----------------------------------------------------\n",
      "Accuracy 0.88\n",
      "Area under the curve 0.79\n",
      "Precision 0.68\n",
      "Recall 0.64\n",
      "Profit Share 0.53\n"
     ]
    },
    {
     "name": "stderr",
     "output_type": "stream",
     "text": [
      "/home/jovyan/work/2_Semester/Machine Learning/MLProjects/Proposal/ML_algorithms.py:34: UserWarning: Update your `Dense` call to the Keras 2 API: `Dense(1, activation=\"sigmoid\", kernel_initializer=\"zero\")`\n",
      "  model.add(layers.Dense(1, activation=\"sigmoid\", init=init))\n"
     ]
    },
    {
     "name": "stdout",
     "output_type": "stream",
     "text": [
      "The initialization used is: zero\n",
      "The optimizer used is: adam\n",
      "The loss used is: mean_squared_error\n",
      "Seed: 0\n",
      "-----------------------------------------------------\n",
      "Accuracy 0.87\n",
      "Area under the curve 0.77\n",
      "Precision 0.65\n",
      "Recall 0.63\n",
      "Profit Share 0.50\n"
     ]
    },
    {
     "name": "stderr",
     "output_type": "stream",
     "text": [
      "/home/jovyan/work/2_Semester/Machine Learning/MLProjects/Proposal/ML_algorithms.py:34: UserWarning: Update your `Dense` call to the Keras 2 API: `Dense(1, activation=\"sigmoid\", kernel_initializer=\"zero\")`\n",
      "  model.add(layers.Dense(1, activation=\"sigmoid\", init=init))\n"
     ]
    },
    {
     "name": "stdout",
     "output_type": "stream",
     "text": [
      "The initialization used is: zero\n",
      "The optimizer used is: adam\n",
      "The loss used is: mean_squared_error\n",
      "Seed: 1\n",
      "-----------------------------------------------------\n",
      "Accuracy 0.89\n",
      "Area under the curve 0.82\n",
      "Precision 0.57\n",
      "Recall 0.73\n",
      "Profit Share 0.53\n"
     ]
    },
    {
     "name": "stderr",
     "output_type": "stream",
     "text": [
      "/home/jovyan/work/2_Semester/Machine Learning/MLProjects/Proposal/ML_algorithms.py:34: UserWarning: Update your `Dense` call to the Keras 2 API: `Dense(1, activation=\"sigmoid\", kernel_initializer=\"zero\")`\n",
      "  model.add(layers.Dense(1, activation=\"sigmoid\", init=init))\n"
     ]
    },
    {
     "name": "stdout",
     "output_type": "stream",
     "text": [
      "The initialization used is: zero\n",
      "The optimizer used is: adam\n",
      "The loss used is: mean_squared_error\n",
      "Seed: 2\n",
      "-----------------------------------------------------\n",
      "Accuracy 0.88\n",
      "Area under the curve 0.79\n",
      "Precision 0.61\n",
      "Recall 0.66\n",
      "Profit Share 0.51\n"
     ]
    },
    {
     "name": "stderr",
     "output_type": "stream",
     "text": [
      "/home/jovyan/work/2_Semester/Machine Learning/MLProjects/Proposal/ML_algorithms.py:34: UserWarning: Update your `Dense` call to the Keras 2 API: `Dense(1, activation=\"sigmoid\", kernel_initializer=\"zero\")`\n",
      "  model.add(layers.Dense(1, activation=\"sigmoid\", init=init))\n"
     ]
    },
    {
     "name": "stdout",
     "output_type": "stream",
     "text": [
      "The initialization used is: zero\n",
      "The optimizer used is: adam\n",
      "The loss used is: mean_squared_error\n",
      "Seed: 3\n",
      "-----------------------------------------------------\n",
      "Accuracy 0.88\n",
      "Area under the curve 0.79\n",
      "Precision 0.68\n",
      "Recall 0.64\n",
      "Profit Share 0.53\n"
     ]
    },
    {
     "name": "stderr",
     "output_type": "stream",
     "text": [
      "/home/jovyan/work/2_Semester/Machine Learning/MLProjects/Proposal/ML_algorithms.py:34: UserWarning: Update your `Dense` call to the Keras 2 API: `Dense(1, activation=\"sigmoid\", kernel_initializer=\"zero\")`\n",
      "  model.add(layers.Dense(1, activation=\"sigmoid\", init=init))\n"
     ]
    },
    {
     "name": "stdout",
     "output_type": "stream",
     "text": [
      "The initialization used is: zero\n",
      "The optimizer used is: adam\n",
      "The loss used is: mean_squared_error\n",
      "Seed: 4\n",
      "-----------------------------------------------------\n",
      "Accuracy 0.88\n",
      "Area under the curve 0.82\n",
      "Precision 0.57\n",
      "Recall 0.72\n",
      "Profit Share 0.52\n"
     ]
    },
    {
     "name": "stderr",
     "output_type": "stream",
     "text": [
      "/home/jovyan/work/2_Semester/Machine Learning/MLProjects/Proposal/ML_algorithms.py:34: UserWarning: Update your `Dense` call to the Keras 2 API: `Dense(1, activation=\"sigmoid\", kernel_initializer=\"zero\")`\n",
      "  model.add(layers.Dense(1, activation=\"sigmoid\", init=init))\n"
     ]
    },
    {
     "name": "stdout",
     "output_type": "stream",
     "text": [
      "The initialization used is: zero\n",
      "The optimizer used is: rmsprop\n",
      "The loss used is: binary_crossentropy\n",
      "Seed: 0\n",
      "-----------------------------------------------------\n",
      "Accuracy 0.86\n",
      "Area under the curve 0.76\n",
      "Precision 0.72\n",
      "Recall 0.59\n",
      "Profit Share 0.51\n"
     ]
    },
    {
     "name": "stderr",
     "output_type": "stream",
     "text": [
      "/home/jovyan/work/2_Semester/Machine Learning/MLProjects/Proposal/ML_algorithms.py:34: UserWarning: Update your `Dense` call to the Keras 2 API: `Dense(1, activation=\"sigmoid\", kernel_initializer=\"zero\")`\n",
      "  model.add(layers.Dense(1, activation=\"sigmoid\", init=init))\n"
     ]
    },
    {
     "name": "stdout",
     "output_type": "stream",
     "text": [
      "The initialization used is: zero\n",
      "The optimizer used is: rmsprop\n",
      "The loss used is: binary_crossentropy\n",
      "Seed: 1\n",
      "-----------------------------------------------------\n",
      "Accuracy 0.87\n",
      "Area under the curve 0.77\n",
      "Precision 0.64\n",
      "Recall 0.62\n",
      "Profit Share 0.49\n"
     ]
    },
    {
     "name": "stderr",
     "output_type": "stream",
     "text": [
      "/home/jovyan/work/2_Semester/Machine Learning/MLProjects/Proposal/ML_algorithms.py:34: UserWarning: Update your `Dense` call to the Keras 2 API: `Dense(1, activation=\"sigmoid\", kernel_initializer=\"zero\")`\n",
      "  model.add(layers.Dense(1, activation=\"sigmoid\", init=init))\n"
     ]
    },
    {
     "name": "stdout",
     "output_type": "stream",
     "text": [
      "The initialization used is: zero\n",
      "The optimizer used is: rmsprop\n",
      "The loss used is: binary_crossentropy\n",
      "Seed: 2\n",
      "-----------------------------------------------------\n",
      "Accuracy 0.86\n",
      "Area under the curve 0.76\n",
      "Precision 0.69\n",
      "Recall 0.60\n",
      "Profit Share 0.50\n"
     ]
    },
    {
     "name": "stderr",
     "output_type": "stream",
     "text": [
      "/home/jovyan/work/2_Semester/Machine Learning/MLProjects/Proposal/ML_algorithms.py:34: UserWarning: Update your `Dense` call to the Keras 2 API: `Dense(1, activation=\"sigmoid\", kernel_initializer=\"zero\")`\n",
      "  model.add(layers.Dense(1, activation=\"sigmoid\", init=init))\n"
     ]
    },
    {
     "name": "stdout",
     "output_type": "stream",
     "text": [
      "The initialization used is: zero\n",
      "The optimizer used is: rmsprop\n",
      "The loss used is: binary_crossentropy\n",
      "Seed: 3\n",
      "-----------------------------------------------------\n",
      "Accuracy 0.88\n",
      "Area under the curve 0.79\n",
      "Precision 0.66\n",
      "Recall 0.65\n",
      "Profit Share 0.53\n"
     ]
    },
    {
     "name": "stderr",
     "output_type": "stream",
     "text": [
      "/home/jovyan/work/2_Semester/Machine Learning/MLProjects/Proposal/ML_algorithms.py:34: UserWarning: Update your `Dense` call to the Keras 2 API: `Dense(1, activation=\"sigmoid\", kernel_initializer=\"zero\")`\n",
      "  model.add(layers.Dense(1, activation=\"sigmoid\", init=init))\n"
     ]
    },
    {
     "name": "stdout",
     "output_type": "stream",
     "text": [
      "The initialization used is: zero\n",
      "The optimizer used is: rmsprop\n",
      "The loss used is: binary_crossentropy\n",
      "Seed: 4\n",
      "-----------------------------------------------------\n",
      "Accuracy 0.88\n",
      "Area under the curve 0.79\n",
      "Precision 0.64\n",
      "Recall 0.66\n",
      "Profit Share 0.52\n"
     ]
    },
    {
     "name": "stderr",
     "output_type": "stream",
     "text": [
      "/home/jovyan/work/2_Semester/Machine Learning/MLProjects/Proposal/ML_algorithms.py:34: UserWarning: Update your `Dense` call to the Keras 2 API: `Dense(1, activation=\"sigmoid\", kernel_initializer=\"zero\")`\n",
      "  model.add(layers.Dense(1, activation=\"sigmoid\", init=init))\n"
     ]
    },
    {
     "name": "stdout",
     "output_type": "stream",
     "text": [
      "The initialization used is: zero\n",
      "The optimizer used is: rmsprop\n",
      "The loss used is: mean_squared_error\n",
      "Seed: 0\n",
      "-----------------------------------------------------\n",
      "Accuracy 0.86\n",
      "Area under the curve 0.76\n",
      "Precision 0.69\n",
      "Recall 0.59\n",
      "Profit Share 0.49\n"
     ]
    },
    {
     "name": "stderr",
     "output_type": "stream",
     "text": [
      "/home/jovyan/work/2_Semester/Machine Learning/MLProjects/Proposal/ML_algorithms.py:34: UserWarning: Update your `Dense` call to the Keras 2 API: `Dense(1, activation=\"sigmoid\", kernel_initializer=\"zero\")`\n",
      "  model.add(layers.Dense(1, activation=\"sigmoid\", init=init))\n"
     ]
    },
    {
     "name": "stdout",
     "output_type": "stream",
     "text": [
      "The initialization used is: zero\n",
      "The optimizer used is: rmsprop\n",
      "The loss used is: mean_squared_error\n",
      "Seed: 1\n",
      "-----------------------------------------------------\n",
      "Accuracy 0.87\n",
      "Area under the curve 0.78\n",
      "Precision 0.68\n",
      "Recall 0.64\n",
      "Profit Share 0.52\n"
     ]
    },
    {
     "name": "stderr",
     "output_type": "stream",
     "text": [
      "/home/jovyan/work/2_Semester/Machine Learning/MLProjects/Proposal/ML_algorithms.py:34: UserWarning: Update your `Dense` call to the Keras 2 API: `Dense(1, activation=\"sigmoid\", kernel_initializer=\"zero\")`\n",
      "  model.add(layers.Dense(1, activation=\"sigmoid\", init=init))\n"
     ]
    },
    {
     "name": "stdout",
     "output_type": "stream",
     "text": [
      "The initialization used is: zero\n",
      "The optimizer used is: rmsprop\n",
      "The loss used is: mean_squared_error\n",
      "Seed: 2\n",
      "-----------------------------------------------------\n",
      "Accuracy 0.88\n",
      "Area under the curve 0.81\n",
      "Precision 0.54\n",
      "Recall 0.72\n",
      "Profit Share 0.49\n"
     ]
    },
    {
     "name": "stderr",
     "output_type": "stream",
     "text": [
      "/home/jovyan/work/2_Semester/Machine Learning/MLProjects/Proposal/ML_algorithms.py:34: UserWarning: Update your `Dense` call to the Keras 2 API: `Dense(1, activation=\"sigmoid\", kernel_initializer=\"zero\")`\n",
      "  model.add(layers.Dense(1, activation=\"sigmoid\", init=init))\n"
     ]
    },
    {
     "name": "stdout",
     "output_type": "stream",
     "text": [
      "The initialization used is: zero\n",
      "The optimizer used is: rmsprop\n",
      "The loss used is: mean_squared_error\n",
      "Seed: 3\n",
      "-----------------------------------------------------\n",
      "Accuracy 0.88\n",
      "Area under the curve 0.80\n",
      "Precision 0.59\n",
      "Recall 0.69\n",
      "Profit Share 0.51\n"
     ]
    },
    {
     "name": "stderr",
     "output_type": "stream",
     "text": [
      "/home/jovyan/work/2_Semester/Machine Learning/MLProjects/Proposal/ML_algorithms.py:34: UserWarning: Update your `Dense` call to the Keras 2 API: `Dense(1, activation=\"sigmoid\", kernel_initializer=\"zero\")`\n",
      "  model.add(layers.Dense(1, activation=\"sigmoid\", init=init))\n"
     ]
    },
    {
     "name": "stdout",
     "output_type": "stream",
     "text": [
      "The initialization used is: zero\n",
      "The optimizer used is: rmsprop\n",
      "The loss used is: mean_squared_error\n",
      "Seed: 4\n",
      "-----------------------------------------------------\n",
      "Accuracy 0.89\n",
      "Area under the curve 0.82\n",
      "Precision 0.64\n",
      "Recall 0.72\n",
      "Profit Share 0.57\n"
     ]
    },
    {
     "name": "stderr",
     "output_type": "stream",
     "text": [
      "/home/jovyan/work/2_Semester/Machine Learning/MLProjects/Proposal/ML_algorithms.py:34: UserWarning: Update your `Dense` call to the Keras 2 API: `Dense(1, activation=\"sigmoid\", kernel_initializer=\"one\")`\n",
      "  model.add(layers.Dense(1, activation=\"sigmoid\", init=init))\n"
     ]
    },
    {
     "name": "stdout",
     "output_type": "stream",
     "text": [
      "The initialization used is: one\n",
      "The optimizer used is: adam\n",
      "The loss used is: binary_crossentropy\n",
      "Seed: 0\n",
      "-----------------------------------------------------\n",
      "Accuracy 0.84\n",
      "Area under the curve 0.74\n",
      "Precision 0.76\n",
      "Recall 0.53\n",
      "Profit Share 0.47\n"
     ]
    },
    {
     "name": "stderr",
     "output_type": "stream",
     "text": [
      "/home/jovyan/work/2_Semester/Machine Learning/MLProjects/Proposal/ML_algorithms.py:34: UserWarning: Update your `Dense` call to the Keras 2 API: `Dense(1, activation=\"sigmoid\", kernel_initializer=\"one\")`\n",
      "  model.add(layers.Dense(1, activation=\"sigmoid\", init=init))\n"
     ]
    },
    {
     "name": "stdout",
     "output_type": "stream",
     "text": [
      "The initialization used is: one\n",
      "The optimizer used is: adam\n",
      "The loss used is: binary_crossentropy\n",
      "Seed: 1\n",
      "-----------------------------------------------------\n",
      "Accuracy 0.89\n",
      "Area under the curve 0.82\n",
      "Precision 0.62\n",
      "Recall 0.72\n",
      "Profit Share 0.56\n"
     ]
    },
    {
     "name": "stderr",
     "output_type": "stream",
     "text": [
      "/home/jovyan/work/2_Semester/Machine Learning/MLProjects/Proposal/ML_algorithms.py:34: UserWarning: Update your `Dense` call to the Keras 2 API: `Dense(1, activation=\"sigmoid\", kernel_initializer=\"one\")`\n",
      "  model.add(layers.Dense(1, activation=\"sigmoid\", init=init))\n"
     ]
    },
    {
     "name": "stdout",
     "output_type": "stream",
     "text": [
      "The initialization used is: one\n",
      "The optimizer used is: adam\n",
      "The loss used is: binary_crossentropy\n",
      "Seed: 2\n",
      "-----------------------------------------------------\n",
      "Accuracy 0.85\n",
      "Area under the curve 0.74\n",
      "Precision 0.68\n",
      "Recall 0.56\n",
      "Profit Share 0.46\n"
     ]
    },
    {
     "name": "stderr",
     "output_type": "stream",
     "text": [
      "/home/jovyan/work/2_Semester/Machine Learning/MLProjects/Proposal/ML_algorithms.py:34: UserWarning: Update your `Dense` call to the Keras 2 API: `Dense(1, activation=\"sigmoid\", kernel_initializer=\"one\")`\n",
      "  model.add(layers.Dense(1, activation=\"sigmoid\", init=init))\n"
     ]
    },
    {
     "name": "stdout",
     "output_type": "stream",
     "text": [
      "The initialization used is: one\n",
      "The optimizer used is: adam\n",
      "The loss used is: binary_crossentropy\n",
      "Seed: 3\n",
      "-----------------------------------------------------\n",
      "Accuracy 0.88\n",
      "Area under the curve 0.81\n",
      "Precision 0.54\n",
      "Recall 0.72\n",
      "Profit Share 0.49\n"
     ]
    },
    {
     "name": "stderr",
     "output_type": "stream",
     "text": [
      "/home/jovyan/work/2_Semester/Machine Learning/MLProjects/Proposal/ML_algorithms.py:34: UserWarning: Update your `Dense` call to the Keras 2 API: `Dense(1, activation=\"sigmoid\", kernel_initializer=\"one\")`\n",
      "  model.add(layers.Dense(1, activation=\"sigmoid\", init=init))\n"
     ]
    },
    {
     "name": "stdout",
     "output_type": "stream",
     "text": [
      "The initialization used is: one\n",
      "The optimizer used is: adam\n",
      "The loss used is: binary_crossentropy\n",
      "Seed: 4\n",
      "-----------------------------------------------------\n",
      "Accuracy 0.86\n",
      "Area under the curve 0.76\n",
      "Precision 0.61\n",
      "Recall 0.61\n",
      "Profit Share 0.47\n"
     ]
    },
    {
     "name": "stderr",
     "output_type": "stream",
     "text": [
      "/home/jovyan/work/2_Semester/Machine Learning/MLProjects/Proposal/ML_algorithms.py:34: UserWarning: Update your `Dense` call to the Keras 2 API: `Dense(1, activation=\"sigmoid\", kernel_initializer=\"one\")`\n",
      "  model.add(layers.Dense(1, activation=\"sigmoid\", init=init))\n"
     ]
    },
    {
     "name": "stdout",
     "output_type": "stream",
     "text": [
      "The initialization used is: one\n",
      "The optimizer used is: adam\n",
      "The loss used is: mean_squared_error\n",
      "Seed: 0\n",
      "-----------------------------------------------------\n",
      "Accuracy 0.84\n",
      "Area under the curve 0.74\n",
      "Precision 0.69\n",
      "Recall 0.55\n",
      "Profit Share 0.46\n"
     ]
    },
    {
     "name": "stderr",
     "output_type": "stream",
     "text": [
      "/home/jovyan/work/2_Semester/Machine Learning/MLProjects/Proposal/ML_algorithms.py:34: UserWarning: Update your `Dense` call to the Keras 2 API: `Dense(1, activation=\"sigmoid\", kernel_initializer=\"one\")`\n",
      "  model.add(layers.Dense(1, activation=\"sigmoid\", init=init))\n"
     ]
    },
    {
     "name": "stdout",
     "output_type": "stream",
     "text": [
      "The initialization used is: one\n",
      "The optimizer used is: adam\n",
      "The loss used is: mean_squared_error\n",
      "Seed: 1\n",
      "-----------------------------------------------------\n",
      "Accuracy 0.86\n",
      "Area under the curve 0.76\n",
      "Precision 0.74\n",
      "Recall 0.58\n",
      "Profit Share 0.51\n"
     ]
    },
    {
     "name": "stderr",
     "output_type": "stream",
     "text": [
      "/home/jovyan/work/2_Semester/Machine Learning/MLProjects/Proposal/ML_algorithms.py:34: UserWarning: Update your `Dense` call to the Keras 2 API: `Dense(1, activation=\"sigmoid\", kernel_initializer=\"one\")`\n",
      "  model.add(layers.Dense(1, activation=\"sigmoid\", init=init))\n"
     ]
    },
    {
     "name": "stdout",
     "output_type": "stream",
     "text": [
      "The initialization used is: one\n",
      "The optimizer used is: adam\n",
      "The loss used is: mean_squared_error\n",
      "Seed: 2\n",
      "-----------------------------------------------------\n",
      "Accuracy 0.87\n",
      "Area under the curve 0.79\n",
      "Precision 0.55\n",
      "Recall 0.68\n",
      "Profit Share 0.47\n"
     ]
    },
    {
     "name": "stderr",
     "output_type": "stream",
     "text": [
      "/home/jovyan/work/2_Semester/Machine Learning/MLProjects/Proposal/ML_algorithms.py:34: UserWarning: Update your `Dense` call to the Keras 2 API: `Dense(1, activation=\"sigmoid\", kernel_initializer=\"one\")`\n",
      "  model.add(layers.Dense(1, activation=\"sigmoid\", init=init))\n"
     ]
    },
    {
     "name": "stdout",
     "output_type": "stream",
     "text": [
      "The initialization used is: one\n",
      "The optimizer used is: adam\n",
      "The loss used is: mean_squared_error\n",
      "Seed: 3\n",
      "-----------------------------------------------------\n",
      "Accuracy 0.86\n",
      "Area under the curve 0.76\n",
      "Precision 0.60\n",
      "Recall 0.61\n",
      "Profit Share 0.46\n"
     ]
    },
    {
     "name": "stderr",
     "output_type": "stream",
     "text": [
      "/home/jovyan/work/2_Semester/Machine Learning/MLProjects/Proposal/ML_algorithms.py:34: UserWarning: Update your `Dense` call to the Keras 2 API: `Dense(1, activation=\"sigmoid\", kernel_initializer=\"one\")`\n",
      "  model.add(layers.Dense(1, activation=\"sigmoid\", init=init))\n"
     ]
    },
    {
     "name": "stdout",
     "output_type": "stream",
     "text": [
      "The initialization used is: one\n",
      "The optimizer used is: adam\n",
      "The loss used is: mean_squared_error\n",
      "Seed: 4\n",
      "-----------------------------------------------------\n",
      "Accuracy 0.85\n",
      "Area under the curve 0.75\n",
      "Precision 0.62\n",
      "Recall 0.59\n",
      "Profit Share 0.46\n"
     ]
    },
    {
     "name": "stderr",
     "output_type": "stream",
     "text": [
      "/home/jovyan/work/2_Semester/Machine Learning/MLProjects/Proposal/ML_algorithms.py:34: UserWarning: Update your `Dense` call to the Keras 2 API: `Dense(1, activation=\"sigmoid\", kernel_initializer=\"one\")`\n",
      "  model.add(layers.Dense(1, activation=\"sigmoid\", init=init))\n"
     ]
    },
    {
     "name": "stdout",
     "output_type": "stream",
     "text": [
      "The initialization used is: one\n",
      "The optimizer used is: rmsprop\n",
      "The loss used is: binary_crossentropy\n",
      "Seed: 0\n",
      "-----------------------------------------------------\n",
      "Accuracy 0.84\n",
      "Area under the curve 0.74\n",
      "Precision 0.82\n",
      "Recall 0.53\n",
      "Profit Share 0.49\n"
     ]
    },
    {
     "name": "stderr",
     "output_type": "stream",
     "text": [
      "/home/jovyan/work/2_Semester/Machine Learning/MLProjects/Proposal/ML_algorithms.py:34: UserWarning: Update your `Dense` call to the Keras 2 API: `Dense(1, activation=\"sigmoid\", kernel_initializer=\"one\")`\n",
      "  model.add(layers.Dense(1, activation=\"sigmoid\", init=init))\n"
     ]
    },
    {
     "name": "stdout",
     "output_type": "stream",
     "text": [
      "The initialization used is: one\n",
      "The optimizer used is: rmsprop\n",
      "The loss used is: binary_crossentropy\n",
      "Seed: 1\n",
      "-----------------------------------------------------\n",
      "Accuracy 0.87\n",
      "Area under the curve 0.77\n",
      "Precision 0.66\n",
      "Recall 0.62\n",
      "Profit Share 0.50\n"
     ]
    },
    {
     "name": "stderr",
     "output_type": "stream",
     "text": [
      "/home/jovyan/work/2_Semester/Machine Learning/MLProjects/Proposal/ML_algorithms.py:34: UserWarning: Update your `Dense` call to the Keras 2 API: `Dense(1, activation=\"sigmoid\", kernel_initializer=\"one\")`\n",
      "  model.add(layers.Dense(1, activation=\"sigmoid\", init=init))\n"
     ]
    },
    {
     "name": "stdout",
     "output_type": "stream",
     "text": [
      "The initialization used is: one\n",
      "The optimizer used is: rmsprop\n",
      "The loss used is: binary_crossentropy\n",
      "Seed: 2\n",
      "-----------------------------------------------------\n",
      "Accuracy 0.86\n",
      "Area under the curve 0.77\n",
      "Precision 0.62\n",
      "Recall 0.62\n",
      "Profit Share 0.48\n"
     ]
    },
    {
     "name": "stderr",
     "output_type": "stream",
     "text": [
      "/home/jovyan/work/2_Semester/Machine Learning/MLProjects/Proposal/ML_algorithms.py:34: UserWarning: Update your `Dense` call to the Keras 2 API: `Dense(1, activation=\"sigmoid\", kernel_initializer=\"one\")`\n",
      "  model.add(layers.Dense(1, activation=\"sigmoid\", init=init))\n"
     ]
    },
    {
     "name": "stdout",
     "output_type": "stream",
     "text": [
      "The initialization used is: one\n",
      "The optimizer used is: rmsprop\n",
      "The loss used is: binary_crossentropy\n",
      "Seed: 3\n",
      "-----------------------------------------------------\n",
      "Accuracy 0.85\n",
      "Area under the curve 0.75\n",
      "Precision 0.72\n",
      "Recall 0.56\n",
      "Profit Share 0.48\n"
     ]
    },
    {
     "name": "stderr",
     "output_type": "stream",
     "text": [
      "/home/jovyan/work/2_Semester/Machine Learning/MLProjects/Proposal/ML_algorithms.py:34: UserWarning: Update your `Dense` call to the Keras 2 API: `Dense(1, activation=\"sigmoid\", kernel_initializer=\"one\")`\n",
      "  model.add(layers.Dense(1, activation=\"sigmoid\", init=init))\n"
     ]
    },
    {
     "name": "stdout",
     "output_type": "stream",
     "text": [
      "The initialization used is: one\n",
      "The optimizer used is: rmsprop\n",
      "The loss used is: binary_crossentropy\n",
      "Seed: 4\n",
      "-----------------------------------------------------\n",
      "Accuracy 0.87\n",
      "Area under the curve 0.78\n",
      "Precision 0.61\n",
      "Recall 0.64\n",
      "Profit Share 0.49\n"
     ]
    },
    {
     "name": "stderr",
     "output_type": "stream",
     "text": [
      "/home/jovyan/work/2_Semester/Machine Learning/MLProjects/Proposal/ML_algorithms.py:34: UserWarning: Update your `Dense` call to the Keras 2 API: `Dense(1, activation=\"sigmoid\", kernel_initializer=\"one\")`\n",
      "  model.add(layers.Dense(1, activation=\"sigmoid\", init=init))\n"
     ]
    },
    {
     "name": "stdout",
     "output_type": "stream",
     "text": [
      "The initialization used is: one\n",
      "The optimizer used is: rmsprop\n",
      "The loss used is: mean_squared_error\n",
      "Seed: 0\n",
      "-----------------------------------------------------\n",
      "Accuracy 0.85\n",
      "Area under the curve 0.75\n",
      "Precision 0.69\n",
      "Recall 0.57\n",
      "Profit Share 0.48\n"
     ]
    },
    {
     "name": "stderr",
     "output_type": "stream",
     "text": [
      "/home/jovyan/work/2_Semester/Machine Learning/MLProjects/Proposal/ML_algorithms.py:34: UserWarning: Update your `Dense` call to the Keras 2 API: `Dense(1, activation=\"sigmoid\", kernel_initializer=\"one\")`\n",
      "  model.add(layers.Dense(1, activation=\"sigmoid\", init=init))\n"
     ]
    },
    {
     "name": "stdout",
     "output_type": "stream",
     "text": [
      "The initialization used is: one\n",
      "The optimizer used is: rmsprop\n",
      "The loss used is: mean_squared_error\n",
      "Seed: 1\n",
      "-----------------------------------------------------\n",
      "Accuracy 0.88\n",
      "Area under the curve 0.81\n",
      "Precision 0.60\n",
      "Recall 0.70\n",
      "Profit Share 0.52\n"
     ]
    },
    {
     "name": "stderr",
     "output_type": "stream",
     "text": [
      "/home/jovyan/work/2_Semester/Machine Learning/MLProjects/Proposal/ML_algorithms.py:34: UserWarning: Update your `Dense` call to the Keras 2 API: `Dense(1, activation=\"sigmoid\", kernel_initializer=\"one\")`\n",
      "  model.add(layers.Dense(1, activation=\"sigmoid\", init=init))\n"
     ]
    },
    {
     "name": "stdout",
     "output_type": "stream",
     "text": [
      "The initialization used is: one\n",
      "The optimizer used is: rmsprop\n",
      "The loss used is: mean_squared_error\n",
      "Seed: 2\n",
      "-----------------------------------------------------\n",
      "Accuracy 0.86\n",
      "Area under the curve 0.76\n",
      "Precision 0.65\n",
      "Recall 0.60\n",
      "Profit Share 0.48\n"
     ]
    },
    {
     "name": "stderr",
     "output_type": "stream",
     "text": [
      "/home/jovyan/work/2_Semester/Machine Learning/MLProjects/Proposal/ML_algorithms.py:34: UserWarning: Update your `Dense` call to the Keras 2 API: `Dense(1, activation=\"sigmoid\", kernel_initializer=\"one\")`\n",
      "  model.add(layers.Dense(1, activation=\"sigmoid\", init=init))\n"
     ]
    },
    {
     "name": "stdout",
     "output_type": "stream",
     "text": [
      "The initialization used is: one\n",
      "The optimizer used is: rmsprop\n",
      "The loss used is: mean_squared_error\n",
      "Seed: 3\n",
      "-----------------------------------------------------\n",
      "Accuracy 0.87\n",
      "Area under the curve 0.78\n",
      "Precision 0.65\n",
      "Recall 0.63\n",
      "Profit Share 0.51\n"
     ]
    },
    {
     "name": "stderr",
     "output_type": "stream",
     "text": [
      "/home/jovyan/work/2_Semester/Machine Learning/MLProjects/Proposal/ML_algorithms.py:34: UserWarning: Update your `Dense` call to the Keras 2 API: `Dense(1, activation=\"sigmoid\", kernel_initializer=\"one\")`\n",
      "  model.add(layers.Dense(1, activation=\"sigmoid\", init=init))\n"
     ]
    },
    {
     "name": "stdout",
     "output_type": "stream",
     "text": [
      "The initialization used is: one\n",
      "The optimizer used is: rmsprop\n",
      "The loss used is: mean_squared_error\n",
      "Seed: 4\n",
      "-----------------------------------------------------\n",
      "Accuracy 0.88\n",
      "Area under the curve 0.82\n",
      "Precision 0.53\n",
      "Recall 0.74\n",
      "Profit Share 0.49\n"
     ]
    },
    {
     "name": "stderr",
     "output_type": "stream",
     "text": [
      "/home/jovyan/work/2_Semester/Machine Learning/MLProjects/Proposal/ML_algorithms.py:34: UserWarning: Update your `Dense` call to the Keras 2 API: `Dense(1, activation=\"sigmoid\", kernel_initializer=\"glorot_normal\")`\n",
      "  model.add(layers.Dense(1, activation=\"sigmoid\", init=init))\n"
     ]
    },
    {
     "name": "stdout",
     "output_type": "stream",
     "text": [
      "The initialization used is: glorot_normal\n",
      "The optimizer used is: adam\n",
      "The loss used is: binary_crossentropy\n",
      "Seed: 0\n",
      "-----------------------------------------------------\n",
      "Accuracy 0.88\n",
      "Area under the curve 0.80\n",
      "Precision 0.64\n",
      "Recall 0.68\n",
      "Profit Share 0.54\n"
     ]
    },
    {
     "name": "stderr",
     "output_type": "stream",
     "text": [
      "/home/jovyan/work/2_Semester/Machine Learning/MLProjects/Proposal/ML_algorithms.py:34: UserWarning: Update your `Dense` call to the Keras 2 API: `Dense(1, activation=\"sigmoid\", kernel_initializer=\"glorot_normal\")`\n",
      "  model.add(layers.Dense(1, activation=\"sigmoid\", init=init))\n"
     ]
    },
    {
     "name": "stdout",
     "output_type": "stream",
     "text": [
      "The initialization used is: glorot_normal\n",
      "The optimizer used is: adam\n",
      "The loss used is: binary_crossentropy\n",
      "Seed: 1\n",
      "-----------------------------------------------------\n",
      "Accuracy 0.88\n",
      "Area under the curve 0.79\n",
      "Precision 0.70\n",
      "Recall 0.65\n",
      "Profit Share 0.55\n"
     ]
    },
    {
     "name": "stderr",
     "output_type": "stream",
     "text": [
      "/home/jovyan/work/2_Semester/Machine Learning/MLProjects/Proposal/ML_algorithms.py:34: UserWarning: Update your `Dense` call to the Keras 2 API: `Dense(1, activation=\"sigmoid\", kernel_initializer=\"glorot_normal\")`\n",
      "  model.add(layers.Dense(1, activation=\"sigmoid\", init=init))\n"
     ]
    },
    {
     "name": "stdout",
     "output_type": "stream",
     "text": [
      "The initialization used is: glorot_normal\n",
      "The optimizer used is: adam\n",
      "The loss used is: binary_crossentropy\n",
      "Seed: 2\n",
      "-----------------------------------------------------\n",
      "Accuracy 0.88\n",
      "Area under the curve 0.80\n",
      "Precision 0.66\n",
      "Recall 0.68\n",
      "Profit Share 0.55\n"
     ]
    },
    {
     "name": "stderr",
     "output_type": "stream",
     "text": [
      "/home/jovyan/work/2_Semester/Machine Learning/MLProjects/Proposal/ML_algorithms.py:34: UserWarning: Update your `Dense` call to the Keras 2 API: `Dense(1, activation=\"sigmoid\", kernel_initializer=\"glorot_normal\")`\n",
      "  model.add(layers.Dense(1, activation=\"sigmoid\", init=init))\n"
     ]
    },
    {
     "name": "stdout",
     "output_type": "stream",
     "text": [
      "The initialization used is: glorot_normal\n",
      "The optimizer used is: adam\n",
      "The loss used is: binary_crossentropy\n",
      "Seed: 3\n",
      "-----------------------------------------------------\n",
      "Accuracy 0.87\n",
      "Area under the curve 0.78\n",
      "Precision 0.64\n",
      "Recall 0.63\n",
      "Profit Share 0.50\n"
     ]
    },
    {
     "name": "stderr",
     "output_type": "stream",
     "text": [
      "/home/jovyan/work/2_Semester/Machine Learning/MLProjects/Proposal/ML_algorithms.py:34: UserWarning: Update your `Dense` call to the Keras 2 API: `Dense(1, activation=\"sigmoid\", kernel_initializer=\"glorot_normal\")`\n",
      "  model.add(layers.Dense(1, activation=\"sigmoid\", init=init))\n"
     ]
    },
    {
     "name": "stdout",
     "output_type": "stream",
     "text": [
      "The initialization used is: glorot_normal\n",
      "The optimizer used is: adam\n",
      "The loss used is: binary_crossentropy\n",
      "Seed: 4\n",
      "-----------------------------------------------------\n",
      "Accuracy 0.87\n",
      "Area under the curve 0.77\n",
      "Precision 0.69\n",
      "Recall 0.61\n",
      "Profit Share 0.51\n"
     ]
    },
    {
     "name": "stderr",
     "output_type": "stream",
     "text": [
      "/home/jovyan/work/2_Semester/Machine Learning/MLProjects/Proposal/ML_algorithms.py:34: UserWarning: Update your `Dense` call to the Keras 2 API: `Dense(1, activation=\"sigmoid\", kernel_initializer=\"glorot_normal\")`\n",
      "  model.add(layers.Dense(1, activation=\"sigmoid\", init=init))\n"
     ]
    },
    {
     "name": "stdout",
     "output_type": "stream",
     "text": [
      "The initialization used is: glorot_normal\n",
      "The optimizer used is: adam\n",
      "The loss used is: mean_squared_error\n",
      "Seed: 0\n",
      "-----------------------------------------------------\n",
      "Accuracy 0.86\n",
      "Area under the curve 0.76\n",
      "Precision 0.72\n",
      "Recall 0.59\n",
      "Profit Share 0.51\n"
     ]
    },
    {
     "name": "stderr",
     "output_type": "stream",
     "text": [
      "/home/jovyan/work/2_Semester/Machine Learning/MLProjects/Proposal/ML_algorithms.py:34: UserWarning: Update your `Dense` call to the Keras 2 API: `Dense(1, activation=\"sigmoid\", kernel_initializer=\"glorot_normal\")`\n",
      "  model.add(layers.Dense(1, activation=\"sigmoid\", init=init))\n"
     ]
    },
    {
     "name": "stdout",
     "output_type": "stream",
     "text": [
      "The initialization used is: glorot_normal\n",
      "The optimizer used is: adam\n",
      "The loss used is: mean_squared_error\n",
      "Seed: 1\n",
      "-----------------------------------------------------\n",
      "Accuracy 0.89\n",
      "Area under the curve 0.81\n",
      "Precision 0.66\n",
      "Recall 0.69\n",
      "Profit Share 0.56\n"
     ]
    },
    {
     "name": "stderr",
     "output_type": "stream",
     "text": [
      "/home/jovyan/work/2_Semester/Machine Learning/MLProjects/Proposal/ML_algorithms.py:34: UserWarning: Update your `Dense` call to the Keras 2 API: `Dense(1, activation=\"sigmoid\", kernel_initializer=\"glorot_normal\")`\n",
      "  model.add(layers.Dense(1, activation=\"sigmoid\", init=init))\n"
     ]
    },
    {
     "name": "stdout",
     "output_type": "stream",
     "text": [
      "The initialization used is: glorot_normal\n",
      "The optimizer used is: adam\n",
      "The loss used is: mean_squared_error\n",
      "Seed: 2\n",
      "-----------------------------------------------------\n",
      "Accuracy 0.89\n",
      "Area under the curve 0.81\n",
      "Precision 0.61\n",
      "Recall 0.71\n",
      "Profit Share 0.54\n"
     ]
    },
    {
     "name": "stderr",
     "output_type": "stream",
     "text": [
      "/home/jovyan/work/2_Semester/Machine Learning/MLProjects/Proposal/ML_algorithms.py:34: UserWarning: Update your `Dense` call to the Keras 2 API: `Dense(1, activation=\"sigmoid\", kernel_initializer=\"glorot_normal\")`\n",
      "  model.add(layers.Dense(1, activation=\"sigmoid\", init=init))\n"
     ]
    },
    {
     "name": "stdout",
     "output_type": "stream",
     "text": [
      "The initialization used is: glorot_normal\n",
      "The optimizer used is: adam\n",
      "The loss used is: mean_squared_error\n",
      "Seed: 3\n",
      "-----------------------------------------------------\n",
      "Accuracy 0.86\n",
      "Area under the curve 0.76\n",
      "Precision 0.76\n",
      "Recall 0.58\n",
      "Profit Share 0.51\n"
     ]
    },
    {
     "name": "stderr",
     "output_type": "stream",
     "text": [
      "/home/jovyan/work/2_Semester/Machine Learning/MLProjects/Proposal/ML_algorithms.py:34: UserWarning: Update your `Dense` call to the Keras 2 API: `Dense(1, activation=\"sigmoid\", kernel_initializer=\"glorot_normal\")`\n",
      "  model.add(layers.Dense(1, activation=\"sigmoid\", init=init))\n"
     ]
    },
    {
     "name": "stdout",
     "output_type": "stream",
     "text": [
      "The initialization used is: glorot_normal\n",
      "The optimizer used is: adam\n",
      "The loss used is: mean_squared_error\n",
      "Seed: 4\n",
      "-----------------------------------------------------\n",
      "Accuracy 0.88\n",
      "Area under the curve 0.79\n",
      "Precision 0.60\n",
      "Recall 0.67\n",
      "Profit Share 0.50\n"
     ]
    },
    {
     "name": "stderr",
     "output_type": "stream",
     "text": [
      "/home/jovyan/work/2_Semester/Machine Learning/MLProjects/Proposal/ML_algorithms.py:34: UserWarning: Update your `Dense` call to the Keras 2 API: `Dense(1, activation=\"sigmoid\", kernel_initializer=\"glorot_normal\")`\n",
      "  model.add(layers.Dense(1, activation=\"sigmoid\", init=init))\n"
     ]
    },
    {
     "name": "stdout",
     "output_type": "stream",
     "text": [
      "The initialization used is: glorot_normal\n",
      "The optimizer used is: rmsprop\n",
      "The loss used is: binary_crossentropy\n",
      "Seed: 0\n",
      "-----------------------------------------------------\n",
      "Accuracy 0.88\n",
      "Area under the curve 0.79\n",
      "Precision 0.66\n",
      "Recall 0.66\n",
      "Profit Share 0.54\n"
     ]
    },
    {
     "name": "stderr",
     "output_type": "stream",
     "text": [
      "/home/jovyan/work/2_Semester/Machine Learning/MLProjects/Proposal/ML_algorithms.py:34: UserWarning: Update your `Dense` call to the Keras 2 API: `Dense(1, activation=\"sigmoid\", kernel_initializer=\"glorot_normal\")`\n",
      "  model.add(layers.Dense(1, activation=\"sigmoid\", init=init))\n"
     ]
    },
    {
     "name": "stdout",
     "output_type": "stream",
     "text": [
      "The initialization used is: glorot_normal\n",
      "The optimizer used is: rmsprop\n",
      "The loss used is: binary_crossentropy\n",
      "Seed: 1\n",
      "-----------------------------------------------------\n",
      "Accuracy 0.89\n",
      "Area under the curve 0.81\n",
      "Precision 0.66\n",
      "Recall 0.69\n",
      "Profit Share 0.56\n"
     ]
    },
    {
     "name": "stderr",
     "output_type": "stream",
     "text": [
      "/home/jovyan/work/2_Semester/Machine Learning/MLProjects/Proposal/ML_algorithms.py:34: UserWarning: Update your `Dense` call to the Keras 2 API: `Dense(1, activation=\"sigmoid\", kernel_initializer=\"glorot_normal\")`\n",
      "  model.add(layers.Dense(1, activation=\"sigmoid\", init=init))\n"
     ]
    },
    {
     "name": "stdout",
     "output_type": "stream",
     "text": [
      "The initialization used is: glorot_normal\n",
      "The optimizer used is: rmsprop\n",
      "The loss used is: binary_crossentropy\n",
      "Seed: 2\n",
      "-----------------------------------------------------\n",
      "Accuracy 0.88\n",
      "Area under the curve 0.79\n",
      "Precision 0.61\n",
      "Recall 0.66\n",
      "Profit Share 0.51\n"
     ]
    },
    {
     "name": "stderr",
     "output_type": "stream",
     "text": [
      "/home/jovyan/work/2_Semester/Machine Learning/MLProjects/Proposal/ML_algorithms.py:34: UserWarning: Update your `Dense` call to the Keras 2 API: `Dense(1, activation=\"sigmoid\", kernel_initializer=\"glorot_normal\")`\n",
      "  model.add(layers.Dense(1, activation=\"sigmoid\", init=init))\n"
     ]
    },
    {
     "name": "stdout",
     "output_type": "stream",
     "text": [
      "The initialization used is: glorot_normal\n",
      "The optimizer used is: rmsprop\n",
      "The loss used is: binary_crossentropy\n",
      "Seed: 3\n",
      "-----------------------------------------------------\n",
      "Accuracy 0.88\n",
      "Area under the curve 0.82\n",
      "Precision 0.53\n",
      "Recall 0.74\n",
      "Profit Share 0.49\n"
     ]
    },
    {
     "name": "stderr",
     "output_type": "stream",
     "text": [
      "/home/jovyan/work/2_Semester/Machine Learning/MLProjects/Proposal/ML_algorithms.py:34: UserWarning: Update your `Dense` call to the Keras 2 API: `Dense(1, activation=\"sigmoid\", kernel_initializer=\"glorot_normal\")`\n",
      "  model.add(layers.Dense(1, activation=\"sigmoid\", init=init))\n"
     ]
    },
    {
     "name": "stdout",
     "output_type": "stream",
     "text": [
      "The initialization used is: glorot_normal\n",
      "The optimizer used is: rmsprop\n",
      "The loss used is: binary_crossentropy\n",
      "Seed: 4\n",
      "-----------------------------------------------------\n",
      "Accuracy 0.88\n",
      "Area under the curve 0.80\n",
      "Precision 0.64\n",
      "Recall 0.67\n",
      "Profit Share 0.53\n"
     ]
    },
    {
     "name": "stderr",
     "output_type": "stream",
     "text": [
      "/home/jovyan/work/2_Semester/Machine Learning/MLProjects/Proposal/ML_algorithms.py:34: UserWarning: Update your `Dense` call to the Keras 2 API: `Dense(1, activation=\"sigmoid\", kernel_initializer=\"glorot_normal\")`\n",
      "  model.add(layers.Dense(1, activation=\"sigmoid\", init=init))\n"
     ]
    },
    {
     "name": "stdout",
     "output_type": "stream",
     "text": [
      "The initialization used is: glorot_normal\n",
      "The optimizer used is: rmsprop\n",
      "The loss used is: mean_squared_error\n",
      "Seed: 0\n",
      "-----------------------------------------------------\n",
      "Accuracy 0.88\n",
      "Area under the curve 0.78\n",
      "Precision 0.71\n",
      "Recall 0.63\n",
      "Profit Share 0.54\n"
     ]
    },
    {
     "name": "stderr",
     "output_type": "stream",
     "text": [
      "/home/jovyan/work/2_Semester/Machine Learning/MLProjects/Proposal/ML_algorithms.py:34: UserWarning: Update your `Dense` call to the Keras 2 API: `Dense(1, activation=\"sigmoid\", kernel_initializer=\"glorot_normal\")`\n",
      "  model.add(layers.Dense(1, activation=\"sigmoid\", init=init))\n"
     ]
    },
    {
     "name": "stdout",
     "output_type": "stream",
     "text": [
      "The initialization used is: glorot_normal\n",
      "The optimizer used is: rmsprop\n",
      "The loss used is: mean_squared_error\n",
      "Seed: 1\n",
      "-----------------------------------------------------\n",
      "Accuracy 0.88\n",
      "Area under the curve 0.81\n",
      "Precision 0.59\n",
      "Recall 0.70\n",
      "Profit Share 0.52\n"
     ]
    },
    {
     "name": "stderr",
     "output_type": "stream",
     "text": [
      "/home/jovyan/work/2_Semester/Machine Learning/MLProjects/Proposal/ML_algorithms.py:34: UserWarning: Update your `Dense` call to the Keras 2 API: `Dense(1, activation=\"sigmoid\", kernel_initializer=\"glorot_normal\")`\n",
      "  model.add(layers.Dense(1, activation=\"sigmoid\", init=init))\n"
     ]
    },
    {
     "name": "stdout",
     "output_type": "stream",
     "text": [
      "The initialization used is: glorot_normal\n",
      "The optimizer used is: rmsprop\n",
      "The loss used is: mean_squared_error\n",
      "Seed: 2\n",
      "-----------------------------------------------------\n",
      "Accuracy 0.84\n",
      "Area under the curve 0.74\n",
      "Precision 0.75\n",
      "Recall 0.55\n",
      "Profit Share 0.48\n"
     ]
    },
    {
     "name": "stderr",
     "output_type": "stream",
     "text": [
      "/home/jovyan/work/2_Semester/Machine Learning/MLProjects/Proposal/ML_algorithms.py:34: UserWarning: Update your `Dense` call to the Keras 2 API: `Dense(1, activation=\"sigmoid\", kernel_initializer=\"glorot_normal\")`\n",
      "  model.add(layers.Dense(1, activation=\"sigmoid\", init=init))\n"
     ]
    },
    {
     "name": "stdout",
     "output_type": "stream",
     "text": [
      "The initialization used is: glorot_normal\n",
      "The optimizer used is: rmsprop\n",
      "The loss used is: mean_squared_error\n",
      "Seed: 3\n",
      "-----------------------------------------------------\n",
      "Accuracy 0.87\n",
      "Area under the curve 0.78\n",
      "Precision 0.62\n",
      "Recall 0.64\n",
      "Profit Share 0.50\n"
     ]
    },
    {
     "name": "stderr",
     "output_type": "stream",
     "text": [
      "/home/jovyan/work/2_Semester/Machine Learning/MLProjects/Proposal/ML_algorithms.py:34: UserWarning: Update your `Dense` call to the Keras 2 API: `Dense(1, activation=\"sigmoid\", kernel_initializer=\"glorot_normal\")`\n",
      "  model.add(layers.Dense(1, activation=\"sigmoid\", init=init))\n"
     ]
    },
    {
     "name": "stdout",
     "output_type": "stream",
     "text": [
      "The initialization used is: glorot_normal\n",
      "The optimizer used is: rmsprop\n",
      "The loss used is: mean_squared_error\n",
      "Seed: 4\n",
      "-----------------------------------------------------\n",
      "Accuracy 0.88\n",
      "Area under the curve 0.82\n",
      "Precision 0.57\n",
      "Recall 0.72\n",
      "Profit Share 0.52\n"
     ]
    },
    {
     "name": "stderr",
     "output_type": "stream",
     "text": [
      "/home/jovyan/work/2_Semester/Machine Learning/MLProjects/Proposal/ML_algorithms.py:34: UserWarning: Update your `Dense` call to the Keras 2 API: `Dense(1, activation=\"sigmoid\", kernel_initializer=\"glorot_uniform\")`\n",
      "  model.add(layers.Dense(1, activation=\"sigmoid\", init=init))\n"
     ]
    },
    {
     "name": "stdout",
     "output_type": "stream",
     "text": [
      "The initialization used is: glorot_uniform\n",
      "The optimizer used is: adam\n",
      "The loss used is: binary_crossentropy\n",
      "Seed: 0\n",
      "-----------------------------------------------------\n",
      "Accuracy 0.89\n",
      "Area under the curve 0.80\n",
      "Precision 0.71\n",
      "Recall 0.67\n",
      "Profit Share 0.57\n"
     ]
    },
    {
     "name": "stderr",
     "output_type": "stream",
     "text": [
      "/home/jovyan/work/2_Semester/Machine Learning/MLProjects/Proposal/ML_algorithms.py:34: UserWarning: Update your `Dense` call to the Keras 2 API: `Dense(1, activation=\"sigmoid\", kernel_initializer=\"glorot_uniform\")`\n",
      "  model.add(layers.Dense(1, activation=\"sigmoid\", init=init))\n"
     ]
    },
    {
     "name": "stdout",
     "output_type": "stream",
     "text": [
      "The initialization used is: glorot_uniform\n",
      "The optimizer used is: adam\n",
      "The loss used is: binary_crossentropy\n",
      "Seed: 1\n",
      "-----------------------------------------------------\n",
      "Accuracy 0.87\n",
      "Area under the curve 0.77\n",
      "Precision 0.69\n",
      "Recall 0.61\n",
      "Profit Share 0.51\n"
     ]
    },
    {
     "name": "stderr",
     "output_type": "stream",
     "text": [
      "/home/jovyan/work/2_Semester/Machine Learning/MLProjects/Proposal/ML_algorithms.py:34: UserWarning: Update your `Dense` call to the Keras 2 API: `Dense(1, activation=\"sigmoid\", kernel_initializer=\"glorot_uniform\")`\n",
      "  model.add(layers.Dense(1, activation=\"sigmoid\", init=init))\n"
     ]
    },
    {
     "name": "stdout",
     "output_type": "stream",
     "text": [
      "The initialization used is: glorot_uniform\n",
      "The optimizer used is: adam\n",
      "The loss used is: binary_crossentropy\n",
      "Seed: 2\n",
      "-----------------------------------------------------\n",
      "Accuracy 0.88\n",
      "Area under the curve 0.81\n",
      "Precision 0.53\n",
      "Recall 0.71\n",
      "Profit Share 0.47\n"
     ]
    },
    {
     "name": "stderr",
     "output_type": "stream",
     "text": [
      "/home/jovyan/work/2_Semester/Machine Learning/MLProjects/Proposal/ML_algorithms.py:34: UserWarning: Update your `Dense` call to the Keras 2 API: `Dense(1, activation=\"sigmoid\", kernel_initializer=\"glorot_uniform\")`\n",
      "  model.add(layers.Dense(1, activation=\"sigmoid\", init=init))\n"
     ]
    },
    {
     "name": "stdout",
     "output_type": "stream",
     "text": [
      "The initialization used is: glorot_uniform\n",
      "The optimizer used is: adam\n",
      "The loss used is: binary_crossentropy\n",
      "Seed: 3\n",
      "-----------------------------------------------------\n",
      "Accuracy 0.88\n",
      "Area under the curve 0.79\n",
      "Precision 0.68\n",
      "Recall 0.66\n",
      "Profit Share 0.54\n"
     ]
    },
    {
     "name": "stderr",
     "output_type": "stream",
     "text": [
      "/home/jovyan/work/2_Semester/Machine Learning/MLProjects/Proposal/ML_algorithms.py:34: UserWarning: Update your `Dense` call to the Keras 2 API: `Dense(1, activation=\"sigmoid\", kernel_initializer=\"glorot_uniform\")`\n",
      "  model.add(layers.Dense(1, activation=\"sigmoid\", init=init))\n"
     ]
    },
    {
     "name": "stdout",
     "output_type": "stream",
     "text": [
      "The initialization used is: glorot_uniform\n",
      "The optimizer used is: adam\n",
      "The loss used is: binary_crossentropy\n",
      "Seed: 4\n",
      "-----------------------------------------------------\n",
      "Accuracy 0.88\n",
      "Area under the curve 0.80\n",
      "Precision 0.70\n",
      "Recall 0.67\n",
      "Profit Share 0.56\n"
     ]
    },
    {
     "name": "stderr",
     "output_type": "stream",
     "text": [
      "/home/jovyan/work/2_Semester/Machine Learning/MLProjects/Proposal/ML_algorithms.py:34: UserWarning: Update your `Dense` call to the Keras 2 API: `Dense(1, activation=\"sigmoid\", kernel_initializer=\"glorot_uniform\")`\n",
      "  model.add(layers.Dense(1, activation=\"sigmoid\", init=init))\n"
     ]
    },
    {
     "name": "stdout",
     "output_type": "stream",
     "text": [
      "The initialization used is: glorot_uniform\n",
      "The optimizer used is: adam\n",
      "The loss used is: mean_squared_error\n",
      "Seed: 0\n",
      "-----------------------------------------------------\n",
      "Accuracy 0.88\n",
      "Area under the curve 0.79\n",
      "Precision 0.66\n",
      "Recall 0.66\n",
      "Profit Share 0.54\n"
     ]
    },
    {
     "name": "stderr",
     "output_type": "stream",
     "text": [
      "/home/jovyan/work/2_Semester/Machine Learning/MLProjects/Proposal/ML_algorithms.py:34: UserWarning: Update your `Dense` call to the Keras 2 API: `Dense(1, activation=\"sigmoid\", kernel_initializer=\"glorot_uniform\")`\n",
      "  model.add(layers.Dense(1, activation=\"sigmoid\", init=init))\n"
     ]
    },
    {
     "name": "stdout",
     "output_type": "stream",
     "text": [
      "The initialization used is: glorot_uniform\n",
      "The optimizer used is: adam\n",
      "The loss used is: mean_squared_error\n",
      "Seed: 1\n",
      "-----------------------------------------------------\n",
      "Accuracy 0.87\n",
      "Area under the curve 0.79\n",
      "Precision 0.56\n",
      "Recall 0.67\n",
      "Profit Share 0.48\n"
     ]
    },
    {
     "name": "stderr",
     "output_type": "stream",
     "text": [
      "/home/jovyan/work/2_Semester/Machine Learning/MLProjects/Proposal/ML_algorithms.py:34: UserWarning: Update your `Dense` call to the Keras 2 API: `Dense(1, activation=\"sigmoid\", kernel_initializer=\"glorot_uniform\")`\n",
      "  model.add(layers.Dense(1, activation=\"sigmoid\", init=init))\n"
     ]
    },
    {
     "name": "stdout",
     "output_type": "stream",
     "text": [
      "The initialization used is: glorot_uniform\n",
      "The optimizer used is: adam\n",
      "The loss used is: mean_squared_error\n",
      "Seed: 2\n",
      "-----------------------------------------------------\n",
      "Accuracy 0.88\n",
      "Area under the curve 0.79\n",
      "Precision 0.61\n",
      "Recall 0.66\n",
      "Profit Share 0.51\n"
     ]
    },
    {
     "name": "stderr",
     "output_type": "stream",
     "text": [
      "/home/jovyan/work/2_Semester/Machine Learning/MLProjects/Proposal/ML_algorithms.py:34: UserWarning: Update your `Dense` call to the Keras 2 API: `Dense(1, activation=\"sigmoid\", kernel_initializer=\"glorot_uniform\")`\n",
      "  model.add(layers.Dense(1, activation=\"sigmoid\", init=init))\n"
     ]
    },
    {
     "name": "stdout",
     "output_type": "stream",
     "text": [
      "The initialization used is: glorot_uniform\n",
      "The optimizer used is: adam\n",
      "The loss used is: mean_squared_error\n",
      "Seed: 3\n",
      "-----------------------------------------------------\n",
      "Accuracy 0.86\n",
      "Area under the curve 0.76\n",
      "Precision 0.66\n",
      "Recall 0.60\n",
      "Profit Share 0.49\n"
     ]
    },
    {
     "name": "stderr",
     "output_type": "stream",
     "text": [
      "/home/jovyan/work/2_Semester/Machine Learning/MLProjects/Proposal/ML_algorithms.py:34: UserWarning: Update your `Dense` call to the Keras 2 API: `Dense(1, activation=\"sigmoid\", kernel_initializer=\"glorot_uniform\")`\n",
      "  model.add(layers.Dense(1, activation=\"sigmoid\", init=init))\n"
     ]
    },
    {
     "name": "stdout",
     "output_type": "stream",
     "text": [
      "The initialization used is: glorot_uniform\n",
      "The optimizer used is: adam\n",
      "The loss used is: mean_squared_error\n",
      "Seed: 4\n",
      "-----------------------------------------------------\n",
      "Accuracy 0.87\n",
      "Area under the curve 0.77\n",
      "Precision 0.70\n",
      "Recall 0.62\n",
      "Profit Share 0.52\n"
     ]
    },
    {
     "name": "stderr",
     "output_type": "stream",
     "text": [
      "/home/jovyan/work/2_Semester/Machine Learning/MLProjects/Proposal/ML_algorithms.py:34: UserWarning: Update your `Dense` call to the Keras 2 API: `Dense(1, activation=\"sigmoid\", kernel_initializer=\"glorot_uniform\")`\n",
      "  model.add(layers.Dense(1, activation=\"sigmoid\", init=init))\n"
     ]
    },
    {
     "name": "stdout",
     "output_type": "stream",
     "text": [
      "The initialization used is: glorot_uniform\n",
      "The optimizer used is: rmsprop\n",
      "The loss used is: binary_crossentropy\n",
      "Seed: 0\n",
      "-----------------------------------------------------\n",
      "Accuracy 0.89\n",
      "Area under the curve 0.80\n",
      "Precision 0.76\n",
      "Recall 0.66\n",
      "Profit Share 0.58\n"
     ]
    },
    {
     "name": "stderr",
     "output_type": "stream",
     "text": [
      "/home/jovyan/work/2_Semester/Machine Learning/MLProjects/Proposal/ML_algorithms.py:34: UserWarning: Update your `Dense` call to the Keras 2 API: `Dense(1, activation=\"sigmoid\", kernel_initializer=\"glorot_uniform\")`\n",
      "  model.add(layers.Dense(1, activation=\"sigmoid\", init=init))\n"
     ]
    },
    {
     "name": "stdout",
     "output_type": "stream",
     "text": [
      "The initialization used is: glorot_uniform\n",
      "The optimizer used is: rmsprop\n",
      "The loss used is: binary_crossentropy\n",
      "Seed: 1\n",
      "-----------------------------------------------------\n",
      "Accuracy 0.88\n",
      "Area under the curve 0.80\n",
      "Precision 0.61\n",
      "Recall 0.69\n",
      "Profit Share 0.53\n"
     ]
    },
    {
     "name": "stderr",
     "output_type": "stream",
     "text": [
      "/home/jovyan/work/2_Semester/Machine Learning/MLProjects/Proposal/ML_algorithms.py:34: UserWarning: Update your `Dense` call to the Keras 2 API: `Dense(1, activation=\"sigmoid\", kernel_initializer=\"glorot_uniform\")`\n",
      "  model.add(layers.Dense(1, activation=\"sigmoid\", init=init))\n"
     ]
    },
    {
     "name": "stdout",
     "output_type": "stream",
     "text": [
      "The initialization used is: glorot_uniform\n",
      "The optimizer used is: rmsprop\n",
      "The loss used is: binary_crossentropy\n",
      "Seed: 2\n",
      "-----------------------------------------------------\n",
      "Accuracy 0.85\n",
      "Area under the curve 0.75\n",
      "Precision 0.69\n",
      "Recall 0.57\n",
      "Profit Share 0.48\n"
     ]
    },
    {
     "name": "stderr",
     "output_type": "stream",
     "text": [
      "/home/jovyan/work/2_Semester/Machine Learning/MLProjects/Proposal/ML_algorithms.py:34: UserWarning: Update your `Dense` call to the Keras 2 API: `Dense(1, activation=\"sigmoid\", kernel_initializer=\"glorot_uniform\")`\n",
      "  model.add(layers.Dense(1, activation=\"sigmoid\", init=init))\n"
     ]
    },
    {
     "name": "stdout",
     "output_type": "stream",
     "text": [
      "The initialization used is: glorot_uniform\n",
      "The optimizer used is: rmsprop\n",
      "The loss used is: binary_crossentropy\n",
      "Seed: 3\n",
      "-----------------------------------------------------\n",
      "Accuracy 0.88\n",
      "Area under the curve 0.79\n",
      "Precision 0.65\n",
      "Recall 0.65\n",
      "Profit Share 0.52\n"
     ]
    },
    {
     "name": "stderr",
     "output_type": "stream",
     "text": [
      "/home/jovyan/work/2_Semester/Machine Learning/MLProjects/Proposal/ML_algorithms.py:34: UserWarning: Update your `Dense` call to the Keras 2 API: `Dense(1, activation=\"sigmoid\", kernel_initializer=\"glorot_uniform\")`\n",
      "  model.add(layers.Dense(1, activation=\"sigmoid\", init=init))\n"
     ]
    },
    {
     "name": "stdout",
     "output_type": "stream",
     "text": [
      "The initialization used is: glorot_uniform\n",
      "The optimizer used is: rmsprop\n",
      "The loss used is: binary_crossentropy\n",
      "Seed: 4\n",
      "-----------------------------------------------------\n",
      "Accuracy 0.88\n",
      "Area under the curve 0.79\n",
      "Precision 0.70\n",
      "Recall 0.65\n",
      "Profit Share 0.55\n"
     ]
    },
    {
     "name": "stderr",
     "output_type": "stream",
     "text": [
      "/home/jovyan/work/2_Semester/Machine Learning/MLProjects/Proposal/ML_algorithms.py:34: UserWarning: Update your `Dense` call to the Keras 2 API: `Dense(1, activation=\"sigmoid\", kernel_initializer=\"glorot_uniform\")`\n",
      "  model.add(layers.Dense(1, activation=\"sigmoid\", init=init))\n"
     ]
    },
    {
     "name": "stdout",
     "output_type": "stream",
     "text": [
      "The initialization used is: glorot_uniform\n",
      "The optimizer used is: rmsprop\n",
      "The loss used is: mean_squared_error\n",
      "Seed: 0\n",
      "-----------------------------------------------------\n",
      "Accuracy 0.89\n",
      "Area under the curve 0.82\n",
      "Precision 0.59\n",
      "Recall 0.72\n",
      "Profit Share 0.53\n"
     ]
    },
    {
     "name": "stderr",
     "output_type": "stream",
     "text": [
      "/home/jovyan/work/2_Semester/Machine Learning/MLProjects/Proposal/ML_algorithms.py:34: UserWarning: Update your `Dense` call to the Keras 2 API: `Dense(1, activation=\"sigmoid\", kernel_initializer=\"glorot_uniform\")`\n",
      "  model.add(layers.Dense(1, activation=\"sigmoid\", init=init))\n"
     ]
    },
    {
     "name": "stdout",
     "output_type": "stream",
     "text": [
      "The initialization used is: glorot_uniform\n",
      "The optimizer used is: rmsprop\n",
      "The loss used is: mean_squared_error\n",
      "Seed: 1\n",
      "-----------------------------------------------------\n",
      "Accuracy 0.87\n",
      "Area under the curve 0.79\n",
      "Precision 0.57\n",
      "Recall 0.67\n",
      "Profit Share 0.48\n"
     ]
    },
    {
     "name": "stderr",
     "output_type": "stream",
     "text": [
      "/home/jovyan/work/2_Semester/Machine Learning/MLProjects/Proposal/ML_algorithms.py:34: UserWarning: Update your `Dense` call to the Keras 2 API: `Dense(1, activation=\"sigmoid\", kernel_initializer=\"glorot_uniform\")`\n",
      "  model.add(layers.Dense(1, activation=\"sigmoid\", init=init))\n"
     ]
    },
    {
     "name": "stdout",
     "output_type": "stream",
     "text": [
      "The initialization used is: glorot_uniform\n",
      "The optimizer used is: rmsprop\n",
      "The loss used is: mean_squared_error\n",
      "Seed: 2\n",
      "-----------------------------------------------------\n",
      "Accuracy 0.88\n",
      "Area under the curve 0.81\n",
      "Precision 0.60\n",
      "Recall 0.70\n",
      "Profit Share 0.52\n"
     ]
    },
    {
     "name": "stderr",
     "output_type": "stream",
     "text": [
      "/home/jovyan/work/2_Semester/Machine Learning/MLProjects/Proposal/ML_algorithms.py:34: UserWarning: Update your `Dense` call to the Keras 2 API: `Dense(1, activation=\"sigmoid\", kernel_initializer=\"glorot_uniform\")`\n",
      "  model.add(layers.Dense(1, activation=\"sigmoid\", init=init))\n"
     ]
    },
    {
     "name": "stdout",
     "output_type": "stream",
     "text": [
      "The initialization used is: glorot_uniform\n",
      "The optimizer used is: rmsprop\n",
      "The loss used is: mean_squared_error\n",
      "Seed: 3\n",
      "-----------------------------------------------------\n",
      "Accuracy 0.88\n",
      "Area under the curve 0.80\n",
      "Precision 0.59\n",
      "Recall 0.68\n",
      "Profit Share 0.50\n"
     ]
    },
    {
     "name": "stderr",
     "output_type": "stream",
     "text": [
      "/home/jovyan/work/2_Semester/Machine Learning/MLProjects/Proposal/ML_algorithms.py:34: UserWarning: Update your `Dense` call to the Keras 2 API: `Dense(1, activation=\"sigmoid\", kernel_initializer=\"glorot_uniform\")`\n",
      "  model.add(layers.Dense(1, activation=\"sigmoid\", init=init))\n"
     ]
    },
    {
     "name": "stdout",
     "output_type": "stream",
     "text": [
      "The initialization used is: glorot_uniform\n",
      "The optimizer used is: rmsprop\n",
      "The loss used is: mean_squared_error\n",
      "Seed: 4\n",
      "-----------------------------------------------------\n",
      "Accuracy 0.86\n",
      "Area under the curve 0.77\n",
      "Precision 0.70\n",
      "Recall 0.60\n",
      "Profit Share 0.51\n"
     ]
    },
    {
     "name": "stderr",
     "output_type": "stream",
     "text": [
      "/home/jovyan/work/2_Semester/Machine Learning/MLProjects/Proposal/ML_algorithms.py:34: UserWarning: Update your `Dense` call to the Keras 2 API: `Dense(1, activation=\"sigmoid\", kernel_initializer=\"he_normal\")`\n",
      "  model.add(layers.Dense(1, activation=\"sigmoid\", init=init))\n"
     ]
    },
    {
     "name": "stdout",
     "output_type": "stream",
     "text": [
      "The initialization used is: he_normal\n",
      "The optimizer used is: adam\n",
      "The loss used is: binary_crossentropy\n",
      "Seed: 0\n",
      "-----------------------------------------------------\n",
      "Accuracy 0.89\n",
      "Area under the curve 0.81\n",
      "Precision 0.62\n",
      "Recall 0.70\n",
      "Profit Share 0.55\n"
     ]
    },
    {
     "name": "stderr",
     "output_type": "stream",
     "text": [
      "/home/jovyan/work/2_Semester/Machine Learning/MLProjects/Proposal/ML_algorithms.py:34: UserWarning: Update your `Dense` call to the Keras 2 API: `Dense(1, activation=\"sigmoid\", kernel_initializer=\"he_normal\")`\n",
      "  model.add(layers.Dense(1, activation=\"sigmoid\", init=init))\n"
     ]
    },
    {
     "name": "stdout",
     "output_type": "stream",
     "text": [
      "The initialization used is: he_normal\n",
      "The optimizer used is: adam\n",
      "The loss used is: binary_crossentropy\n",
      "Seed: 1\n",
      "-----------------------------------------------------\n",
      "Accuracy 0.88\n",
      "Area under the curve 0.80\n",
      "Precision 0.66\n",
      "Recall 0.68\n",
      "Profit Share 0.55\n"
     ]
    },
    {
     "name": "stderr",
     "output_type": "stream",
     "text": [
      "/home/jovyan/work/2_Semester/Machine Learning/MLProjects/Proposal/ML_algorithms.py:34: UserWarning: Update your `Dense` call to the Keras 2 API: `Dense(1, activation=\"sigmoid\", kernel_initializer=\"he_normal\")`\n",
      "  model.add(layers.Dense(1, activation=\"sigmoid\", init=init))\n"
     ]
    },
    {
     "name": "stdout",
     "output_type": "stream",
     "text": [
      "The initialization used is: he_normal\n",
      "The optimizer used is: adam\n",
      "The loss used is: binary_crossentropy\n",
      "Seed: 2\n",
      "-----------------------------------------------------\n",
      "Accuracy 0.87\n",
      "Area under the curve 0.78\n",
      "Precision 0.66\n",
      "Recall 0.63\n",
      "Profit Share 0.51\n"
     ]
    },
    {
     "name": "stderr",
     "output_type": "stream",
     "text": [
      "/home/jovyan/work/2_Semester/Machine Learning/MLProjects/Proposal/ML_algorithms.py:34: UserWarning: Update your `Dense` call to the Keras 2 API: `Dense(1, activation=\"sigmoid\", kernel_initializer=\"he_normal\")`\n",
      "  model.add(layers.Dense(1, activation=\"sigmoid\", init=init))\n"
     ]
    },
    {
     "name": "stdout",
     "output_type": "stream",
     "text": [
      "The initialization used is: he_normal\n",
      "The optimizer used is: adam\n",
      "The loss used is: binary_crossentropy\n",
      "Seed: 3\n",
      "-----------------------------------------------------\n",
      "Accuracy 0.87\n",
      "Area under the curve 0.77\n",
      "Precision 0.64\n",
      "Recall 0.62\n",
      "Profit Share 0.49\n"
     ]
    },
    {
     "name": "stderr",
     "output_type": "stream",
     "text": [
      "/home/jovyan/work/2_Semester/Machine Learning/MLProjects/Proposal/ML_algorithms.py:34: UserWarning: Update your `Dense` call to the Keras 2 API: `Dense(1, activation=\"sigmoid\", kernel_initializer=\"he_normal\")`\n",
      "  model.add(layers.Dense(1, activation=\"sigmoid\", init=init))\n"
     ]
    },
    {
     "name": "stdout",
     "output_type": "stream",
     "text": [
      "The initialization used is: he_normal\n",
      "The optimizer used is: adam\n",
      "The loss used is: binary_crossentropy\n",
      "Seed: 4\n",
      "-----------------------------------------------------\n",
      "Accuracy 0.86\n",
      "Area under the curve 0.76\n",
      "Precision 0.65\n",
      "Recall 0.60\n",
      "Profit Share 0.48\n"
     ]
    },
    {
     "name": "stderr",
     "output_type": "stream",
     "text": [
      "/home/jovyan/work/2_Semester/Machine Learning/MLProjects/Proposal/ML_algorithms.py:34: UserWarning: Update your `Dense` call to the Keras 2 API: `Dense(1, activation=\"sigmoid\", kernel_initializer=\"he_normal\")`\n",
      "  model.add(layers.Dense(1, activation=\"sigmoid\", init=init))\n"
     ]
    },
    {
     "name": "stdout",
     "output_type": "stream",
     "text": [
      "The initialization used is: he_normal\n",
      "The optimizer used is: adam\n",
      "The loss used is: mean_squared_error\n",
      "Seed: 0\n",
      "-----------------------------------------------------\n",
      "Accuracy 0.88\n",
      "Area under the curve 0.79\n",
      "Precision 0.69\n",
      "Recall 0.65\n",
      "Profit Share 0.54\n"
     ]
    },
    {
     "name": "stderr",
     "output_type": "stream",
     "text": [
      "/home/jovyan/work/2_Semester/Machine Learning/MLProjects/Proposal/ML_algorithms.py:34: UserWarning: Update your `Dense` call to the Keras 2 API: `Dense(1, activation=\"sigmoid\", kernel_initializer=\"he_normal\")`\n",
      "  model.add(layers.Dense(1, activation=\"sigmoid\", init=init))\n"
     ]
    },
    {
     "name": "stdout",
     "output_type": "stream",
     "text": [
      "The initialization used is: he_normal\n",
      "The optimizer used is: adam\n",
      "The loss used is: mean_squared_error\n",
      "Seed: 1\n",
      "-----------------------------------------------------\n",
      "Accuracy 0.88\n",
      "Area under the curve 0.79\n",
      "Precision 0.61\n",
      "Recall 0.66\n",
      "Profit Share 0.51\n"
     ]
    },
    {
     "name": "stderr",
     "output_type": "stream",
     "text": [
      "/home/jovyan/work/2_Semester/Machine Learning/MLProjects/Proposal/ML_algorithms.py:34: UserWarning: Update your `Dense` call to the Keras 2 API: `Dense(1, activation=\"sigmoid\", kernel_initializer=\"he_normal\")`\n",
      "  model.add(layers.Dense(1, activation=\"sigmoid\", init=init))\n"
     ]
    },
    {
     "name": "stdout",
     "output_type": "stream",
     "text": [
      "The initialization used is: he_normal\n",
      "The optimizer used is: adam\n",
      "The loss used is: mean_squared_error\n",
      "Seed: 2\n",
      "-----------------------------------------------------\n",
      "Accuracy 0.89\n",
      "Area under the curve 0.81\n",
      "Precision 0.69\n",
      "Recall 0.70\n",
      "Profit Share 0.58\n"
     ]
    },
    {
     "name": "stderr",
     "output_type": "stream",
     "text": [
      "/home/jovyan/work/2_Semester/Machine Learning/MLProjects/Proposal/ML_algorithms.py:34: UserWarning: Update your `Dense` call to the Keras 2 API: `Dense(1, activation=\"sigmoid\", kernel_initializer=\"he_normal\")`\n",
      "  model.add(layers.Dense(1, activation=\"sigmoid\", init=init))\n"
     ]
    },
    {
     "name": "stdout",
     "output_type": "stream",
     "text": [
      "The initialization used is: he_normal\n",
      "The optimizer used is: adam\n",
      "The loss used is: mean_squared_error\n",
      "Seed: 3\n",
      "-----------------------------------------------------\n",
      "Accuracy 0.86\n",
      "Area under the curve 0.76\n",
      "Precision 0.68\n",
      "Recall 0.59\n",
      "Profit Share 0.49\n"
     ]
    },
    {
     "name": "stderr",
     "output_type": "stream",
     "text": [
      "/home/jovyan/work/2_Semester/Machine Learning/MLProjects/Proposal/ML_algorithms.py:34: UserWarning: Update your `Dense` call to the Keras 2 API: `Dense(1, activation=\"sigmoid\", kernel_initializer=\"he_normal\")`\n",
      "  model.add(layers.Dense(1, activation=\"sigmoid\", init=init))\n"
     ]
    },
    {
     "name": "stdout",
     "output_type": "stream",
     "text": [
      "The initialization used is: he_normal\n",
      "The optimizer used is: adam\n",
      "The loss used is: mean_squared_error\n",
      "Seed: 4\n",
      "-----------------------------------------------------\n",
      "Accuracy 0.86\n",
      "Area under the curve 0.76\n",
      "Precision 0.69\n",
      "Recall 0.60\n",
      "Profit Share 0.50\n"
     ]
    },
    {
     "name": "stderr",
     "output_type": "stream",
     "text": [
      "/home/jovyan/work/2_Semester/Machine Learning/MLProjects/Proposal/ML_algorithms.py:34: UserWarning: Update your `Dense` call to the Keras 2 API: `Dense(1, activation=\"sigmoid\", kernel_initializer=\"he_normal\")`\n",
      "  model.add(layers.Dense(1, activation=\"sigmoid\", init=init))\n"
     ]
    },
    {
     "name": "stdout",
     "output_type": "stream",
     "text": [
      "The initialization used is: he_normal\n",
      "The optimizer used is: rmsprop\n",
      "The loss used is: binary_crossentropy\n",
      "Seed: 0\n",
      "-----------------------------------------------------\n",
      "Accuracy 0.88\n",
      "Area under the curve 0.80\n",
      "Precision 0.65\n",
      "Recall 0.68\n",
      "Profit Share 0.54\n"
     ]
    },
    {
     "name": "stderr",
     "output_type": "stream",
     "text": [
      "/home/jovyan/work/2_Semester/Machine Learning/MLProjects/Proposal/ML_algorithms.py:34: UserWarning: Update your `Dense` call to the Keras 2 API: `Dense(1, activation=\"sigmoid\", kernel_initializer=\"he_normal\")`\n",
      "  model.add(layers.Dense(1, activation=\"sigmoid\", init=init))\n"
     ]
    },
    {
     "name": "stdout",
     "output_type": "stream",
     "text": [
      "The initialization used is: he_normal\n",
      "The optimizer used is: rmsprop\n",
      "The loss used is: binary_crossentropy\n",
      "Seed: 1\n",
      "-----------------------------------------------------\n",
      "Accuracy 0.88\n",
      "Area under the curve 0.79\n",
      "Precision 0.66\n",
      "Recall 0.66\n",
      "Profit Share 0.54\n"
     ]
    },
    {
     "name": "stderr",
     "output_type": "stream",
     "text": [
      "/home/jovyan/work/2_Semester/Machine Learning/MLProjects/Proposal/ML_algorithms.py:34: UserWarning: Update your `Dense` call to the Keras 2 API: `Dense(1, activation=\"sigmoid\", kernel_initializer=\"he_normal\")`\n",
      "  model.add(layers.Dense(1, activation=\"sigmoid\", init=init))\n"
     ]
    },
    {
     "name": "stdout",
     "output_type": "stream",
     "text": [
      "The initialization used is: he_normal\n",
      "The optimizer used is: rmsprop\n",
      "The loss used is: binary_crossentropy\n",
      "Seed: 2\n",
      "-----------------------------------------------------\n",
      "Accuracy 0.88\n",
      "Area under the curve 0.81\n",
      "Precision 0.60\n",
      "Recall 0.71\n",
      "Profit Share 0.53\n"
     ]
    },
    {
     "name": "stderr",
     "output_type": "stream",
     "text": [
      "/home/jovyan/work/2_Semester/Machine Learning/MLProjects/Proposal/ML_algorithms.py:34: UserWarning: Update your `Dense` call to the Keras 2 API: `Dense(1, activation=\"sigmoid\", kernel_initializer=\"he_normal\")`\n",
      "  model.add(layers.Dense(1, activation=\"sigmoid\", init=init))\n"
     ]
    },
    {
     "name": "stdout",
     "output_type": "stream",
     "text": [
      "The initialization used is: he_normal\n",
      "The optimizer used is: rmsprop\n",
      "The loss used is: binary_crossentropy\n",
      "Seed: 3\n",
      "-----------------------------------------------------\n",
      "Accuracy 0.85\n",
      "Area under the curve 0.75\n",
      "Precision 0.72\n",
      "Recall 0.56\n",
      "Profit Share 0.48\n"
     ]
    },
    {
     "name": "stderr",
     "output_type": "stream",
     "text": [
      "/home/jovyan/work/2_Semester/Machine Learning/MLProjects/Proposal/ML_algorithms.py:34: UserWarning: Update your `Dense` call to the Keras 2 API: `Dense(1, activation=\"sigmoid\", kernel_initializer=\"he_normal\")`\n",
      "  model.add(layers.Dense(1, activation=\"sigmoid\", init=init))\n"
     ]
    },
    {
     "name": "stdout",
     "output_type": "stream",
     "text": [
      "The initialization used is: he_normal\n",
      "The optimizer used is: rmsprop\n",
      "The loss used is: binary_crossentropy\n",
      "Seed: 4\n",
      "-----------------------------------------------------\n",
      "Accuracy 0.88\n",
      "Area under the curve 0.79\n",
      "Precision 0.68\n",
      "Recall 0.64\n",
      "Profit Share 0.53\n"
     ]
    },
    {
     "name": "stderr",
     "output_type": "stream",
     "text": [
      "/home/jovyan/work/2_Semester/Machine Learning/MLProjects/Proposal/ML_algorithms.py:34: UserWarning: Update your `Dense` call to the Keras 2 API: `Dense(1, activation=\"sigmoid\", kernel_initializer=\"he_normal\")`\n",
      "  model.add(layers.Dense(1, activation=\"sigmoid\", init=init))\n"
     ]
    },
    {
     "name": "stdout",
     "output_type": "stream",
     "text": [
      "The initialization used is: he_normal\n",
      "The optimizer used is: rmsprop\n",
      "The loss used is: mean_squared_error\n",
      "Seed: 0\n",
      "-----------------------------------------------------\n",
      "Accuracy 0.90\n",
      "Area under the curve 0.83\n",
      "Precision 0.62\n",
      "Recall 0.75\n",
      "Profit Share 0.58\n"
     ]
    },
    {
     "name": "stderr",
     "output_type": "stream",
     "text": [
      "/home/jovyan/work/2_Semester/Machine Learning/MLProjects/Proposal/ML_algorithms.py:34: UserWarning: Update your `Dense` call to the Keras 2 API: `Dense(1, activation=\"sigmoid\", kernel_initializer=\"he_normal\")`\n",
      "  model.add(layers.Dense(1, activation=\"sigmoid\", init=init))\n"
     ]
    },
    {
     "name": "stdout",
     "output_type": "stream",
     "text": [
      "The initialization used is: he_normal\n",
      "The optimizer used is: rmsprop\n",
      "The loss used is: mean_squared_error\n",
      "Seed: 1\n",
      "-----------------------------------------------------\n",
      "Accuracy 0.88\n",
      "Area under the curve 0.80\n",
      "Precision 0.59\n",
      "Recall 0.69\n",
      "Profit Share 0.51\n"
     ]
    },
    {
     "name": "stderr",
     "output_type": "stream",
     "text": [
      "/home/jovyan/work/2_Semester/Machine Learning/MLProjects/Proposal/ML_algorithms.py:34: UserWarning: Update your `Dense` call to the Keras 2 API: `Dense(1, activation=\"sigmoid\", kernel_initializer=\"he_normal\")`\n",
      "  model.add(layers.Dense(1, activation=\"sigmoid\", init=init))\n"
     ]
    },
    {
     "name": "stdout",
     "output_type": "stream",
     "text": [
      "The initialization used is: he_normal\n",
      "The optimizer used is: rmsprop\n",
      "The loss used is: mean_squared_error\n",
      "Seed: 2\n",
      "-----------------------------------------------------\n",
      "Accuracy 0.86\n",
      "Area under the curve 0.76\n",
      "Precision 0.72\n",
      "Recall 0.59\n",
      "Profit Share 0.51\n"
     ]
    },
    {
     "name": "stderr",
     "output_type": "stream",
     "text": [
      "/home/jovyan/work/2_Semester/Machine Learning/MLProjects/Proposal/ML_algorithms.py:34: UserWarning: Update your `Dense` call to the Keras 2 API: `Dense(1, activation=\"sigmoid\", kernel_initializer=\"he_normal\")`\n",
      "  model.add(layers.Dense(1, activation=\"sigmoid\", init=init))\n"
     ]
    },
    {
     "name": "stdout",
     "output_type": "stream",
     "text": [
      "The initialization used is: he_normal\n",
      "The optimizer used is: rmsprop\n",
      "The loss used is: mean_squared_error\n",
      "Seed: 3\n",
      "-----------------------------------------------------\n",
      "Accuracy 0.88\n",
      "Area under the curve 0.80\n",
      "Precision 0.60\n",
      "Recall 0.68\n",
      "Profit Share 0.51\n"
     ]
    },
    {
     "name": "stderr",
     "output_type": "stream",
     "text": [
      "/home/jovyan/work/2_Semester/Machine Learning/MLProjects/Proposal/ML_algorithms.py:34: UserWarning: Update your `Dense` call to the Keras 2 API: `Dense(1, activation=\"sigmoid\", kernel_initializer=\"he_normal\")`\n",
      "  model.add(layers.Dense(1, activation=\"sigmoid\", init=init))\n"
     ]
    },
    {
     "name": "stdout",
     "output_type": "stream",
     "text": [
      "The initialization used is: he_normal\n",
      "The optimizer used is: rmsprop\n",
      "The loss used is: mean_squared_error\n",
      "Seed: 4\n",
      "-----------------------------------------------------\n",
      "Accuracy 0.88\n",
      "Area under the curve 0.79\n",
      "Precision 0.62\n",
      "Recall 0.67\n",
      "Profit Share 0.52\n"
     ]
    },
    {
     "name": "stderr",
     "output_type": "stream",
     "text": [
      "/home/jovyan/work/2_Semester/Machine Learning/MLProjects/Proposal/ML_algorithms.py:34: UserWarning: Update your `Dense` call to the Keras 2 API: `Dense(1, activation=\"sigmoid\", kernel_initializer=\"he_uniform\")`\n",
      "  model.add(layers.Dense(1, activation=\"sigmoid\", init=init))\n"
     ]
    },
    {
     "name": "stdout",
     "output_type": "stream",
     "text": [
      "The initialization used is: he_uniform\n",
      "The optimizer used is: adam\n",
      "The loss used is: binary_crossentropy\n",
      "Seed: 0\n",
      "-----------------------------------------------------\n",
      "Accuracy 0.89\n",
      "Area under the curve 0.81\n",
      "Precision 0.70\n",
      "Recall 0.69\n",
      "Profit Share 0.58\n"
     ]
    },
    {
     "name": "stderr",
     "output_type": "stream",
     "text": [
      "/home/jovyan/work/2_Semester/Machine Learning/MLProjects/Proposal/ML_algorithms.py:34: UserWarning: Update your `Dense` call to the Keras 2 API: `Dense(1, activation=\"sigmoid\", kernel_initializer=\"he_uniform\")`\n",
      "  model.add(layers.Dense(1, activation=\"sigmoid\", init=init))\n"
     ]
    },
    {
     "name": "stdout",
     "output_type": "stream",
     "text": [
      "The initialization used is: he_uniform\n",
      "The optimizer used is: adam\n",
      "The loss used is: binary_crossentropy\n",
      "Seed: 1\n",
      "-----------------------------------------------------\n",
      "Accuracy 0.87\n",
      "Area under the curve 0.78\n",
      "Precision 0.64\n",
      "Recall 0.65\n",
      "Profit Share 0.51\n"
     ]
    },
    {
     "name": "stderr",
     "output_type": "stream",
     "text": [
      "/home/jovyan/work/2_Semester/Machine Learning/MLProjects/Proposal/ML_algorithms.py:34: UserWarning: Update your `Dense` call to the Keras 2 API: `Dense(1, activation=\"sigmoid\", kernel_initializer=\"he_uniform\")`\n",
      "  model.add(layers.Dense(1, activation=\"sigmoid\", init=init))\n"
     ]
    },
    {
     "name": "stdout",
     "output_type": "stream",
     "text": [
      "The initialization used is: he_uniform\n",
      "The optimizer used is: adam\n",
      "The loss used is: binary_crossentropy\n",
      "Seed: 2\n",
      "-----------------------------------------------------\n",
      "Accuracy 0.85\n",
      "Area under the curve 0.74\n",
      "Precision 0.74\n",
      "Recall 0.55\n",
      "Profit Share 0.48\n"
     ]
    },
    {
     "name": "stderr",
     "output_type": "stream",
     "text": [
      "/home/jovyan/work/2_Semester/Machine Learning/MLProjects/Proposal/ML_algorithms.py:34: UserWarning: Update your `Dense` call to the Keras 2 API: `Dense(1, activation=\"sigmoid\", kernel_initializer=\"he_uniform\")`\n",
      "  model.add(layers.Dense(1, activation=\"sigmoid\", init=init))\n"
     ]
    },
    {
     "name": "stdout",
     "output_type": "stream",
     "text": [
      "The initialization used is: he_uniform\n",
      "The optimizer used is: adam\n",
      "The loss used is: binary_crossentropy\n",
      "Seed: 3\n",
      "-----------------------------------------------------\n",
      "Accuracy 0.88\n",
      "Area under the curve 0.79\n",
      "Precision 0.68\n",
      "Recall 0.64\n",
      "Profit Share 0.53\n"
     ]
    },
    {
     "name": "stderr",
     "output_type": "stream",
     "text": [
      "/home/jovyan/work/2_Semester/Machine Learning/MLProjects/Proposal/ML_algorithms.py:34: UserWarning: Update your `Dense` call to the Keras 2 API: `Dense(1, activation=\"sigmoid\", kernel_initializer=\"he_uniform\")`\n",
      "  model.add(layers.Dense(1, activation=\"sigmoid\", init=init))\n"
     ]
    },
    {
     "name": "stdout",
     "output_type": "stream",
     "text": [
      "The initialization used is: he_uniform\n",
      "The optimizer used is: adam\n",
      "The loss used is: binary_crossentropy\n",
      "Seed: 4\n",
      "-----------------------------------------------------\n",
      "Accuracy 0.88\n",
      "Area under the curve 0.80\n",
      "Precision 0.65\n",
      "Recall 0.68\n",
      "Profit Share 0.54\n"
     ]
    },
    {
     "name": "stderr",
     "output_type": "stream",
     "text": [
      "/home/jovyan/work/2_Semester/Machine Learning/MLProjects/Proposal/ML_algorithms.py:34: UserWarning: Update your `Dense` call to the Keras 2 API: `Dense(1, activation=\"sigmoid\", kernel_initializer=\"he_uniform\")`\n",
      "  model.add(layers.Dense(1, activation=\"sigmoid\", init=init))\n"
     ]
    },
    {
     "name": "stdout",
     "output_type": "stream",
     "text": [
      "The initialization used is: he_uniform\n",
      "The optimizer used is: adam\n",
      "The loss used is: mean_squared_error\n",
      "Seed: 0\n",
      "-----------------------------------------------------\n",
      "Accuracy 0.88\n",
      "Area under the curve 0.80\n",
      "Precision 0.65\n",
      "Recall 0.68\n",
      "Profit Share 0.55\n"
     ]
    },
    {
     "name": "stderr",
     "output_type": "stream",
     "text": [
      "/home/jovyan/work/2_Semester/Machine Learning/MLProjects/Proposal/ML_algorithms.py:34: UserWarning: Update your `Dense` call to the Keras 2 API: `Dense(1, activation=\"sigmoid\", kernel_initializer=\"he_uniform\")`\n",
      "  model.add(layers.Dense(1, activation=\"sigmoid\", init=init))\n"
     ]
    },
    {
     "name": "stdout",
     "output_type": "stream",
     "text": [
      "The initialization used is: he_uniform\n",
      "The optimizer used is: adam\n",
      "The loss used is: mean_squared_error\n",
      "Seed: 1\n",
      "-----------------------------------------------------\n",
      "Accuracy 0.87\n",
      "Area under the curve 0.79\n",
      "Precision 0.56\n",
      "Recall 0.67\n",
      "Profit Share 0.48\n"
     ]
    },
    {
     "name": "stderr",
     "output_type": "stream",
     "text": [
      "/home/jovyan/work/2_Semester/Machine Learning/MLProjects/Proposal/ML_algorithms.py:34: UserWarning: Update your `Dense` call to the Keras 2 API: `Dense(1, activation=\"sigmoid\", kernel_initializer=\"he_uniform\")`\n",
      "  model.add(layers.Dense(1, activation=\"sigmoid\", init=init))\n"
     ]
    },
    {
     "name": "stdout",
     "output_type": "stream",
     "text": [
      "The initialization used is: he_uniform\n",
      "The optimizer used is: adam\n",
      "The loss used is: mean_squared_error\n",
      "Seed: 2\n",
      "-----------------------------------------------------\n",
      "Accuracy 0.88\n",
      "Area under the curve 0.81\n",
      "Precision 0.56\n",
      "Recall 0.71\n",
      "Profit Share 0.51\n"
     ]
    },
    {
     "name": "stderr",
     "output_type": "stream",
     "text": [
      "/home/jovyan/work/2_Semester/Machine Learning/MLProjects/Proposal/ML_algorithms.py:34: UserWarning: Update your `Dense` call to the Keras 2 API: `Dense(1, activation=\"sigmoid\", kernel_initializer=\"he_uniform\")`\n",
      "  model.add(layers.Dense(1, activation=\"sigmoid\", init=init))\n"
     ]
    },
    {
     "name": "stdout",
     "output_type": "stream",
     "text": [
      "The initialization used is: he_uniform\n",
      "The optimizer used is: adam\n",
      "The loss used is: mean_squared_error\n",
      "Seed: 3\n",
      "-----------------------------------------------------\n",
      "Accuracy 0.87\n",
      "Area under the curve 0.79\n",
      "Precision 0.59\n",
      "Recall 0.66\n",
      "Profit Share 0.49\n"
     ]
    },
    {
     "name": "stderr",
     "output_type": "stream",
     "text": [
      "/home/jovyan/work/2_Semester/Machine Learning/MLProjects/Proposal/ML_algorithms.py:34: UserWarning: Update your `Dense` call to the Keras 2 API: `Dense(1, activation=\"sigmoid\", kernel_initializer=\"he_uniform\")`\n",
      "  model.add(layers.Dense(1, activation=\"sigmoid\", init=init))\n"
     ]
    },
    {
     "name": "stdout",
     "output_type": "stream",
     "text": [
      "The initialization used is: he_uniform\n",
      "The optimizer used is: adam\n",
      "The loss used is: mean_squared_error\n",
      "Seed: 4\n",
      "-----------------------------------------------------\n",
      "Accuracy 0.87\n",
      "Area under the curve 0.77\n",
      "Precision 0.70\n",
      "Recall 0.62\n",
      "Profit Share 0.52\n"
     ]
    },
    {
     "name": "stderr",
     "output_type": "stream",
     "text": [
      "/home/jovyan/work/2_Semester/Machine Learning/MLProjects/Proposal/ML_algorithms.py:34: UserWarning: Update your `Dense` call to the Keras 2 API: `Dense(1, activation=\"sigmoid\", kernel_initializer=\"he_uniform\")`\n",
      "  model.add(layers.Dense(1, activation=\"sigmoid\", init=init))\n"
     ]
    },
    {
     "name": "stdout",
     "output_type": "stream",
     "text": [
      "The initialization used is: he_uniform\n",
      "The optimizer used is: rmsprop\n",
      "The loss used is: binary_crossentropy\n",
      "Seed: 0\n",
      "-----------------------------------------------------\n",
      "Accuracy 0.89\n",
      "Area under the curve 0.81\n",
      "Precision 0.70\n",
      "Recall 0.69\n",
      "Profit Share 0.58\n"
     ]
    },
    {
     "name": "stderr",
     "output_type": "stream",
     "text": [
      "/home/jovyan/work/2_Semester/Machine Learning/MLProjects/Proposal/ML_algorithms.py:34: UserWarning: Update your `Dense` call to the Keras 2 API: `Dense(1, activation=\"sigmoid\", kernel_initializer=\"he_uniform\")`\n",
      "  model.add(layers.Dense(1, activation=\"sigmoid\", init=init))\n"
     ]
    },
    {
     "name": "stdout",
     "output_type": "stream",
     "text": [
      "The initialization used is: he_uniform\n",
      "The optimizer used is: rmsprop\n",
      "The loss used is: binary_crossentropy\n",
      "Seed: 1\n",
      "-----------------------------------------------------\n",
      "Accuracy 0.89\n",
      "Area under the curve 0.81\n",
      "Precision 0.64\n",
      "Recall 0.70\n",
      "Profit Share 0.55\n"
     ]
    },
    {
     "name": "stderr",
     "output_type": "stream",
     "text": [
      "/home/jovyan/work/2_Semester/Machine Learning/MLProjects/Proposal/ML_algorithms.py:34: UserWarning: Update your `Dense` call to the Keras 2 API: `Dense(1, activation=\"sigmoid\", kernel_initializer=\"he_uniform\")`\n",
      "  model.add(layers.Dense(1, activation=\"sigmoid\", init=init))\n"
     ]
    },
    {
     "name": "stdout",
     "output_type": "stream",
     "text": [
      "The initialization used is: he_uniform\n",
      "The optimizer used is: rmsprop\n",
      "The loss used is: binary_crossentropy\n",
      "Seed: 2\n",
      "-----------------------------------------------------\n",
      "Accuracy 0.87\n",
      "Area under the curve 0.79\n",
      "Precision 0.56\n",
      "Recall 0.67\n",
      "Profit Share 0.48\n"
     ]
    },
    {
     "name": "stderr",
     "output_type": "stream",
     "text": [
      "/home/jovyan/work/2_Semester/Machine Learning/MLProjects/Proposal/ML_algorithms.py:34: UserWarning: Update your `Dense` call to the Keras 2 API: `Dense(1, activation=\"sigmoid\", kernel_initializer=\"he_uniform\")`\n",
      "  model.add(layers.Dense(1, activation=\"sigmoid\", init=init))\n"
     ]
    },
    {
     "name": "stdout",
     "output_type": "stream",
     "text": [
      "The initialization used is: he_uniform\n",
      "The optimizer used is: rmsprop\n",
      "The loss used is: binary_crossentropy\n",
      "Seed: 3\n",
      "-----------------------------------------------------\n",
      "Accuracy 0.88\n",
      "Area under the curve 0.79\n",
      "Precision 0.65\n",
      "Recall 0.66\n",
      "Profit Share 0.53\n"
     ]
    },
    {
     "name": "stderr",
     "output_type": "stream",
     "text": [
      "/home/jovyan/work/2_Semester/Machine Learning/MLProjects/Proposal/ML_algorithms.py:34: UserWarning: Update your `Dense` call to the Keras 2 API: `Dense(1, activation=\"sigmoid\", kernel_initializer=\"he_uniform\")`\n",
      "  model.add(layers.Dense(1, activation=\"sigmoid\", init=init))\n"
     ]
    },
    {
     "name": "stdout",
     "output_type": "stream",
     "text": [
      "The initialization used is: he_uniform\n",
      "The optimizer used is: rmsprop\n",
      "The loss used is: binary_crossentropy\n",
      "Seed: 4\n",
      "-----------------------------------------------------\n",
      "Accuracy 0.88\n",
      "Area under the curve 0.79\n",
      "Precision 0.69\n",
      "Recall 0.65\n",
      "Profit Share 0.54\n"
     ]
    },
    {
     "name": "stderr",
     "output_type": "stream",
     "text": [
      "/home/jovyan/work/2_Semester/Machine Learning/MLProjects/Proposal/ML_algorithms.py:34: UserWarning: Update your `Dense` call to the Keras 2 API: `Dense(1, activation=\"sigmoid\", kernel_initializer=\"he_uniform\")`\n",
      "  model.add(layers.Dense(1, activation=\"sigmoid\", init=init))\n"
     ]
    },
    {
     "name": "stdout",
     "output_type": "stream",
     "text": [
      "The initialization used is: he_uniform\n",
      "The optimizer used is: rmsprop\n",
      "The loss used is: mean_squared_error\n",
      "Seed: 0\n",
      "-----------------------------------------------------\n",
      "Accuracy 0.89\n",
      "Area under the curve 0.83\n",
      "Precision 0.57\n",
      "Recall 0.74\n",
      "Profit Share 0.54\n"
     ]
    },
    {
     "name": "stderr",
     "output_type": "stream",
     "text": [
      "/home/jovyan/work/2_Semester/Machine Learning/MLProjects/Proposal/ML_algorithms.py:34: UserWarning: Update your `Dense` call to the Keras 2 API: `Dense(1, activation=\"sigmoid\", kernel_initializer=\"he_uniform\")`\n",
      "  model.add(layers.Dense(1, activation=\"sigmoid\", init=init))\n"
     ]
    },
    {
     "name": "stdout",
     "output_type": "stream",
     "text": [
      "The initialization used is: he_uniform\n",
      "The optimizer used is: rmsprop\n",
      "The loss used is: mean_squared_error\n",
      "Seed: 1\n",
      "-----------------------------------------------------\n",
      "Accuracy 0.87\n",
      "Area under the curve 0.79\n",
      "Precision 0.56\n",
      "Recall 0.67\n",
      "Profit Share 0.48\n"
     ]
    },
    {
     "name": "stderr",
     "output_type": "stream",
     "text": [
      "/home/jovyan/work/2_Semester/Machine Learning/MLProjects/Proposal/ML_algorithms.py:34: UserWarning: Update your `Dense` call to the Keras 2 API: `Dense(1, activation=\"sigmoid\", kernel_initializer=\"he_uniform\")`\n",
      "  model.add(layers.Dense(1, activation=\"sigmoid\", init=init))\n"
     ]
    },
    {
     "name": "stdout",
     "output_type": "stream",
     "text": [
      "The initialization used is: he_uniform\n",
      "The optimizer used is: rmsprop\n",
      "The loss used is: mean_squared_error\n",
      "Seed: 2\n",
      "-----------------------------------------------------\n",
      "Accuracy 0.88\n",
      "Area under the curve 0.80\n",
      "Precision 0.60\n",
      "Recall 0.68\n",
      "Profit Share 0.51\n"
     ]
    },
    {
     "name": "stderr",
     "output_type": "stream",
     "text": [
      "/home/jovyan/work/2_Semester/Machine Learning/MLProjects/Proposal/ML_algorithms.py:34: UserWarning: Update your `Dense` call to the Keras 2 API: `Dense(1, activation=\"sigmoid\", kernel_initializer=\"he_uniform\")`\n",
      "  model.add(layers.Dense(1, activation=\"sigmoid\", init=init))\n"
     ]
    },
    {
     "name": "stdout",
     "output_type": "stream",
     "text": [
      "The initialization used is: he_uniform\n",
      "The optimizer used is: rmsprop\n",
      "The loss used is: mean_squared_error\n",
      "Seed: 3\n",
      "-----------------------------------------------------\n",
      "Accuracy 0.88\n",
      "Area under the curve 0.80\n",
      "Precision 0.59\n",
      "Recall 0.68\n",
      "Profit Share 0.50\n"
     ]
    },
    {
     "name": "stderr",
     "output_type": "stream",
     "text": [
      "/home/jovyan/work/2_Semester/Machine Learning/MLProjects/Proposal/ML_algorithms.py:34: UserWarning: Update your `Dense` call to the Keras 2 API: `Dense(1, activation=\"sigmoid\", kernel_initializer=\"he_uniform\")`\n",
      "  model.add(layers.Dense(1, activation=\"sigmoid\", init=init))\n"
     ]
    },
    {
     "name": "stdout",
     "output_type": "stream",
     "text": [
      "The initialization used is: he_uniform\n",
      "The optimizer used is: rmsprop\n",
      "The loss used is: mean_squared_error\n",
      "Seed: 4\n",
      "-----------------------------------------------------\n",
      "Accuracy 0.89\n",
      "Area under the curve 0.82\n",
      "Precision 0.64\n",
      "Recall 0.71\n",
      "Profit Share 0.56\n"
     ]
    }
   ],
   "source": [
    "initializations_list = [\"uniform\",\"lecun_uniform\",\"zero\",\"one\",\"glorot_normal\",\"glorot_uniform\",\"he_normal\",\"he_uniform\"]\n",
    "optimizers_list = [\"adam\",\"rmsprop\"]\n",
    "loss_list = [\"binary_crossentropy\",\"mean_squared_error\"]\n",
    "seeds = [0,1,2,3,4]\n",
    "\n",
    "for i in  initializations_list:\n",
    "    for j in optimizers_list:\n",
    "        for n in loss_list:\n",
    "            for z in seeds:\n",
    "                model = KerasNN(X_train, X_test, y_train, y_test, input_dim=27,optimizer=j,loss=n,init=i,random_state=z)\n",
    "                print(\"The initialization used is:\", i)\n",
    "                print(\"The optimizer used is:\", j)\n",
    "                print(\"The loss used is:\", n)\n",
    "                print(\"Seed:\", z)\n",
    "                print(\"-----------------------------------------------------\")\n",
    "                #utils.NN_evaluation(model, X_test, y_test)\n",
    "\n",
    "                output_list = [i,j,n,utils.NN_evaluation(model, X_test, y_test)]\n",
    "                output = open(\"Keras_Neural_Net_Results.txt\", \"a\")\n",
    "                output.write(str(output_list))\n",
    "                output.close()"
   ]
  },
  {
   "cell_type": "markdown",
   "metadata": {},
   "source": [
    "## Oversampling on NN"
   ]
  },
  {
   "cell_type": "code",
   "execution_count": null,
   "metadata": {},
   "outputs": [],
   "source": [
    "from imblearn import over_sampling"
   ]
  },
  {
   "cell_type": "code",
   "execution_count": null,
   "metadata": {},
   "outputs": [],
   "source": [
    "ros = over_sampling.RandomOverSampler(random_state=seed, ratio=0.5)\n",
    "resamp_x, resamp_y= ros.fit_resample(X_train, y_train)"
   ]
  },
  {
   "cell_type": "code",
   "execution_count": null,
   "metadata": {},
   "outputs": [],
   "source": [
    "oversampling_model = KerasNN(resamp_x, X_test, resamp_y, y_test, input_dim=30,init=\"he_normal\")\n",
    "\n",
    "utils.NN_evaluation(oversampling_model, X_test, y_test)"
   ]
  },
  {
   "cell_type": "code",
   "execution_count": null,
   "metadata": {},
   "outputs": [],
   "source": [
    "ada = over_sampling.ADASYN(random_state=seed, ratio=0.7)\n",
    "resamp_x, resamp_y= ada.fit_resample(X_train, y_train)"
   ]
  },
  {
   "cell_type": "code",
   "execution_count": null,
   "metadata": {},
   "outputs": [],
   "source": [
    "oversampling_model = KerasNN(resamp_x, X_test, resamp_y, y_test, input_dim=30,init=\"he_normal\")\n",
    "\n",
    "utils.NN_evaluation(oversampling_model, X_test, y_test)"
   ]
  },
  {
   "cell_type": "code",
   "execution_count": null,
   "metadata": {},
   "outputs": [],
   "source": [
    "smo = over_sampling.SMOTE(random_state=seed, ratio=0.5)\n",
    "resamp_x, resamp_y= smo.fit_resample(X_train, y_train)"
   ]
  },
  {
   "cell_type": "code",
   "execution_count": null,
   "metadata": {},
   "outputs": [],
   "source": [
    "oversampling_model = KerasNN(resamp_x, X_test, resamp_y, y_test, input_dim=30,init=\"he_normal\")\n",
    "\n",
    "utils.NN_evaluation(oversampling_model, X_test, y_test)"
   ]
  },
  {
   "cell_type": "markdown",
   "metadata": {},
   "source": [
    "## Undersampling on NN"
   ]
  },
  {
   "cell_type": "code",
   "execution_count": null,
   "metadata": {},
   "outputs": [],
   "source": [
    "from imblearn import under_sampling"
   ]
  },
  {
   "cell_type": "code",
   "execution_count": null,
   "metadata": {},
   "outputs": [],
   "source": [
    "rus = under_sampling.RandomUnderSampler(random_state=seed)\n",
    "resamp_x, resamp_y= rus.fit_resample(X_train, y_train)"
   ]
  },
  {
   "cell_type": "code",
   "execution_count": null,
   "metadata": {},
   "outputs": [],
   "source": [
    "oversampling_model = KerasNN(resamp_x, X_test, resamp_y, y_test, input_dim=30,init=\"he_normal\")\n",
    "\n",
    "utils.NN_evaluation(oversampling_model, X_test, y_test)"
   ]
  },
  {
   "cell_type": "code",
   "execution_count": null,
   "metadata": {},
   "outputs": [],
   "source": [
    "tom = under_sampling.TomekLinks(random_state=seed)\n",
    "resamp_x, resamp_y= tom.fit_resample(X_train, y_train)"
   ]
  },
  {
   "cell_type": "code",
   "execution_count": null,
   "metadata": {},
   "outputs": [],
   "source": [
    "oversampling_model = KerasNN(resamp_x, X_test, resamp_y, y_test, input_dim=30,init=\"he_normal\")\n",
    "\n",
    "utils.NN_evaluation(oversampling_model, X_test, y_test)"
   ]
  },
  {
   "cell_type": "code",
   "execution_count": null,
   "metadata": {},
   "outputs": [],
   "source": [
    "aknn = under_sampling.AllKNN(random_state=seed, n_neighbors=5)\n",
    "resamp_x, resamp_y= aknn.fit_resample(X_train, y_train)"
   ]
  },
  {
   "cell_type": "code",
   "execution_count": null,
   "metadata": {},
   "outputs": [],
   "source": [
    "oversampling_model = KerasNN(resamp_x, X_test, resamp_y, y_test, input_dim=30,init=\"he_normal\")\n",
    "\n",
    "utils.NN_evaluation(oversampling_model, X_test, y_test)"
   ]
  },
  {
   "cell_type": "code",
   "execution_count": null,
   "metadata": {},
   "outputs": [],
   "source": [
    "enn = under_sampling.EditedNearestNeighbours(random_state=seed, n_neighbors=3)\n",
    "resamp_x, resamp_y= enn.fit_resample(X_train, y_train)"
   ]
  },
  {
   "cell_type": "code",
   "execution_count": null,
   "metadata": {},
   "outputs": [],
   "source": [
    "oversampling_model = KerasNN(resamp_x, X_test, resamp_y, y_test, input_dim=30,init=\"he_normal\")\n",
    "\n",
    "utils.NN_evaluation(oversampling_model, X_test, y_test)"
   ]
  },
  {
   "cell_type": "markdown",
   "metadata": {},
   "source": [
    "## Combined Methods"
   ]
  },
  {
   "cell_type": "code",
   "execution_count": null,
   "metadata": {},
   "outputs": [],
   "source": [
    "from imblearn import combine"
   ]
  },
  {
   "cell_type": "code",
   "execution_count": null,
   "metadata": {},
   "outputs": [],
   "source": [
    "smotom = combine.SMOTETomek(random_state=seed, ratio=0.8)\n",
    "resamp_x, resamp_y= smotom.fit_resample(X_train, y_train)"
   ]
  },
  {
   "cell_type": "code",
   "execution_count": null,
   "metadata": {},
   "outputs": [],
   "source": [
    "oversampling_model = KerasNN(resamp_x, X_test, resamp_y, y_test, input_dim=30,init=\"he_normal\")\n",
    "\n",
    "utils.NN_evaluation(oversampling_model, X_test, y_test)"
   ]
  },
  {
   "cell_type": "code",
   "execution_count": null,
   "metadata": {},
   "outputs": [],
   "source": [
    "smotenn = combine.SMOTEENN(random_state=seed, ratio=0.8)\n",
    "resamp_x, resamp_y= smotenn.fit_resample(X_train, y_train)"
   ]
  },
  {
   "cell_type": "code",
   "execution_count": null,
   "metadata": {},
   "outputs": [],
   "source": [
    "oversampling_model = KerasNN(resamp_x, X_test, resamp_y, y_test, input_dim=30,init=\"he_normal\")\n",
    "\n",
    "utils.NN_evaluation(oversampling_model, X_test, y_test)"
   ]
  },
  {
   "cell_type": "code",
   "execution_count": null,
   "metadata": {},
   "outputs": [],
   "source": [
    "from nltk.classify.scikitlearn import SklearnClassifier\n",
    "from sklearn.naive_bayes import MultinomialNB, GaussianNB, BernoulliNB, ComplementNB\n",
    "from sklearn.linear_model import LogisticRegression, SGDClassifier\n",
    "from sklearn.svm import SVC, LinearSVC, NuSVC\n",
    "from sklearn.preprocessing import MinMaxScaler"
   ]
  },
  {
   "cell_type": "code",
   "execution_count": null,
   "metadata": {},
   "outputs": [],
   "source": [
    "def Gaussian_NB(X_train, X_test, y_train, y_test):\n",
    "    scaler = MinMaxScaler()\n",
    "    # Only fit the training data\n",
    "    X_train = scaler.fit_transform(X_train)\n",
    "    X_test = scaler.transform(X_test)\n",
    "    \n",
    "    gnb = GaussianNB()\n",
    "    gnb.fit(X_train, y_train)\n",
    "    y_pred = gnb.predict(X_test)\n",
    "    \n",
    "    print(\"Accuracy {:1.2f}\".format(utils.calculate_accuracy(y_pred, y_test)))\n",
    "    print(\"Area under the curve {:1.2f}\".format(utils.calculate_auc(y_pred, y_test)))\n",
    "    print(\"Precision {:1.2f}\".format(utils.calculate_precision_score(y_pred, y_test)))\n",
    "    print(\"Recall {:1.2f}\".format(utils.calculate_recall_score(y_pred, y_test)))\n",
    "    print(\"Profit Share {:1.2f}\".format(utils.profit_share(y_pred, y_test)))\n",
    "    return utils.profit_share(y_pred, y_test)"
   ]
  },
  {
   "cell_type": "code",
   "execution_count": null,
   "metadata": {},
   "outputs": [],
   "source": [
    "def Multinomial_NB(X_train, X_test, y_train, y_test):\n",
    "    scaler = MinMaxScaler()\n",
    "    # Only fit the training data\n",
    "    X_train = scaler.fit_transform(X_train)\n",
    "    X_test = scaler.transform(X_test)\n",
    "    \n",
    "    mnb = MultinomialNB()\n",
    "    mnb.fit(X_train, y_train)\n",
    "    y_pred = mnb.predict(X_test)\n",
    "    return utils.profit_share(y_pred, y_test)\n",
    "    return mnb"
   ]
  },
  {
   "cell_type": "code",
   "execution_count": null,
   "metadata": {},
   "outputs": [],
   "source": [
    "def Complement_NB(X_train, X_test, y_train, y_test):\n",
    "    cnb = ComplementNB()\n",
    "    cnb.\n",
    "    cnb.fit(X_train, y_train)\n",
    "    y_pred = cnb.predict(X_test)\n",
    "    return utils.profit_share(y_pred, y_test)"
   ]
  },
  {
   "cell_type": "code",
   "execution_count": null,
   "metadata": {},
   "outputs": [],
   "source": [
    "def Bernoulli_NB(X_train, X_test, y_train, y_test):\n",
    "    scaler = MinMaxScaler()\n",
    "    # Only fit the training data\n",
    "    X_train = scaler.fit_transform(X_train)\n",
    "    X_test = scaler.transform(X_test)\n",
    "    \n",
    "    bnb = BernoulliNB()\n",
    "    bnb.fit(X_train, y_train)\n",
    "    y_pred = bnb.predict(X_test)\n",
    "    return utils.profit_share(y_pred, y_test)"
   ]
  }
 ],
 "metadata": {
  "kernelspec": {
   "display_name": "Python 3",
   "language": "python",
   "name": "python3"
  },
  "language_info": {
   "codemirror_mode": {
    "name": "ipython",
    "version": 3
   },
   "file_extension": ".py",
   "mimetype": "text/x-python",
   "name": "python",
   "nbconvert_exporter": "python",
   "pygments_lexer": "ipython3",
   "version": "3.7.1"
  }
 },
 "nbformat": 4,
 "nbformat_minor": 2
}
